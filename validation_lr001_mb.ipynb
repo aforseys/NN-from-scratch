{
 "cells": [
  {
   "attachments": {},
   "cell_type": "markdown",
   "metadata": {},
   "source": [
    "# Validating NN Model\n",
    "\n",
    "Using validation curves to validate the model performance "
   ]
  },
  {
   "cell_type": "code",
   "execution_count": 17,
   "metadata": {},
   "outputs": [],
   "source": [
    "import activation_functions\n",
    "import loss_functions\n",
    "import process_MNIST\n",
    "from init_NN_val import NeuralNetwork\n",
    "from scipy import stats\n",
    "import numpy as np\n",
    "import matplotlib.pyplot as plt\n",
    "\n",
    "#local path to files \n",
    "training_images_path =  'training_data/train-images.idx3-ubyte'\n",
    "training_labels_path =  'training_data/train-labels.idx1-ubyte'\n",
    "test_images_path = 'test_data/t10k-images.idx3-ubyte'\n",
    "test_labels_path =  'test_data/t10k-labels.idx1-ubyte'\n",
    "\n",
    "\n",
    "#Loads MNIST data files. Assumes unzipped idx files avilable at: http://yann.lecun.com/exdb/mnist/\n",
    "training_images, training_labels = process_MNIST.load_data(training_images_path, training_labels_path)\n",
    "test_images, test_labels = process_MNIST.load_data(test_images_path, test_labels_path)"
   ]
  },
  {
   "attachments": {},
   "cell_type": "markdown",
   "metadata": {},
   "source": [
    "Testing Model with Learning Rate 0.001 using Stochastic Gradient Descent"
   ]
  },
  {
   "cell_type": "code",
   "execution_count": 18,
   "metadata": {},
   "outputs": [
    {
     "name": "stderr",
     "output_type": "stream",
     "text": [
      "100%|██████████| 938/938 [00:32<00:00, 28.54it/s]\n",
      " 10%|█         | 1/10 [00:32<04:56, 32.97s/it]"
     ]
    },
    {
     "name": "stdout",
     "output_type": "stream",
     "text": [
      "epoch loss:  64.80913622201514\n"
     ]
    },
    {
     "name": "stderr",
     "output_type": "stream",
     "text": [
      "100%|██████████| 938/938 [00:28<00:00, 32.57it/s]\n",
      " 20%|██        | 2/10 [01:01<04:04, 30.59s/it]"
     ]
    },
    {
     "name": "stdout",
     "output_type": "stream",
     "text": [
      "epoch loss:  18.454900904189387\n"
     ]
    },
    {
     "name": "stderr",
     "output_type": "stream",
     "text": [
      "100%|██████████| 938/938 [00:28<00:00, 32.77it/s]\n",
      " 30%|███       | 3/10 [01:30<03:28, 29.75s/it]"
     ]
    },
    {
     "name": "stdout",
     "output_type": "stream",
     "text": [
      "epoch loss:  12.117651362897325\n"
     ]
    },
    {
     "name": "stderr",
     "output_type": "stream",
     "text": [
      "100%|██████████| 938/938 [00:39<00:00, 23.60it/s]\n",
      " 40%|████      | 4/10 [02:10<03:22, 33.75s/it]"
     ]
    },
    {
     "name": "stdout",
     "output_type": "stream",
     "text": [
      "epoch loss:  8.906561002587205\n"
     ]
    },
    {
     "name": "stderr",
     "output_type": "stream",
     "text": [
      "100%|██████████| 938/938 [01:05<00:00, 14.25it/s]\n",
      " 50%|█████     | 5/10 [03:16<03:47, 45.41s/it]"
     ]
    },
    {
     "name": "stdout",
     "output_type": "stream",
     "text": [
      "epoch loss:  6.807131257587772\n"
     ]
    },
    {
     "name": "stderr",
     "output_type": "stream",
     "text": [
      "100%|██████████| 938/938 [01:16<00:00, 12.23it/s]\n",
      " 60%|██████    | 6/10 [04:33<03:44, 56.10s/it]"
     ]
    },
    {
     "name": "stdout",
     "output_type": "stream",
     "text": [
      "epoch loss:  5.35238345201723\n"
     ]
    },
    {
     "name": "stderr",
     "output_type": "stream",
     "text": [
      "100%|██████████| 938/938 [00:47<00:00, 19.78it/s]\n",
      " 70%|███████   | 7/10 [05:21<02:39, 53.33s/it]"
     ]
    },
    {
     "name": "stdout",
     "output_type": "stream",
     "text": [
      "epoch loss:  4.263733062435945\n"
     ]
    },
    {
     "name": "stderr",
     "output_type": "stream",
     "text": [
      "100%|██████████| 938/938 [00:35<00:00, 26.12it/s]\n",
      " 80%|████████  | 8/10 [05:57<01:35, 47.82s/it]"
     ]
    },
    {
     "name": "stdout",
     "output_type": "stream",
     "text": [
      "epoch loss:  3.483082036111909\n"
     ]
    },
    {
     "name": "stderr",
     "output_type": "stream",
     "text": [
      "100%|██████████| 938/938 [00:34<00:00, 26.98it/s]\n",
      " 90%|█████████ | 9/10 [06:32<00:43, 43.78s/it]"
     ]
    },
    {
     "name": "stdout",
     "output_type": "stream",
     "text": [
      "epoch loss:  2.919519700198496\n"
     ]
    },
    {
     "name": "stderr",
     "output_type": "stream",
     "text": [
      "100%|██████████| 938/938 [00:36<00:00, 25.64it/s]\n",
      "100%|██████████| 10/10 [07:08<00:00, 42.87s/it]\n"
     ]
    },
    {
     "name": "stdout",
     "output_type": "stream",
     "text": [
      "epoch loss:  2.5026841820826737\n",
      "Average cross entropy loss: 2.224441594463673\n",
      "Classification accuracy: 77.45%\n"
     ]
    }
   ],
   "source": [
    "#Define NN architecture. Input size (first layer) and output size (last layer) can't change.\n",
    "#Will have linear activation functions between each layer, and ReLU activation functions after \n",
    "#each linear activation function except between last hidden layer and output layer. \n",
    "lsize = [784, 128, 64, 10] #e.g. this structure will have 3 linear activation functions and 2 ReLU fcns\n",
    "lr = 0.001\n",
    "\n",
    "##initialize NN \n",
    "nn_lr001_sgd = NeuralNetwork(lsize, activation_functions.ReLU, activation_functions.dReLU, loss_functions.cross_entropy_w_softmax, loss_functions.dcross_entropy, lr)\n",
    "\n",
    "##train NN (example uses mini-batch)\n",
    "losses = nn_lr001_sgd.train(training_images, training_labels, epochs = 10, batch_size=64) #, debug=True, info_skip=1000)\n",
    "#gradient descent means batch size = # training samples (# steps you take = # epochs)\n",
    "#stochastic gradient descent means batch size = 1\n",
    "\n",
    "##test NN\n",
    "nn_lr001_sgd_cross_ent_error, nn_lr001_sgd_classification_error = nn_lr001_sgd.test(test_images, test_labels)"
   ]
  },
  {
   "cell_type": "code",
   "execution_count": 19,
   "metadata": {},
   "outputs": [
    {
     "data": {
      "image/png": "[encoded data removed]",
      "text/plain": [
       "<Figure size 640x480 with 1 Axes>"
      ]
     },
     "metadata": {},
     "output_type": "display_data"
    }
   ],
   "source": [
    "plt.plot(losses)\n",
    "plt.xlabel('Epoch')\n",
    "plt.ylabel('Cross Entropy Loss')\n",
    "plt.title('Cross Entropy Loss vs. Epoch with LR=0.001 and using Mini-batch=64')\n",
    "plt.show()"
   ]
  },
  {
   "cell_type": "code",
   "execution_count": 20,
   "metadata": {},
   "outputs": [
    {
     "name": "stdout",
     "output_type": "stream",
     "text": [
      "mean:  2.224441594463673\n",
      "median:  0.00136831814110167\n",
      "min:  -0.0\n",
      "max:  211.47479308334707\n",
      "variance:  60.630229004504805\n",
      "skewness:  8.742413379059736\n",
      "kurtosis:  129.20580290764266\n",
      "quartile:  [-0.00000000e+00  3.03722896e-09  1.36831814e-03  4.78518269e-01\n",
      "  5.98118440e+00]\n"
     ]
    }
   ],
   "source": [
    "error_summary = stats.describe(nn_lr001_sgd_cross_ent_error)\n",
    "print(\"mean: \", np.mean(nn_lr001_sgd_cross_ent_error))\n",
    "print(\"median: \", np.median(nn_lr001_sgd_cross_ent_error))\n",
    "print(\"min: \", np.min(nn_lr001_sgd_cross_ent_error))\n",
    "print(\"max: \", np.max(nn_lr001_sgd_cross_ent_error))\n",
    "print(\"variance: \", error_summary.variance)\n",
    "print(\"skewness: \", error_summary.skewness)\n",
    "print(\"kurtosis: \", error_summary.kurtosis)\n",
    "print(\"quartile: \", np.percentile(nn_lr001_sgd_cross_ent_error, q=[10, 25, 50, 75, 90]))\n",
    "# print(\"mean: \", np.median(test_loss))"
   ]
  },
  {
   "cell_type": "code",
   "execution_count": 21,
   "metadata": {},
   "outputs": [
    {
     "name": "stderr",
     "output_type": "stream",
     "text": [
      "  0%|          | 0/10 [00:00<?, ?it/s]"
     ]
    },
    {
     "name": "stdout",
     "output_type": "stream",
     "text": [
      "Epoch [1/10], Step [100/938], Loss: 2.3242\n"
     ]
    },
    {
     "name": "stderr",
     "output_type": "stream",
     "text": []
    },
    {
     "name": "stdout",
     "output_type": "stream",
     "text": [
      "Epoch [1/10], Step [200/938], Loss: 2.2915\n"
     ]
    },
    {
     "name": "stderr",
     "output_type": "stream",
     "text": []
    },
    {
     "name": "stdout",
     "output_type": "stream",
     "text": [
      "Epoch [1/10], Step [300/938], Loss: 2.3152\n"
     ]
    },
    {
     "name": "stderr",
     "output_type": "stream",
     "text": []
    },
    {
     "name": "stdout",
     "output_type": "stream",
     "text": [
      "Epoch [1/10], Step [400/938], Loss: 2.3205\n"
     ]
    },
    {
     "name": "stderr",
     "output_type": "stream",
     "text": [
      "\n"
     ]
    },
    {
     "name": "stdout",
     "output_type": "stream",
     "text": [
      "Epoch [1/10], Step [500/938], Loss: 2.2865\n"
     ]
    },
    {
     "name": "stderr",
     "output_type": "stream",
     "text": [
      "545it [00:02, 225.86it/s]\u001b[A"
     ]
    },
    {
     "name": "stdout",
     "output_type": "stream",
     "text": [
      "Epoch [1/10], Step [600/938], Loss: 2.2949\n"
     ]
    },
    {
     "name": "stderr",
     "output_type": "stream",
     "text": []
    },
    {
     "name": "stdout",
     "output_type": "stream",
     "text": [
      "Epoch [1/10], Step [700/938], Loss: 2.2996\n"
     ]
    },
    {
     "name": "stderr",
     "output_type": "stream",
     "text": []
    },
    {
     "name": "stdout",
     "output_type": "stream",
     "text": [
      "Epoch [1/10], Step [800/938], Loss: 2.2900\n"
     ]
    },
    {
     "name": "stderr",
     "output_type": "stream",
     "text": [
      "\n"
     ]
    },
    {
     "name": "stdout",
     "output_type": "stream",
     "text": [
      "Epoch [1/10], Step [900/938], Loss: 2.3004\n"
     ]
    },
    {
     "name": "stderr",
     "output_type": "stream",
     "text": [
      "938it [00:04, 198.36it/s]\u001b[A\n",
      " 10%|█         | 1/10 [00:04<00:42,  4.73s/it]"
     ]
    },
    {
     "name": "stdout",
     "output_type": "stream",
     "text": [
      "batch loss:  [2.2849137783050537, 2.3285305500030518, 2.3167574405670166, 2.302433490753174, 2.3167037963867188, 2.3171534538269043, 2.2865092754364014, 2.299799680709839, 2.2855567932128906, 2.2998318672180176, 2.297733783721924, 2.3039212226867676, 2.307218313217163, 2.3258817195892334, 2.3097407817840576, 2.3137383460998535, 2.3171331882476807, 2.307865858078003, 2.310908079147339, 2.286900520324707, 2.2833518981933594, 2.3018956184387207, 2.2961037158966064, 2.316088914871216, 2.3158276081085205, 2.2890732288360596, 2.295722246170044, 2.2998616695404053, 2.3005032539367676, 2.2981626987457275, 2.311629295349121, 2.278623104095459, 2.3073863983154297, 2.298220157623291, 2.3433308601379395, 2.319019079208374, 2.325094223022461, 2.3190622329711914, 2.3048038482666016, 2.3071463108062744, 2.2991926670074463, 2.313016176223755, 2.291625499725342, 2.286628246307373, 2.318115472793579, 2.291494607925415, 2.319493293762207, 2.311155319213867, 2.322350263595581, 2.3057727813720703, 2.3246119022369385, 2.2898547649383545, 2.293083667755127, 2.303091526031494, 2.295577049255371, 2.3199360370635986, 2.3252670764923096, 2.317627191543579, 2.3034169673919678, 2.2810347080230713, 2.3127450942993164, 2.3092870712280273, 2.3110718727111816, 2.349466562271118, 2.31180739402771, 2.2823829650878906, 2.307349920272827, 2.3277504444122314, 2.3265960216522217, 2.3259193897247314, 2.3325552940368652, 2.305241584777832, 2.285187244415283, 2.3168087005615234, 2.3104031085968018, 2.305448055267334, 2.298433542251587, 2.3283779621124268, 2.322749614715576, 2.3044607639312744, 2.3185040950775146, 2.32255220413208, 2.300062417984009, 2.311126232147217, 2.308953046798706, 2.304917812347412, 2.2989561557769775, 2.3049910068511963, 2.2959368228912354, 2.3076651096343994, 2.3131091594696045, 2.290693759918213, 2.3017361164093018, 2.319406509399414, 2.302473545074463, 2.285386800765991, 2.304628849029541, 2.309124708175659, 2.308974504470825, 2.3242290019989014, 2.3268678188323975, 2.307424545288086, 2.324537992477417, 2.317941427230835, 2.321180582046509, 2.3241984844207764, 2.293199300765991, 2.3011975288391113, 2.3087780475616455, 2.295239210128784, 2.3161141872406006, 2.3179433345794678, 2.311431884765625, 2.314697742462158, 2.3093600273132324, 2.311882734298706, 2.2993576526641846, 2.300830602645874, 2.319391965866089, 2.292707920074463, 2.3049988746643066, 2.3032288551330566, 2.310422897338867, 2.297842264175415, 2.3185391426086426, 2.314598798751831, 2.2999377250671387, 2.290513515472412, 2.309962272644043, 2.312274932861328, 2.2946040630340576, 2.3058531284332275, 2.302610397338867, 2.300532341003418, 2.2842400074005127, 2.312871217727661, 2.306950092315674, 2.2978622913360596, 2.2771079540252686, 2.2772629261016846, 2.2918431758880615, 2.3047678470611572, 2.29535174369812, 2.2908804416656494, 2.2906339168548584, 2.3148882389068604, 2.2836251258850098, 2.3065929412841797, 2.305183172225952, 2.327193260192871, 2.324577569961548, 2.2954447269439697, 2.327030897140503, 2.313798666000366, 2.325486660003662, 2.3060476779937744, 2.2730624675750732, 2.3060860633850098, 2.2778377532958984, 2.3289265632629395, 2.3072948455810547, 2.276247262954712, 2.3175978660583496, 2.303402900695801, 2.3148558139801025, 2.305138349533081, 2.326955556869507, 2.3041367530822754, 2.2839388847351074, 2.3080365657806396, 2.312913656234741, 2.3055906295776367, 2.314561605453491, 2.2965667247772217, 2.2862753868103027, 2.310154438018799, 2.2921791076660156, 2.306126117706299, 2.29961895942688, 2.2875566482543945, 2.2909038066864014, 2.310744524002075, 2.324634075164795, 2.323615074157715, 2.310361862182617, 2.3082478046417236, 2.2929630279541016, 2.2850112915039062, 2.322476625442505, 2.3068437576293945, 2.2986338138580322, 2.3115222454071045, 2.297091484069824, 2.298783302307129, 2.297013998031616, 2.2934136390686035, 2.287238359451294, 2.30755877494812, 2.2952823638916016, 2.2914822101593018, 2.294595718383789, 2.3044326305389404, 2.2975103855133057, 2.279871940612793, 2.294624090194702, 2.2986996173858643, 2.3228983879089355, 2.3190810680389404, 2.311070442199707, 2.3288402557373047, 2.2933506965637207, 2.2993085384368896, 2.309353828430176, 2.3003416061401367, 2.3239636421203613, 2.3478732109069824, 2.291022300720215, 2.2921864986419678, 2.2970755100250244, 2.300884246826172, 2.29622483253479, 2.314344644546509, 2.288865566253662, 2.303067207336426, 2.309588670730591, 2.3202314376831055, 2.307084083557129, 2.299208164215088, 2.292261838912964, 2.2930922508239746, 2.2867231369018555, 2.317033290863037, 2.2886672019958496, 2.2877166271209717, 2.3057146072387695, 2.330868721008301, 2.2929742336273193, 2.3168838024139404, 2.324321985244751, 2.303983449935913, 2.2935659885406494, 2.312252998352051, 2.2952778339385986, 2.3032610416412354, 2.2850232124328613, 2.3162472248077393, 2.309307813644409, 2.296494722366333, 2.302953004837036, 2.274549961090088, 2.282796859741211, 2.3098249435424805, 2.3008198738098145, 2.2842087745666504, 2.2987372875213623, 2.308906316757202, 2.314479112625122, 2.3054518699645996, 2.3209328651428223, 2.31715989112854, 2.301931619644165, 2.290041446685791, 2.3006019592285156, 2.294522523880005, 2.3192532062530518, 2.2863402366638184, 2.3066580295562744, 2.3009040355682373, 2.298264503479004, 2.3207685947418213, 2.314408540725708, 2.276733875274658, 2.3097054958343506, 2.3006410598754883, 2.3026680946350098, 2.3232877254486084, 2.29719614982605, 2.2952191829681396, 2.2979607582092285, 2.289860486984253, 2.3117880821228027, 2.3110265731811523, 2.301131248474121, 2.2987890243530273, 2.298738479614258, 2.295212745666504, 2.313359022140503, 2.2800309658050537, 2.313520908355713, 2.299624443054199, 2.27803111076355, 2.3000051975250244, 2.3163487911224365, 2.294036388397217, 2.290954828262329, 2.3057377338409424, 2.293959140777588, 2.3187618255615234, 2.3056681156158447, 2.315171480178833, 2.299311876296997, 2.3035383224487305, 2.2999818325042725, 2.3090310096740723, 2.2871458530426025, 2.283533811569214, 2.2859017848968506, 2.2969892024993896, 2.3156802654266357, 2.318833827972412, 2.317650318145752, 2.2942938804626465, 2.298990488052368, 2.3257834911346436, 2.305257558822632, 2.2956173419952393, 2.3134546279907227, 2.2998108863830566, 2.3262412548065186, 2.2990293502807617, 2.3033390045166016, 2.2889721393585205, 2.292733907699585, 2.301621675491333, 2.2955827713012695, 2.298985481262207, 2.29903507232666, 2.3080179691314697, 2.3233799934387207, 2.3031997680664062, 2.285123586654663, 2.3135933876037598, 2.304323434829712, 2.3014233112335205, 2.2933948040008545, 2.308973789215088, 2.3017303943634033, 2.3054020404815674, 2.28823184967041, 2.3140110969543457, 2.2875709533691406, 2.2998979091644287, 2.2919888496398926, 2.2926955223083496, 2.316847085952759, 2.293276786804199, 2.2868218421936035, 2.3043429851531982, 2.2930173873901367, 2.29057240486145, 2.3069422245025635, 2.300889253616333, 2.28342866897583, 2.3062191009521484, 2.2981834411621094, 2.305478572845459, 2.3014955520629883, 2.296388626098633, 2.2976129055023193, 2.2901835441589355, 2.2969210147857666, 2.3210363388061523, 2.337449073791504, 2.296438455581665, 2.3209006786346436, 2.2976255416870117, 2.2805659770965576, 2.2885897159576416, 2.281890869140625, 2.286407709121704, 2.2921905517578125, 2.3090245723724365, 2.2936511039733887, 2.272610664367676, 2.289534330368042, 2.291196823120117, 2.303694009780884, 2.2961928844451904, 2.2823522090911865, 2.3174474239349365, 2.3097310066223145, 2.2960636615753174, 2.3066275119781494, 2.310328483581543, 2.3088877201080322, 2.3163270950317383, 2.280622959136963, 2.2990736961364746, 2.2768635749816895, 2.286532163619995, 2.294372320175171, 2.283173084259033, 2.2953553199768066, 2.31258487701416, 2.2971696853637695, 2.2991483211517334, 2.292814254760742, 2.305368661880493, 2.2954535484313965, 2.320521593093872, 2.2840607166290283, 2.3151485919952393, 2.3048503398895264, 2.311021566390991, 2.295401096343994, 2.3150603771209717, 2.2831499576568604, 2.2873435020446777, 2.3044381141662598, 2.309091567993164, 2.304175853729248, 2.304119110107422, 2.2964277267456055, 2.283862590789795, 2.2934110164642334, 2.3048951625823975, 2.284116268157959, 2.280656337738037, 2.2867817878723145, 2.292022228240967, 2.2967588901519775, 2.299193859100342, 2.3224375247955322, 2.285254955291748, 2.293658494949341, 2.29045033454895, 2.283940553665161, 2.2926652431488037, 2.299400806427002, 2.2887256145477295, 2.2831199169158936, 2.291141986846924, 2.2847514152526855, 2.309058904647827, 2.3048996925354004, 2.2761409282684326, 2.290144205093384, 2.3145971298217773, 2.29960560798645, 2.299417734146118, 2.2808351516723633, 2.2841567993164062, 2.300222158432007, 2.291598320007324, 2.3119733333587646, 2.296093225479126, 2.2886831760406494, 2.280660629272461, 2.3032219409942627, 2.2795727252960205, 2.29907488822937, 2.3276829719543457, 2.289030075073242, 2.296766519546509, 2.310114860534668, 2.314586639404297, 2.2913732528686523, 2.2900583744049072, 2.2740862369537354, 2.2976903915405273, 2.281895160675049, 2.316681385040283, 2.282869338989258, 2.2914435863494873, 2.302149534225464, 2.3022661209106445, 2.319681167602539, 2.3061165809631348, 2.285384178161621, 2.2855465412139893, 2.2892374992370605, 2.299241542816162, 2.3040754795074463, 2.3067245483398438, 2.310314893722534, 2.32116961479187, 2.2931365966796875, 2.305659294128418, 2.2913315296173096, 2.29106068611145, 2.2944495677948, 2.309504508972168, 2.287841796875, 2.283806324005127, 2.294646739959717, 2.3038387298583984, 2.278815746307373, 2.3011882305145264, 2.2918941974639893, 2.3055522441864014, 2.292752504348755, 2.296142339706421, 2.284834623336792, 2.304320812225342, 2.2901949882507324, 2.298428535461426, 2.2927327156066895, 2.290064573287964, 2.313779592514038, 2.2865309715270996, 2.31319522857666, 2.279975652694702, 2.3101766109466553, 2.287977933883667, 2.2979254722595215, 2.2992379665374756, 2.2902777194976807, 2.292975664138794, 2.2989182472229004, 2.296653985977173, 2.281353235244751, 2.2880778312683105, 2.28788423538208, 2.299224615097046, 2.315812826156616, 2.302719831466675, 2.281078815460205, 2.2930831909179688, 2.2662875652313232, 2.3166630268096924, 2.290504217147827, 2.289656400680542, 2.30023455619812, 2.289548397064209, 2.2787115573883057, 2.2958199977874756, 2.2839696407318115, 2.2862961292266846, 2.277301788330078, 2.291975975036621, 2.2852237224578857, 2.2758560180664062, 2.2898151874542236, 2.285496950149536, 2.299121379852295, 2.319119691848755, 2.3079988956451416, 2.2950191497802734, 2.2827889919281006, 2.2897377014160156, 2.297062635421753, 2.2946693897247314, 2.2962045669555664, 2.280674457550049, 2.285269021987915, 2.289616107940674, 2.3104145526885986, 2.292069673538208, 2.299774408340454, 2.3003482818603516, 2.2832751274108887, 2.3024485111236572, 2.276392698287964, 2.2838454246520996, 2.2899363040924072, 2.267263412475586, 2.291848659515381, 2.2978100776672363, 2.307983636856079, 2.2752301692962646, 2.313692569732666, 2.300706386566162, 2.283674478530884, 2.317756414413452, 2.283644914627075, 2.2947778701782227, 2.2861075401306152, 2.3038384914398193, 2.286656618118286, 2.2914364337921143, 2.289355993270874, 2.2815463542938232, 2.3057076930999756, 2.287470579147339, 2.292381763458252, 2.2931790351867676, 2.28576922416687, 2.305617570877075, 2.308506488800049, 2.308793783187866, 2.3034722805023193, 2.295664072036743, 2.289079427719116, 2.2833948135375977, 2.2784805297851562, 2.274648666381836, 2.2836554050445557, 2.28444504737854, 2.276968002319336, 2.2868597507476807, 2.284043550491333, 2.2850682735443115, 2.2745256423950195, 2.3128838539123535, 2.290731430053711, 2.294360876083374, 2.284607172012329, 2.2841949462890625, 2.298346996307373, 2.294942855834961, 2.289541721343994, 2.2869608402252197, 2.2959976196289062, 2.308875799179077, 2.3104381561279297, 2.2944045066833496, 2.2949821949005127, 2.273207664489746, 2.3085901737213135, 2.2887001037597656, 2.3046295642852783, 2.283291816711426, 2.2985148429870605, 2.3039369583129883, 2.3142178058624268, 2.2912838459014893, 2.2690556049346924, 2.2720983028411865, 2.297693967819214, 2.2921178340911865, 2.2876861095428467, 2.291181802749634, 2.2771847248077393, 2.2850513458251953, 2.300091505050659, 2.297525405883789, 2.2633965015411377, 2.2957887649536133, 2.277070999145508, 2.276700973510742, 2.298264503479004, 2.30049467086792, 2.289783000946045, 2.284468650817871, 2.2875638008117676, 2.3004422187805176, 2.2840664386749268, 2.2868149280548096, 2.3038148880004883, 2.2919366359710693, 2.28403377532959, 2.294741630554199, 2.285101890563965, 2.2868359088897705, 2.2951996326446533, 2.2783443927764893, 2.280086040496826, 2.287766933441162, 2.307307720184326, 2.295673131942749, 2.2831530570983887, 2.287456750869751, 2.281627893447876, 2.2799158096313477, 2.2691941261291504, 2.2702245712280273, 2.285092353820801, 2.299694776535034, 2.2777721881866455, 2.2953336238861084, 2.279691457748413, 2.2687182426452637, 2.283266067504883, 2.2952091693878174, 2.2826881408691406, 2.2967042922973633, 2.2873904705047607, 2.2987513542175293, 2.3001174926757812, 2.2843172550201416, 2.2870676517486572, 2.283658981323242, 2.291036605834961, 2.2852773666381836, 2.285205364227295, 2.2883615493774414, 2.2868824005126953, 2.272566318511963, 2.299182653427124, 2.2961323261260986, 2.298612117767334, 2.30491304397583, 2.2787563800811768, 2.267354965209961, 2.2979772090911865, 2.293412923812866, 2.2898011207580566, 2.294710397720337, 2.3065459728240967, 2.2852909564971924, 2.295536994934082, 2.286931276321411, 2.29382061958313, 2.304837703704834, 2.301753520965576, 2.2787973880767822, 2.3055367469787598, 2.282691478729248, 2.296431303024292, 2.2995705604553223, 2.319683313369751, 2.2757859230041504, 2.289508581161499, 2.2835872173309326, 2.284555435180664, 2.2684407234191895, 2.2989554405212402, 2.2931313514709473, 2.2809698581695557, 2.2822985649108887, 2.2800588607788086, 2.3003244400024414, 2.29203724861145, 2.282731056213379, 2.2892367839813232, 2.2711679935455322, 2.2950427532196045, 2.2790205478668213, 2.3001492023468018, 2.292703151702881, 2.2822182178497314, 2.2936439514160156, 2.29306697845459, 2.308783769607544, 2.289067506790161, 2.2820801734924316, 2.2991926670074463, 2.2806968688964844, 2.284365177154541, 2.301048994064331, 2.291381597518921, 2.2816479206085205, 2.2847461700439453, 2.2794532775878906, 2.323683261871338, 2.274986982345581, 2.3084309101104736, 2.3072402477264404, 2.282566785812378, 2.2724225521087646, 2.288393020629883, 2.2837843894958496, 2.2654786109924316, 2.278273105621338, 2.3004043102264404, 2.286104202270508, 2.2890872955322266, 2.298572540283203, 2.2992355823516846, 2.286677598953247, 2.280498743057251, 2.278921604156494, 2.301234006881714, 2.278914213180542, 2.284522771835327, 2.3068413734436035, 2.275508165359497, 2.296631097793579, 2.277851104736328, 2.2819721698760986, 2.275338888168335, 2.286710500717163, 2.2652084827423096, 2.2793478965759277, 2.285071849822998, 2.313856601715088, 2.266026735305786, 2.283817768096924, 2.2877447605133057, 2.2713682651519775, 2.288550853729248, 2.310879707336426, 2.288729667663574, 2.280640125274658, 2.3109631538391113, 2.2833313941955566, 2.2901620864868164, 2.306166887283325, 2.2841975688934326, 2.2901079654693604, 2.3026645183563232, 2.288980722427368, 2.2829225063323975, 2.298973560333252, 2.3012797832489014, 2.2940866947174072, 2.2935750484466553, 2.2724452018737793, 2.2785773277282715, 2.299213409423828, 2.3173673152923584, 2.2785894870758057, 2.3032281398773193, 2.276099681854248, 2.288696050643921, 2.2812860012054443, 2.287729501724243, 2.2998225688934326, 2.287839651107788, 2.290041923522949, 2.2929575443267822, 2.2819061279296875, 2.2796554565429688, 2.2799034118652344, 2.281719923019409, 2.270251750946045, 2.299823045730591, 2.2801289558410645, 2.2932400703430176, 2.2817070484161377, 2.27913236618042, 2.303575277328491, 2.283541679382324, 2.276658296585083, 2.277073383331299, 2.2818186283111572, 2.2673375606536865, 2.2929880619049072, 2.283907175064087, 2.272573709487915, 2.270401954650879, 2.293813467025757, 2.2902815341949463, 2.3050484657287598, 2.2880289554595947, 2.3007090091705322, 2.271818161010742, 2.2844011783599854, 2.2882957458496094, 2.2872891426086426, 2.289229393005371, 2.287794351577759, 2.289625883102417, 2.284836530685425, 2.277419328689575, 2.2633345127105713, 2.272684097290039, 2.2803361415863037, 2.273362636566162, 2.270754337310791, 2.294508218765259, 2.2483837604522705, 2.2664079666137695, 2.28328013420105, 2.278555154800415, 2.305208921432495, 2.291212558746338, 2.30517840385437, 2.2861900329589844, 2.284438371658325, 2.267793893814087, 2.290189504623413, 2.28989577293396, 2.2923150062561035, 2.2737481594085693, 2.2919812202453613, 2.2813780307769775, 2.2872331142425537, 2.301278829574585, 2.2660815715789795, 2.2897865772247314, 2.2966361045837402, 2.277775287628174, 2.2862346172332764, 2.2988319396972656, 2.2844350337982178, 2.289738416671753, 2.2813854217529297, 2.2836220264434814, 2.2885148525238037, 2.288620948791504, 2.2946274280548096, 2.27728533744812, 2.308091878890991, 2.2868599891662598, 2.284886598587036, 2.281686305999756, 2.279580593109131, 2.266843557357788, 2.2703869342803955, 2.281528949737549, 2.2888681888580322, 2.2855024337768555, 2.2714929580688477, 2.2662763595581055, 2.287719249725342, 2.2852556705474854, 2.2918567657470703, 2.2870821952819824, 2.2825751304626465, 2.2815744876861572, 2.2726948261260986, 2.27931809425354, 2.2761292457580566, 2.2777509689331055, 2.283540964126587, 2.2748584747314453, 2.2752151489257812, 2.2863900661468506, 2.3004140853881836, 2.274566650390625, 2.2943131923675537, 2.2751810550689697, 2.2833917140960693, 2.2790722846984863, 2.2901105880737305, 2.279684543609619, 2.2820210456848145, 2.2818362712860107, 2.2681140899658203, 2.2676022052764893, 2.292495012283325, 2.2831170558929443, 2.292017698287964, 2.273571014404297, 2.2743968963623047, 2.273077964782715, 2.263411283493042, 2.256162405014038, 2.287069320678711, 2.2778799533843994, 2.286839723587036, 2.2843165397644043, 2.289362907409668, 2.2877886295318604, 2.2751269340515137, 2.272831916809082, 2.287001609802246, 2.273165702819824, 2.2710039615631104, 2.2819743156433105, 2.301797389984131, 2.2745940685272217, 2.2928574085235596, 2.291534900665283, 2.2798266410827637, 2.270921230316162, 2.281198740005493]\n",
      "epoch loss:  2.2955572643259696\n"
     ]
    },
    {
     "name": "stderr",
     "output_type": "stream",
     "text": []
    },
    {
     "name": "stdout",
     "output_type": "stream",
     "text": [
      "Epoch [2/10], Step [100/938], Loss: 2.2686\n"
     ]
    },
    {
     "name": "stderr",
     "output_type": "stream",
     "text": []
    },
    {
     "name": "stdout",
     "output_type": "stream",
     "text": [
      "Epoch [2/10], Step [200/938], Loss: 2.2660\n"
     ]
    },
    {
     "name": "stderr",
     "output_type": "stream",
     "text": [
      "\n"
     ]
    },
    {
     "name": "stdout",
     "output_type": "stream",
     "text": [
      "Epoch [2/10], Step [300/938], Loss: 2.2474\n"
     ]
    },
    {
     "name": "stderr",
     "output_type": "stream",
     "text": [
      "336it [00:01, 176.40it/s]\u001b[A"
     ]
    },
    {
     "name": "stdout",
     "output_type": "stream",
     "text": [
      "Epoch [2/10], Step [400/938], Loss: 2.2564\n"
     ]
    },
    {
     "name": "stderr",
     "output_type": "stream",
     "text": []
    },
    {
     "name": "stdout",
     "output_type": "stream",
     "text": [
      "Epoch [2/10], Step [500/938], Loss: 2.2726\n"
     ]
    },
    {
     "name": "stderr",
     "output_type": "stream",
     "text": []
    },
    {
     "name": "stdout",
     "output_type": "stream",
     "text": [
      "Epoch [2/10], Step [600/938], Loss: 2.2591\n"
     ]
    },
    {
     "name": "stderr",
     "output_type": "stream",
     "text": []
    },
    {
     "name": "stdout",
     "output_type": "stream",
     "text": [
      "Epoch [2/10], Step [700/938], Loss: 2.2569\n"
     ]
    },
    {
     "name": "stderr",
     "output_type": "stream",
     "text": [
      "\n"
     ]
    },
    {
     "name": "stdout",
     "output_type": "stream",
     "text": [
      "Epoch [2/10], Step [800/938], Loss: 2.2571\n"
     ]
    },
    {
     "name": "stderr",
     "output_type": "stream",
     "text": [
      "832it [00:04, 155.85it/s]\u001b[A"
     ]
    },
    {
     "name": "stdout",
     "output_type": "stream",
     "text": [
      "Epoch [2/10], Step [900/938], Loss: 2.2478\n"
     ]
    },
    {
     "name": "stderr",
     "output_type": "stream",
     "text": [
      "938it [00:05, 175.21it/s]\n",
      " 20%|██        | 2/10 [00:10<00:40,  5.10s/it]"
     ]
    },
    {
     "name": "stdout",
     "output_type": "stream",
     "text": [
      "batch loss:  [2.29175066947937, 2.280580997467041, 2.280390501022339, 2.2802836894989014, 2.2704131603240967, 2.2781360149383545, 2.2752835750579834, 2.273496150970459, 2.2782273292541504, 2.2914645671844482, 2.287757158279419, 2.2838633060455322, 2.279695987701416, 2.2854695320129395, 2.26454758644104, 2.2892422676086426, 2.294015645980835, 2.2774789333343506, 2.29830002784729, 2.287959098815918, 2.2763919830322266, 2.279435396194458, 2.3017420768737793, 2.2916572093963623, 2.266967296600342, 2.2828710079193115, 2.2776167392730713, 2.285207509994507, 2.2669451236724854, 2.2875137329101562, 2.27534556388855, 2.2705013751983643, 2.2688586711883545, 2.2823374271392822, 2.2662527561187744, 2.276519775390625, 2.275287628173828, 2.291424512863159, 2.278425931930542, 2.2863619327545166, 2.262239933013916, 2.2871882915496826, 2.3029301166534424, 2.2837226390838623, 2.27439284324646, 2.2767345905303955, 2.2801716327667236, 2.2748918533325195, 2.281205177307129, 2.2833688259124756, 2.2984960079193115, 2.292999029159546, 2.3027944564819336, 2.2634592056274414, 2.2824158668518066, 2.2912886142730713, 2.2867367267608643, 2.2817916870117188, 2.2829251289367676, 2.287266492843628, 2.26654052734375, 2.279606342315674, 2.252340078353882, 2.2805397510528564, 2.2908685207366943, 2.2901995182037354, 2.2679014205932617, 2.283601999282837, 2.294595718383789, 2.277392625808716, 2.266116142272949, 2.284543037414551, 2.2835304737091064, 2.284491777420044, 2.27907657623291, 2.2702293395996094, 2.2929558753967285, 2.2571563720703125, 2.2813634872436523, 2.295102596282959, 2.2883498668670654, 2.288384199142456, 2.2768428325653076, 2.2671549320220947, 2.2780375480651855, 2.2860703468322754, 2.2638280391693115, 2.274527072906494, 2.2730486392974854, 2.2662854194641113, 2.29489803314209, 2.2723634243011475, 2.275470495223999, 2.281172752380371, 2.2897257804870605, 2.281292676925659, 2.2586283683776855, 2.2702393531799316, 2.2805237770080566, 2.2686073780059814, 2.283961296081543, 2.2878153324127197, 2.2915232181549072, 2.282180070877075, 2.2709157466888428, 2.278390407562256, 2.2955322265625, 2.2770462036132812, 2.2617568969726562, 2.272977113723755, 2.268824338912964, 2.26993465423584, 2.2651262283325195, 2.283541679382324, 2.2830886840820312, 2.2905008792877197, 2.285132646560669, 2.2877843379974365, 2.30615234375, 2.30108642578125, 2.2591500282287598, 2.2651312351226807, 2.2679901123046875, 2.2820844650268555, 2.281489133834839, 2.2733452320098877, 2.266606330871582, 2.260939598083496, 2.2831084728240967, 2.2822775840759277, 2.2894420623779297, 2.2806503772735596, 2.2880303859710693, 2.2782888412475586, 2.274182081222534, 2.2810704708099365, 2.272256851196289, 2.273437976837158, 2.273446559906006, 2.264461040496826, 2.266166925430298, 2.281346559524536, 2.262000322341919, 2.270357847213745, 2.2749521732330322, 2.2737536430358887, 2.282989025115967, 2.281653642654419, 2.271965503692627, 2.2732934951782227, 2.2723679542541504, 2.277383804321289, 2.285601854324341, 2.2893378734588623, 2.2815940380096436, 2.2690179347991943, 2.268399953842163, 2.2764105796813965, 2.2554545402526855, 2.278978109359741, 2.2817161083221436, 2.262706756591797, 2.2638895511627197, 2.2550508975982666, 2.286243200302124, 2.2761070728302, 2.2778844833374023, 2.292306900024414, 2.2589409351348877, 2.2808406352996826, 2.276041269302368, 2.2931013107299805, 2.293710470199585, 2.272380828857422, 2.273144483566284, 2.2742738723754883, 2.2672057151794434, 2.285240888595581, 2.2898151874542236, 2.2797389030456543, 2.2753729820251465, 2.271390676498413, 2.259263277053833, 2.27864670753479, 2.275663137435913, 2.273257255554199, 2.2744219303131104, 2.2627642154693604, 2.286424160003662, 2.255211591720581, 2.2861111164093018, 2.2846293449401855, 2.2595088481903076, 2.2860851287841797, 2.272088050842285, 2.2980093955993652, 2.282064437866211, 2.279123544692993, 2.2933132648468018, 2.2659835815429688, 2.2862823009490967, 2.285377264022827, 2.2679851055145264, 2.259734869003296, 2.286550283432007, 2.2895865440368652, 2.274223566055298, 2.2729320526123047, 2.288318634033203, 2.2654223442077637, 2.2830348014831543, 2.2721540927886963, 2.2818074226379395, 2.261357545852661, 2.2719781398773193, 2.269482374191284, 2.2811574935913086, 2.2719504833221436, 2.256608247756958, 2.2714128494262695, 2.2747678756713867, 2.2672417163848877, 2.287993907928467, 2.2784693241119385, 2.296401262283325, 2.264082908630371, 2.2698898315429688, 2.2602596282958984, 2.2526164054870605, 2.2791411876678467, 2.2659687995910645, 2.27217435836792, 2.2665467262268066, 2.2652642726898193, 2.2833075523376465, 2.2815141677856445, 2.266718626022339, 2.279503107070923, 2.282865285873413, 2.275604248046875, 2.288912773132324, 2.30055570602417, 2.2607367038726807, 2.250281810760498, 2.2755286693573, 2.2690069675445557, 2.2745954990386963, 2.2762110233306885, 2.2707228660583496, 2.2760705947875977, 2.287288188934326, 2.2728257179260254, 2.2662832736968994, 2.284609317779541, 2.27915096282959, 2.278210163116455, 2.2710206508636475, 2.2716381549835205, 2.2790112495422363, 2.2729365825653076, 2.2734923362731934, 2.280688762664795, 2.2872323989868164, 2.2715630531311035, 2.2784883975982666, 2.2770166397094727, 2.283015012741089, 2.2737114429473877, 2.263995409011841, 2.277838706970215, 2.272258758544922, 2.2815651893615723, 2.270341634750366, 2.2700929641723633, 2.279252529144287, 2.2503561973571777, 2.2765462398529053, 2.2747244834899902, 2.2760183811187744, 2.270399332046509, 2.260024070739746, 2.2712669372558594, 2.284006357192993, 2.2821102142333984, 2.280280590057373, 2.2629008293151855, 2.2794666290283203, 2.2681145668029785, 2.2742457389831543, 2.2780563831329346, 2.2813243865966797, 2.2535171508789062, 2.2459828853607178, 2.2651963233947754, 2.2653658390045166, 2.279686450958252, 2.274428367614746, 2.2891695499420166, 2.2824201583862305, 2.2474441528320312, 2.26153826713562, 2.283672571182251, 2.2781693935394287, 2.268331527709961, 2.2936720848083496, 2.2808680534362793, 2.2838492393493652, 2.2547359466552734, 2.286823034286499, 2.2696597576141357, 2.26743483543396, 2.2698235511779785, 2.2725653648376465, 2.2566726207733154, 2.2680134773254395, 2.2749719619750977, 2.2711992263793945, 2.268141746520996, 2.2672104835510254, 2.2684149742126465, 2.268545389175415, 2.2800261974334717, 2.2840006351470947, 2.2648134231567383, 2.2567574977874756, 2.2638516426086426, 2.2686212062835693, 2.2726235389709473, 2.2810261249542236, 2.2694966793060303, 2.269282102584839, 2.2922842502593994, 2.255300283432007, 2.2814342975616455, 2.260906219482422, 2.2770862579345703, 2.2616076469421387, 2.2710745334625244, 2.2626330852508545, 2.274170398712158, 2.2801175117492676, 2.2769012451171875, 2.2680180072784424, 2.281158924102783, 2.266052722930908, 2.2694013118743896, 2.26908278465271, 2.284013032913208, 2.272223711013794, 2.2722928524017334, 2.2783608436584473, 2.2716333866119385, 2.2607421875, 2.288261890411377, 2.2723004817962646, 2.268160581588745, 2.262742280960083, 2.277255058288574, 2.2777581214904785, 2.2677226066589355, 2.269345998764038, 2.277959108352661, 2.2603354454040527, 2.261322498321533, 2.262993574142456, 2.2667267322540283, 2.2877018451690674, 2.270068645477295, 2.2788069248199463, 2.262209892272949, 2.261087417602539, 2.2808918952941895, 2.2917120456695557, 2.261153221130371, 2.269700765609741, 2.269273281097412, 2.2777771949768066, 2.2674875259399414, 2.269984483718872, 2.261383056640625, 2.2683634757995605, 2.2744081020355225, 2.270604133605957, 2.2626569271087646, 2.268686056137085, 2.285754680633545, 2.2564098834991455, 2.250195026397705, 2.272019863128662, 2.2657265663146973, 2.291182041168213, 2.270869255065918, 2.2721166610717773, 2.281123399734497, 2.27518892288208, 2.252746105194092, 2.2703232765197754, 2.2797019481658936, 2.281724214553833, 2.2564027309417725, 2.2608449459075928, 2.2782249450683594, 2.283926010131836, 2.2612392902374268, 2.273348569869995, 2.2558014392852783, 2.283723831176758, 2.2717041969299316, 2.2648539543151855, 2.2571980953216553, 2.266125202178955, 2.264036178588867, 2.272019147872925, 2.2633957862854004, 2.2653756141662598, 2.2600677013397217, 2.2732043266296387, 2.2699615955352783, 2.2767903804779053, 2.2712926864624023, 2.283083915710449, 2.2702481746673584, 2.2601537704467773, 2.2733707427978516, 2.2592456340789795, 2.2696919441223145, 2.2550485134124756, 2.278271436691284, 2.2529540061950684, 2.2521543502807617, 2.2736446857452393, 2.2530484199523926, 2.275783061981201, 2.2639451026916504, 2.287644624710083, 2.283128261566162, 2.246809720993042, 2.2673962116241455, 2.2661404609680176, 2.2579641342163086, 2.284580707550049, 2.270162582397461, 2.241374969482422, 2.255995035171509, 2.2637810707092285, 2.252589702606201, 2.276472806930542, 2.275135040283203, 2.260007381439209, 2.2583014965057373, 2.2583625316619873, 2.273338794708252, 2.2553274631500244, 2.2863125801086426, 2.272557497024536, 2.263514757156372, 2.276122808456421, 2.2758402824401855, 2.263079881668091, 2.2471766471862793, 2.2677786350250244, 2.2762269973754883, 2.258683681488037, 2.2550549507141113, 2.2666988372802734, 2.25724720954895, 2.269197463989258, 2.2592010498046875, 2.280697822570801, 2.2721567153930664, 2.2611613273620605, 2.251542329788208, 2.284432888031006, 2.2594730854034424, 2.259333848953247, 2.272142171859741, 2.2798445224761963, 2.2685282230377197, 2.2558536529541016, 2.269368886947632, 2.279172658920288, 2.276871919631958, 2.263105630874634, 2.270033121109009, 2.247513771057129, 2.2703545093536377, 2.2686665058135986, 2.2735378742218018, 2.2824020385742188, 2.2508840560913086, 2.271604061126709, 2.2605340480804443, 2.2723822593688965, 2.272704601287842, 2.262441873550415, 2.253704071044922, 2.2740912437438965, 2.2737624645233154, 2.2735748291015625, 2.272576332092285, 2.25347900390625, 2.263582468032837, 2.25874400138855, 2.2835419178009033, 2.2554163932800293, 2.2749552726745605, 2.2654149532318115, 2.2657501697540283, 2.262178897857666, 2.256274938583374, 2.253872871398926, 2.2640719413757324, 2.264843225479126, 2.268958806991577, 2.2616639137268066, 2.2605140209198, 2.2712459564208984, 2.2608089447021484, 2.264556884765625, 2.262723207473755, 2.2550766468048096, 2.278285026550293, 2.2412235736846924, 2.2642786502838135, 2.2681798934936523, 2.2631566524505615, 2.2634260654449463, 2.256401300430298, 2.2529454231262207, 2.2674262523651123, 2.2721903324127197, 2.2513320446014404, 2.277413845062256, 2.248382806777954, 2.2633819580078125, 2.2580487728118896, 2.2436392307281494, 2.270486354827881, 2.2767367362976074, 2.261929988861084, 2.2714405059814453, 2.273615598678589, 2.2550485134124756, 2.2625465393066406, 2.2678818702697754, 2.2746500968933105, 2.273686408996582, 2.266720771789551, 2.256699800491333, 2.264364719390869, 2.2673115730285645, 2.249535322189331, 2.2796499729156494, 2.2743277549743652, 2.261420726776123, 2.2638821601867676, 2.25258731842041, 2.271629810333252, 2.2662909030914307, 2.2619831562042236, 2.2850069999694824, 2.2679905891418457, 2.265439510345459, 2.2665131092071533, 2.270927906036377, 2.2764370441436768, 2.256464958190918, 2.2576730251312256, 2.2578248977661133, 2.2457497119903564, 2.266832113265991, 2.265230894088745, 2.259901285171509, 2.261868953704834, 2.255495071411133, 2.2735610008239746, 2.2405502796173096, 2.265742778778076, 2.2574362754821777, 2.2817673683166504, 2.2619946002960205, 2.2501420974731445, 2.251589059829712, 2.2652788162231445, 2.2618656158447266, 2.2728111743927, 2.2627298831939697, 2.28129243850708, 2.2704286575317383, 2.249812364578247, 2.27061128616333, 2.2671003341674805, 2.257233142852783, 2.2580301761627197, 2.258657217025757, 2.2495787143707275, 2.2895798683166504, 2.2427122592926025, 2.275184392929077, 2.259124517440796, 2.2825255393981934, 2.2608444690704346, 2.2470779418945312, 2.2713475227355957, 2.255704879760742, 2.2476565837860107, 2.2740676403045654, 2.2615549564361572, 2.264512062072754, 2.2452943325042725, 2.2581710815429688, 2.24240779876709, 2.2744109630584717, 2.2649354934692383, 2.2716453075408936, 2.2620930671691895, 2.267512083053589, 2.2818403244018555, 2.2533133029937744, 2.252779245376587, 2.252598524093628, 2.246021270751953, 2.2668538093566895, 2.259875535964966, 2.2761332988739014, 2.2728569507598877, 2.271555185317993, 2.2616894245147705, 2.2688755989074707, 2.2534594535827637, 2.27673602104187, 2.2628376483917236, 2.2464945316314697, 2.270819664001465, 2.2564737796783447, 2.2588696479797363, 2.2568044662475586, 2.260397434234619, 2.257073163986206, 2.2405641078948975, 2.273061513900757, 2.259955644607544, 2.2685160636901855, 2.267338275909424, 2.2744014263153076, 2.272726058959961, 2.2535672187805176, 2.2638206481933594, 2.257521629333496, 2.257120370864868, 2.264573097229004, 2.2613630294799805, 2.2405622005462646, 2.2617087364196777, 2.264585256576538, 2.247352361679077, 2.273730516433716, 2.260756492614746, 2.2571804523468018, 2.2515180110931396, 2.250849723815918, 2.2701148986816406, 2.277411699295044, 2.2658793926239014, 2.264592170715332, 2.2642223834991455, 2.2692575454711914, 2.2548322677612305, 2.2591652870178223, 2.265573263168335, 2.2834291458129883, 2.256326198577881, 2.2402548789978027, 2.2546656131744385, 2.2844672203063965, 2.27759051322937, 2.276066541671753, 2.258025884628296, 2.268137216567993, 2.26013445854187, 2.276115894317627, 2.2583885192871094, 2.2806835174560547, 2.250776529312134, 2.2775206565856934, 2.264206647872925, 2.240858554840088, 2.24822998046875, 2.2631595134735107, 2.260416269302368, 2.2529337406158447, 2.2613203525543213, 2.2616689205169678, 2.2449209690093994, 2.2491016387939453, 2.242015838623047, 2.24045991897583, 2.25837779045105, 2.2647650241851807, 2.256855010986328, 2.2566077709198, 2.2530932426452637, 2.2506585121154785, 2.2660090923309326, 2.2659847736358643, 2.266160726547241, 2.270946979522705, 2.2550363540649414, 2.2683753967285156, 2.2487664222717285, 2.259875774383545, 2.262911081314087, 2.2648990154266357, 2.2627196311950684, 2.2627201080322266, 2.2610623836517334, 2.255959987640381, 2.2518107891082764, 2.247934103012085, 2.265125036239624, 2.2544572353363037, 2.249924898147583, 2.258371591567993, 2.2652342319488525, 2.250387668609619, 2.246258497238159, 2.247300624847412, 2.2571122646331787, 2.2511563301086426, 2.27246356010437, 2.253242254257202, 2.258510112762451, 2.2349369525909424, 2.2597734928131104, 2.2590341567993164, 2.2648768424987793, 2.2588658332824707, 2.266369104385376, 2.246481418609619, 2.249314785003662, 2.2614059448242188, 2.2491252422332764, 2.2562053203582764, 2.2621803283691406, 2.252502918243408, 2.2557356357574463, 2.2586042881011963, 2.237645149230957, 2.245920181274414, 2.23221755027771, 2.2514286041259766, 2.2475879192352295, 2.2767257690429688, 2.2399332523345947, 2.261584758758545, 2.2546465396881104, 2.2641725540161133, 2.2505297660827637, 2.253556251525879, 2.2443618774414062, 2.266282558441162, 2.265669822692871, 2.243884801864624, 2.2658345699310303, 2.2344884872436523, 2.2462217807769775, 2.260930061340332, 2.238759756088257, 2.232377052307129, 2.246476173400879, 2.2320504188537598, 2.267840623855591, 2.2590889930725098, 2.245712995529175, 2.2598612308502197, 2.2642366886138916, 2.256734609603882, 2.2609570026397705, 2.2630810737609863, 2.2570464611053467, 2.2555136680603027, 2.2426917552948, 2.2784409523010254, 2.2560157775878906, 2.2646756172180176, 2.2611496448516846, 2.247375249862671, 2.252366542816162, 2.2524590492248535, 2.2351036071777344, 2.2459352016448975, 2.261219024658203, 2.257290840148926, 2.260453939437866, 2.2572994232177734, 2.2571537494659424, 2.2432637214660645, 2.273620128631592, 2.257840156555176, 2.2571158409118652, 2.24983811378479, 2.2471303939819336, 2.2686359882354736, 2.2672741413116455, 2.242722272872925, 2.2539095878601074, 2.2528629302978516, 2.2460386753082275, 2.243852376937866, 2.248927354812622, 2.26043701171875, 2.2593491077423096, 2.2603249549865723, 2.253681182861328, 2.259823799133301, 2.2341341972351074, 2.250342607498169, 2.2579503059387207, 2.2683842182159424, 2.253612518310547, 2.2515294551849365, 2.2636098861694336, 2.2517507076263428, 2.2474405765533447, 2.2387871742248535, 2.2512447834014893, 2.2686195373535156, 2.2606897354125977, 2.2545924186706543, 2.2554545402526855, 2.242488145828247, 2.247647523880005, 2.260284423828125, 2.251138925552368, 2.260719060897827, 2.258293628692627, 2.2589056491851807, 2.253765344619751, 2.265674352645874, 2.2422385215759277, 2.244518518447876, 2.2475461959838867, 2.271662473678589, 2.2487640380859375, 2.2453277111053467, 2.2546463012695312, 2.243893623352051, 2.242640256881714, 2.245936870574951, 2.2584993839263916, 2.24259877204895, 2.2329158782958984, 2.229285717010498, 2.2348380088806152, 2.2368714809417725, 2.2528491020202637, 2.2474441528320312, 2.2521004676818848, 2.251206636428833, 2.258686065673828, 2.243197202682495, 2.2418737411499023, 2.244515895843506, 2.246967077255249, 2.2433245182037354, 2.262434482574463, 2.259186267852783, 2.2637600898742676, 2.2382566928863525, 2.251446008682251, 2.229957342147827, 2.239494562149048, 2.252385139465332, 2.243753433227539, 2.2442240715026855, 2.2435672283172607, 2.2542271614074707, 2.2411081790924072, 2.263326644897461, 2.251310348510742, 2.239962339401245, 2.2513914108276367, 2.246063232421875, 2.242753744125366, 2.2542724609375, 2.2403554916381836, 2.2490293979644775, 2.254283905029297, 2.2616188526153564, 2.2427048683166504, 2.2263994216918945, 2.2485814094543457, 2.2441723346710205, 2.249833583831787, 2.2353549003601074, 2.2609403133392334, 2.2329392433166504, 2.2528984546661377, 2.2512567043304443, 2.24777889251709, 2.253039598464966, 2.2208993434906006, 2.250105619430542, 2.2432377338409424, 2.2448842525482178, 2.2491815090179443, 2.2484209537506104, 2.254375457763672, 2.254340648651123, 2.246983766555786, 2.2583632469177246, 2.2360494136810303, 2.244861602783203, 2.251910448074341, 2.2429637908935547, 2.249887466430664, 2.2530131340026855, 2.24159836769104, 2.2387847900390625, 2.265681266784668, 2.242631435394287, 2.2483150959014893, 2.2579681873321533, 2.2554893493652344, 2.228024959564209, 2.2405147552490234, 2.2464911937713623, 2.2476186752319336, 2.2298240661621094, 2.2391717433929443, 2.241135358810425, 2.254823684692383, 2.23838472366333, 2.2387452125549316, 2.2655551433563232, 2.232039451599121, 2.2403042316436768, 2.251282215118408]\n",
      "epoch loss:  2.265817935278675\n"
     ]
    },
    {
     "name": "stderr",
     "output_type": "stream",
     "text": []
    },
    {
     "name": "stdout",
     "output_type": "stream",
     "text": [
      "Epoch [3/10], Step [100/938], Loss: 2.2369\n"
     ]
    },
    {
     "name": "stderr",
     "output_type": "stream",
     "text": []
    },
    {
     "name": "stdout",
     "output_type": "stream",
     "text": [
      "Epoch [3/10], Step [200/938], Loss: 2.2469\n"
     ]
    },
    {
     "name": "stderr",
     "output_type": "stream",
     "text": []
    },
    {
     "name": "stdout",
     "output_type": "stream",
     "text": [
      "Epoch [3/10], Step [300/938], Loss: 2.2295\n"
     ]
    },
    {
     "name": "stderr",
     "output_type": "stream",
     "text": []
    },
    {
     "name": "stdout",
     "output_type": "stream",
     "text": [
      "Epoch [3/10], Step [400/938], Loss: 2.2282\n"
     ]
    },
    {
     "name": "stderr",
     "output_type": "stream",
     "text": []
    },
    {
     "name": "stdout",
     "output_type": "stream",
     "text": [
      "Epoch [3/10], Step [500/938], Loss: 2.2288\n"
     ]
    },
    {
     "name": "stderr",
     "output_type": "stream",
     "text": []
    },
    {
     "name": "stdout",
     "output_type": "stream",
     "text": [
      "Epoch [3/10], Step [600/938], Loss: 2.2121\n"
     ]
    },
    {
     "name": "stderr",
     "output_type": "stream",
     "text": [
      "\n"
     ]
    },
    {
     "name": "stdout",
     "output_type": "stream",
     "text": [
      "Epoch [3/10], Step [700/938], Loss: 2.1956\n"
     ]
    },
    {
     "name": "stderr",
     "output_type": "stream",
     "text": [
      "738it [00:03, 195.52it/s]\u001b[A"
     ]
    },
    {
     "name": "stdout",
     "output_type": "stream",
     "text": [
      "Epoch [3/10], Step [800/938], Loss: 2.1866\n"
     ]
    },
    {
     "name": "stderr",
     "output_type": "stream",
     "text": [
      "938it [00:04, 196.16it/s]"
     ]
    },
    {
     "name": "stdout",
     "output_type": "stream",
     "text": [
      "Epoch [3/10], Step [900/938], Loss: 2.2139\n"
     ]
    },
    {
     "name": "stderr",
     "output_type": "stream",
     "text": [
      "\n",
      " 30%|███       | 3/10 [00:14<00:34,  4.96s/it]"
     ]
    },
    {
     "name": "stdout",
     "output_type": "stream",
     "text": [
      "batch loss:  [2.241358995437622, 2.24544095993042, 2.2421531677246094, 2.2394723892211914, 2.2305688858032227, 2.2487268447875977, 2.2528812885284424, 2.244243860244751, 2.2641239166259766, 2.2410640716552734, 2.245018243789673, 2.260488510131836, 2.233920097351074, 2.2408933639526367, 2.2331864833831787, 2.245187282562256, 2.236579656600952, 2.235395908355713, 2.2369585037231445, 2.2553768157958984, 2.26108455657959, 2.2388458251953125, 2.2290377616882324, 2.2469184398651123, 2.2535061836242676, 2.2475478649139404, 2.243366241455078, 2.2397444248199463, 2.2387354373931885, 2.252883195877075, 2.2479727268218994, 2.2533116340637207, 2.2325620651245117, 2.2433595657348633, 2.2504100799560547, 2.2562434673309326, 2.228372097015381, 2.2573328018188477, 2.2377591133117676, 2.233822822570801, 2.248089075088501, 2.2513375282287598, 2.240947723388672, 2.2440903186798096, 2.2252402305603027, 2.2360916137695312, 2.236294746398926, 2.2554550170898438, 2.251478672027588, 2.2309539318084717, 2.258057117462158, 2.252692937850952, 2.268536329269409, 2.2446341514587402, 2.2546095848083496, 2.2404513359069824, 2.244302988052368, 2.2337028980255127, 2.238595962524414, 2.238428831100464, 2.2557640075683594, 2.2372329235076904, 2.234516143798828, 2.2490742206573486, 2.230257511138916, 2.2329840660095215, 2.239375591278076, 2.244927406311035, 2.2328147888183594, 2.2353615760803223, 2.250563383102417, 2.248056650161743, 2.2570016384124756, 2.2404391765594482, 2.2200984954833984, 2.245295763015747, 2.2461624145507812, 2.2444233894348145, 2.239305019378662, 2.244375467300415, 2.240732192993164, 2.2453575134277344, 2.2564001083374023, 2.2394912242889404, 2.2585723400115967, 2.227093458175659, 2.2444064617156982, 2.230861186981201, 2.245957136154175, 2.2336907386779785, 2.220853328704834, 2.2234323024749756, 2.22894024848938, 2.2461705207824707, 2.237391710281372, 2.2373156547546387, 2.2297348976135254, 2.265265703201294, 2.2388176918029785, 2.236917018890381, 2.2203993797302246, 2.231518507003784, 2.231886625289917, 2.219071626663208, 2.2435150146484375, 2.2387561798095703, 2.244422435760498, 2.2400941848754883, 2.24619460105896, 2.235081672668457, 2.2308998107910156, 2.237020969390869, 2.2398409843444824, 2.2363507747650146, 2.2438836097717285, 2.235548734664917, 2.2552599906921387, 2.2399137020111084, 2.2416110038757324, 2.241529703140259, 2.233401298522949, 2.238067865371704, 2.2398176193237305, 2.2396697998046875, 2.2564473152160645, 2.237435817718506, 2.2476043701171875, 2.2622499465942383, 2.2535088062286377, 2.2551450729370117, 2.2413761615753174, 2.250227928161621, 2.244645118713379, 2.2448134422302246, 2.228785514831543, 2.2487258911132812, 2.2318129539489746, 2.237607002258301, 2.241910219192505, 2.243032932281494, 2.232271909713745, 2.2554922103881836, 2.2421786785125732, 2.2503459453582764, 2.2227373123168945, 2.2423415184020996, 2.2375779151916504, 2.24697208404541, 2.228142499923706, 2.240827798843384, 2.2426810264587402, 2.228513717651367, 2.2284903526306152, 2.236070156097412, 2.2535452842712402, 2.2292959690093994, 2.2416350841522217, 2.2193169593811035, 2.2533464431762695, 2.231576442718506, 2.236142635345459, 2.2514519691467285, 2.231956720352173, 2.260793447494507, 2.239192247390747, 2.2322659492492676, 2.224998950958252, 2.239614248275757, 2.234344720840454, 2.2121496200561523, 2.2485268115997314, 2.2369182109832764, 2.23978328704834, 2.2329580783843994, 2.242899179458618, 2.2336814403533936, 2.2363076210021973, 2.2524092197418213, 2.240720510482788, 2.2439212799072266, 2.235567331314087, 2.2475180625915527, 2.240767478942871, 2.2421889305114746, 2.254817247390747, 2.216487407684326, 2.2455084323883057, 2.239514112472534, 2.2286946773529053, 2.2439019680023193, 2.238215446472168, 2.2404158115386963, 2.2278425693511963, 2.2574520111083984, 2.226388692855835, 2.2485334873199463, 2.2245829105377197, 2.251875638961792, 2.239017963409424, 2.246948003768921, 2.243900775909424, 2.2301366329193115, 2.2245585918426514, 2.236555337905884, 2.2626893520355225, 2.257993221282959, 2.2461981773376465, 2.2364156246185303, 2.2366561889648438, 2.2218801975250244, 2.236785650253296, 2.2407994270324707, 2.2389073371887207, 2.241288900375366, 2.235471725463867, 2.234142303466797, 2.255199670791626, 2.256208658218384, 2.2337660789489746, 2.243617057800293, 2.2375588417053223, 2.2382588386535645, 2.21980619430542, 2.247051239013672, 2.228949785232544, 2.2392091751098633, 2.2325618267059326, 2.2472329139709473, 2.2281148433685303, 2.231618881225586, 2.2446494102478027, 2.241607189178467, 2.2367918491363525, 2.2386322021484375, 2.2644264698028564, 2.24240779876709, 2.239645004272461, 2.2135419845581055, 2.237881898880005, 2.241225004196167, 2.244112014770508, 2.2334272861480713, 2.2305796146392822, 2.2354893684387207, 2.240359306335449, 2.2240102291107178, 2.2246007919311523, 2.214768171310425, 2.2347917556762695, 2.220174789428711, 2.2426276206970215, 2.2328641414642334, 2.2429380416870117, 2.2498176097869873, 2.238070011138916, 2.2225985527038574, 2.2351863384246826, 2.233644962310791, 2.218696117401123, 2.233550786972046, 2.2372684478759766, 2.2410781383514404, 2.2320878505706787, 2.236015558242798, 2.2268424034118652, 2.2283718585968018, 2.233508348464966, 2.2423975467681885, 2.2555010318756104, 2.2409987449645996, 2.2356841564178467, 2.236024856567383, 2.2272160053253174, 2.232388734817505, 2.23026967048645, 2.23966646194458, 2.251751184463501, 2.233285427093506, 2.235943555831909, 2.2335364818573, 2.2372143268585205, 2.2459588050842285, 2.244809150695801, 2.248420476913452, 2.2253808975219727, 2.24080228805542, 2.2321341037750244, 2.2234575748443604, 2.2279038429260254, 2.2284624576568604, 2.222028970718384, 2.2184665203094482, 2.2190983295440674, 2.2373170852661133, 2.2165274620056152, 2.228020429611206, 2.23061466217041, 2.2262985706329346, 2.2235212326049805, 2.229496955871582, 2.2544078826904297, 2.2163209915161133, 2.2203073501586914, 2.2347795963287354, 2.224134922027588, 2.2382521629333496, 2.2138936519622803, 2.2399439811706543, 2.236403226852417, 2.237426519393921, 2.2224466800689697, 2.234926462173462, 2.244692802429199, 2.238382339477539, 2.247464656829834, 2.230590581893921, 2.2174506187438965, 2.2377936840057373, 2.2187609672546387, 2.2295491695404053, 2.226710796356201, 2.2314066886901855, 2.232800006866455, 2.2510204315185547, 2.233994245529175, 2.2165186405181885, 2.235187530517578, 2.2281084060668945, 2.2400898933410645, 2.2347607612609863, 2.2184019088745117, 2.2380521297454834, 2.2387397289276123, 2.2193782329559326, 2.228853225708008, 2.242811679840088, 2.2098236083984375, 2.222905158996582, 2.227018117904663, 2.2392122745513916, 2.21601939201355, 2.229327440261841, 2.233330726623535, 2.2354068756103516, 2.2369167804718018, 2.2472410202026367, 2.2399282455444336, 2.2296195030212402, 2.2309632301330566, 2.220399856567383, 2.2370285987854004, 2.2407517433166504, 2.2080516815185547, 2.226322889328003, 2.2258918285369873, 2.2222349643707275, 2.219320297241211, 2.242488145828247, 2.23837947845459, 2.217050552368164, 2.256331443786621, 2.208678960800171, 2.2371981143951416, 2.2380762100219727, 2.225144386291504, 2.220599412918091, 2.225743532180786, 2.2431976795196533, 2.2373502254486084, 2.2240560054779053, 2.2251603603363037, 2.2381458282470703, 2.2192699909210205, 2.234262228012085, 2.2216172218322754, 2.231171131134033, 2.2421562671661377, 2.245619773864746, 2.227491617202759, 2.239710569381714, 2.229051351547241, 2.2322425842285156, 2.232435464859009, 2.241781234741211, 2.2409913539886475, 2.2210254669189453, 2.2321977615356445, 2.2200303077697754, 2.229663848876953, 2.2446305751800537, 2.2382829189300537, 2.217560052871704, 2.217158079147339, 2.2299423217773438, 2.2033867835998535, 2.219566583633423, 2.2045013904571533, 2.226760149002075, 2.2492661476135254, 2.228158712387085, 2.2327206134796143, 2.226637840270996, 2.2245733737945557, 2.2219505310058594, 2.2416789531707764, 2.2482314109802246, 2.2234225273132324, 2.2249915599823, 2.2483716011047363, 2.2388358116149902, 2.2270803451538086, 2.215810775756836, 2.211369514465332, 2.2324676513671875, 2.2279276847839355, 2.206691265106201, 2.2295193672180176, 2.2114973068237305, 2.227623224258423, 2.234527826309204, 2.228685140609741, 2.2321550846099854, 2.2388205528259277, 2.2388546466827393, 2.2286717891693115, 2.2414488792419434, 2.232513427734375, 2.2211949825286865, 2.240007162094116, 2.2221686840057373, 2.227771282196045, 2.2249715328216553, 2.2280771732330322, 2.2145020961761475, 2.227527618408203, 2.240838050842285, 2.2112057209014893, 2.228193998336792, 2.219512701034546, 2.230956554412842, 2.215695381164551, 2.2387678623199463, 2.232710838317871, 2.2200801372528076, 2.2062416076660156, 2.2120256423950195, 2.219136953353882, 2.227278232574463, 2.236570358276367, 2.2213618755340576, 2.237070083618164, 2.228119134902954, 2.2120912075042725, 2.2284603118896484, 2.2289915084838867, 2.2108967304229736, 2.227677345275879, 2.2216312885284424, 2.231898307800293, 2.2084953784942627, 2.19596791267395, 2.2332470417022705, 2.220639705657959, 2.2288691997528076, 2.2155754566192627, 2.2299888134002686, 2.2227954864501953, 2.220308780670166, 2.2199513912200928, 2.221388578414917, 2.2137465476989746, 2.2118189334869385, 2.2276554107666016, 2.2132019996643066, 2.2269630432128906, 2.2212648391723633, 2.224536895751953, 2.2007603645324707, 2.2278754711151123, 2.212357997894287, 2.228323221206665, 2.223498821258545, 2.2297203540802, 2.2214670181274414, 2.22834849357605, 2.23289155960083, 2.2285735607147217, 2.2202200889587402, 2.237630605697632, 2.2138478755950928, 2.2209043502807617, 2.22347092628479, 2.2186362743377686, 2.2214725017547607, 2.210325002670288, 2.22300124168396, 2.223025321960449, 2.2275640964508057, 2.207637071609497, 2.2288031578063965, 2.211355209350586, 2.2054967880249023, 2.2322614192962646, 2.215799570083618, 2.229093313217163, 2.208578109741211, 2.2414872646331787, 2.2216498851776123, 2.2067928314208984, 2.217757225036621, 2.2138051986694336, 2.219083070755005, 2.2336626052856445, 2.2062618732452393, 2.218090295791626, 2.2110846042633057, 2.208444356918335, 2.2168776988983154, 2.2192885875701904, 2.2362613677978516, 2.2250583171844482, 2.2077624797821045, 2.2275917530059814, 2.2264297008514404, 2.240734577178955, 2.22705078125, 2.229189157485962, 2.2281320095062256, 2.2288568019866943, 2.2187042236328125, 2.2243878841400146, 2.2134768962860107, 2.229355812072754, 2.224802255630493, 2.2153608798980713, 2.224881410598755, 2.2384891510009766, 2.203969717025757, 2.24117112159729, 2.1859869956970215, 2.2070047855377197, 2.2046921253204346, 2.2199010848999023, 2.2269632816314697, 2.2489285469055176, 2.226630449295044, 2.223597288131714, 2.21061110496521, 2.218111753463745, 2.205045223236084, 2.2295241355895996, 2.2108500003814697, 2.212501049041748, 2.2049200534820557, 2.220264196395874, 2.2232565879821777, 2.224738359451294, 2.220402479171753, 2.218242883682251, 2.210141181945801, 2.216944694519043, 2.2054827213287354, 2.190077304840088, 2.2132551670074463, 2.226538896560669, 2.217344045639038, 2.2012572288513184, 2.2179040908813477, 2.232793092727661, 2.2178714275360107, 2.223073959350586, 2.2170448303222656, 2.2215030193328857, 2.2090556621551514, 2.228855609893799, 2.214334726333618, 2.223050355911255, 2.242018699645996, 2.214712619781494, 2.2184901237487793, 2.214792490005493, 2.21407413482666, 2.2177722454071045, 2.2131223678588867, 2.237900972366333, 2.2092037200927734, 2.237811803817749, 2.2098476886749268, 2.2236385345458984, 2.213723659515381, 2.205383777618408, 2.204226016998291, 2.209383010864258, 2.204702615737915, 2.2251298427581787, 2.236610174179077, 2.1974079608917236, 2.2124791145324707, 2.2189016342163086, 2.2121360301971436, 2.2086892127990723, 2.217373847961426, 2.225102186203003, 2.2237350940704346, 2.2143332958221436, 2.2200653553009033, 2.232550621032715, 2.213975667953491, 2.2386903762817383, 2.2204368114471436, 2.221454620361328, 2.232145309448242, 2.2132718563079834, 2.2086071968078613, 2.2155678272247314, 2.2062695026397705, 2.2257275581359863, 2.2195346355438232, 2.225412368774414, 2.2059054374694824, 2.209907054901123, 2.2019357681274414, 2.2104616165161133, 2.207973003387451, 2.2090022563934326, 2.233126401901245, 2.1944642066955566, 2.2168266773223877, 2.223034143447876, 2.2129125595092773, 2.2064967155456543, 2.2316386699676514, 2.221344470977783, 2.2071352005004883, 2.2258057594299316, 2.2405850887298584, 2.2092576026916504, 2.2307214736938477, 2.1951043605804443, 2.204803943634033, 2.2167389392852783, 2.1997921466827393, 2.219224214553833, 2.2157492637634277, 2.2036335468292236, 2.2094380855560303, 2.202637195587158, 2.225433111190796, 2.2239534854888916, 2.21386981010437, 2.204620122909546, 2.202237129211426, 2.2194855213165283, 2.2329604625701904, 2.2142879962921143, 2.191344976425171, 2.212137460708618, 2.2184269428253174, 2.205075740814209, 2.2237868309020996, 2.2156362533569336, 2.2016255855560303, 2.220717668533325, 2.222174882888794, 2.2020206451416016, 2.2126033306121826, 2.191607713699341, 2.225470542907715, 2.2161190509796143, 2.2067389488220215, 2.2220754623413086, 2.208683967590332, 2.1942694187164307, 2.2301559448242188, 2.2079169750213623, 2.2132928371429443, 2.228529214859009, 2.194974660873413, 2.18511962890625, 2.192497968673706, 2.20353627204895, 2.2148303985595703, 2.1997714042663574, 2.232102870941162, 2.1868600845336914, 2.2079505920410156, 2.1937644481658936, 2.204078435897827, 2.2024943828582764, 2.2145612239837646, 2.2025444507598877, 2.218679666519165, 2.221792221069336, 2.2192320823669434, 2.206972122192383, 2.224376678466797, 2.2097644805908203, 2.227609872817993, 2.213278293609619, 2.195607900619507, 2.203606605529785, 2.198848247528076, 2.2188360691070557, 2.2079334259033203, 2.2178258895874023, 2.207717180252075, 2.2117772102355957, 2.199145555496216, 2.21858811378479, 2.197327136993408, 2.22805118560791, 2.190408229827881, 2.205232858657837, 2.2177116870880127, 2.20691180229187, 2.1949462890625, 2.2310187816619873, 2.2485718727111816, 2.1968095302581787, 2.207249402999878, 2.2202322483062744, 2.2019059658050537, 2.1972079277038574, 2.2028748989105225, 2.214177370071411, 2.2102608680725098, 2.2034356594085693, 2.2069575786590576, 2.202338218688965, 2.2120273113250732, 2.212315559387207, 2.2051925659179688, 2.2156941890716553, 2.194713592529297, 2.199054718017578, 2.195936918258667, 2.2146966457366943, 2.2056875228881836, 2.210143804550171, 2.20993709564209, 2.2078866958618164, 2.219059705734253, 2.2038002014160156, 2.210184097290039, 2.178227424621582, 2.212891101837158, 2.195955753326416, 2.2162156105041504, 2.206576108932495, 2.224048137664795, 2.2080867290496826, 2.202336311340332, 2.181497097015381, 2.201404571533203, 2.181319236755371, 2.1975197792053223, 2.1945059299468994, 2.2185592651367188, 2.20884108543396, 2.205867052078247, 2.216190814971924, 2.204149007797241, 2.206819772720337, 2.2094547748565674, 2.2022178173065186, 2.2015767097473145, 2.2056806087493896, 2.198579788208008, 2.208371162414551, 2.193528413772583, 2.2100725173950195, 2.215350389480591, 2.226391553878784, 2.219883680343628, 2.1964502334594727, 2.22641658782959, 2.215212821960449, 2.210047721862793, 2.1942498683929443, 2.209122657775879, 2.217878580093384, 2.213818073272705, 2.206813335418701, 2.2269704341888428, 2.207235336303711, 2.207811117172241, 2.204195976257324, 2.1828675270080566, 2.1995222568511963, 2.1705667972564697, 2.2045137882232666, 2.207548141479492, 2.2142531871795654, 2.190612554550171, 2.208944320678711, 2.219667434692383, 2.1947834491729736, 2.2127187252044678, 2.2115209102630615, 2.186558961868286, 2.2034435272216797, 2.213050127029419, 2.1828479766845703, 2.2019522190093994, 2.212768077850342, 2.192805290222168, 2.2200381755828857, 2.18967342376709, 2.2108805179595947, 2.2115983963012695, 2.2092626094818115, 2.2199418544769287, 2.2182319164276123, 2.2083520889282227, 2.2230470180511475, 2.197059154510498, 2.1720731258392334, 2.2119007110595703, 2.2167654037475586, 2.21880841255188, 2.194384813308716, 2.2267005443573, 2.197572708129883, 2.207505941390991, 2.198317766189575, 2.187289237976074, 2.199967384338379, 2.210972785949707, 2.1776227951049805, 2.2178053855895996, 2.2113826274871826, 2.2010903358459473, 2.1874237060546875, 2.188138246536255, 2.2118756771087646, 2.187870502471924, 2.2003307342529297, 2.207779884338379, 2.2098257541656494, 2.198369264602661, 2.1905837059020996, 2.198446273803711, 2.2110402584075928, 2.199429988861084, 2.218562364578247, 2.2075276374816895, 2.200484275817871, 2.197141647338867, 2.183192491531372, 2.191606044769287, 2.205688714981079, 2.2018508911132812, 2.206388235092163, 2.2091877460479736, 2.1990253925323486, 2.2265329360961914, 2.188483953475952, 2.214609146118164, 2.188640594482422, 2.1935243606567383, 2.196725368499756, 2.1874382495880127, 2.1969940662384033, 2.1990678310394287, 2.1948821544647217, 2.2155866622924805, 2.211951494216919, 2.2087597846984863, 2.198370933532715, 2.2107574939727783, 2.2069027423858643, 2.1946115493774414, 2.202939748764038, 2.1818432807922363, 2.201484441757202, 2.1886420249938965, 2.2144927978515625, 2.1873178482055664, 2.2232532501220703, 2.1796703338623047, 2.2060444355010986, 2.1970436573028564, 2.1933178901672363, 2.1955037117004395, 2.2104227542877197, 2.2026381492614746, 2.197110176086426, 2.206529378890991, 2.187272071838379, 2.2087364196777344, 2.2167587280273438, 2.220339298248291, 2.1882545948028564, 2.2074244022369385, 2.208406448364258, 2.200252056121826, 2.2019503116607666, 2.1887474060058594, 2.211664915084839, 2.213918447494507, 2.169234037399292, 2.199496269226074, 2.206177234649658, 2.1997153759002686, 2.1980371475219727, 2.1908581256866455, 2.192645311355591, 2.1938977241516113, 2.1913838386535645, 2.198768377304077, 2.183490514755249, 2.201108455657959, 2.2041139602661133, 2.2087998390197754, 2.1772847175598145, 2.2100939750671387, 2.2177975177764893, 2.177661180496216, 2.1961007118225098, 2.1898462772369385, 2.2116148471832275, 2.215609550476074, 2.188673496246338, 2.190999746322632, 2.174288511276245, 2.1945385932922363, 2.1888351440429688, 2.1923038959503174, 2.1841413974761963, 2.160753011703491, 2.185488700866699, 2.1952173709869385, 2.193605422973633, 2.1908342838287354, 2.1762592792510986, 2.1790881156921387, 2.191885232925415, 2.2018940448760986]\n",
      "epoch loss:  2.22254346377814\n"
     ]
    },
    {
     "name": "stderr",
     "output_type": "stream",
     "text": [
      "\n"
     ]
    },
    {
     "name": "stdout",
     "output_type": "stream",
     "text": [
      "Epoch [4/10], Step [100/938], Loss: 2.1974\n"
     ]
    },
    {
     "name": "stderr",
     "output_type": "stream",
     "text": [
      "141it [00:00, 203.00it/s]\u001b[A"
     ]
    },
    {
     "name": "stdout",
     "output_type": "stream",
     "text": [
      "Epoch [4/10], Step [200/938], Loss: 2.1920\n"
     ]
    },
    {
     "name": "stderr",
     "output_type": "stream",
     "text": [
      "\n"
     ]
    },
    {
     "name": "stdout",
     "output_type": "stream",
     "text": [
      "Epoch [4/10], Step [300/938], Loss: 2.1669\n"
     ]
    },
    {
     "name": "stderr",
     "output_type": "stream",
     "text": [
      "334it [00:01, 193.76it/s]\u001b[A"
     ]
    },
    {
     "name": "stdout",
     "output_type": "stream",
     "text": [
      "Epoch [4/10], Step [400/938], Loss: 2.1516\n"
     ]
    },
    {
     "name": "stderr",
     "output_type": "stream",
     "text": []
    },
    {
     "name": "stdout",
     "output_type": "stream",
     "text": [
      "Epoch [4/10], Step [500/938], Loss: 2.1464\n"
     ]
    },
    {
     "name": "stderr",
     "output_type": "stream",
     "text": []
    },
    {
     "name": "stdout",
     "output_type": "stream",
     "text": [
      "Epoch [4/10], Step [600/938], Loss: 2.1629\n"
     ]
    },
    {
     "name": "stderr",
     "output_type": "stream",
     "text": []
    },
    {
     "name": "stdout",
     "output_type": "stream",
     "text": [
      "Epoch [4/10], Step [700/938], Loss: 2.1665\n"
     ]
    },
    {
     "name": "stderr",
     "output_type": "stream",
     "text": [
      "\n"
     ]
    },
    {
     "name": "stdout",
     "output_type": "stream",
     "text": [
      "Epoch [4/10], Step [800/938], Loss: 2.1411\n"
     ]
    },
    {
     "name": "stderr",
     "output_type": "stream",
     "text": [
      "938it [00:04, 196.70it/s]\u001b[A"
     ]
    },
    {
     "name": "stdout",
     "output_type": "stream",
     "text": [
      "Epoch [4/10], Step [900/938], Loss: 2.0857\n"
     ]
    },
    {
     "name": "stderr",
     "output_type": "stream",
     "text": [
      "\n",
      " 40%|████      | 4/10 [00:19<00:29,  4.88s/it]"
     ]
    },
    {
     "name": "stdout",
     "output_type": "stream",
     "text": [
      "batch loss:  [2.175391912460327, 2.192211389541626, 2.1785848140716553, 2.212822914123535, 2.200040578842163, 2.1863811016082764, 2.2077276706695557, 2.1643850803375244, 2.2150752544403076, 2.1856791973114014, 2.2067205905914307, 2.1758229732513428, 2.1828179359436035, 2.1886041164398193, 2.1922707557678223, 2.192674160003662, 2.1938252449035645, 2.1931872367858887, 2.1815381050109863, 2.194197416305542, 2.165133237838745, 2.200272560119629, 2.1904451847076416, 2.1927552223205566, 2.1893482208251953, 2.176009178161621, 2.1994707584381104, 2.199990749359131, 2.186723232269287, 2.1963658332824707, 2.18190860748291, 2.2171638011932373, 2.21690034866333, 2.1845273971557617, 2.190141439437866, 2.2009339332580566, 2.189661741256714, 2.1801533699035645, 2.216609477996826, 2.1938600540161133, 2.1848487854003906, 2.2091879844665527, 2.1775941848754883, 2.167182207107544, 2.1910126209259033, 2.1873116493225098, 2.184868574142456, 2.1911520957946777, 2.1969597339630127, 2.1782493591308594, 2.2219080924987793, 2.190458297729492, 2.2153866291046143, 2.1918957233428955, 2.1780123710632324, 2.2050116062164307, 2.1846065521240234, 2.174539566040039, 2.195713520050049, 2.186384677886963, 2.1687262058258057, 2.2134313583374023, 2.1929051876068115, 2.189072608947754, 2.1660382747650146, 2.2066891193389893, 2.1914029121398926, 2.1617324352264404, 2.1817710399627686, 2.1732754707336426, 2.1939451694488525, 2.1755292415618896, 2.214392900466919, 2.1911792755126953, 2.211217164993286, 2.186006784439087, 2.173461675643921, 2.187239408493042, 2.1872475147247314, 2.1864824295043945, 2.1959381103515625, 2.1517276763916016, 2.1764333248138428, 2.172168493270874, 2.1783361434936523, 2.1550076007843018, 2.1816978454589844, 2.222313165664673, 2.183413028717041, 2.1995420455932617, 2.181779146194458, 2.1942813396453857, 2.2041542530059814, 2.1891493797302246, 2.2037999629974365, 2.1965057849884033, 2.1818432807922363, 2.203824281692505, 2.156543493270874, 2.1974217891693115, 2.2065353393554688, 2.1764161586761475, 2.1964643001556396, 2.182779550552368, 2.1899573802948, 2.2002193927764893, 2.1961121559143066, 2.1751694679260254, 2.1818180084228516, 2.1878445148468018, 2.172495126724243, 2.178440570831299, 2.1821467876434326, 2.190033197402954, 2.184929370880127, 2.178041934967041, 2.198594093322754, 2.186511993408203, 2.1801273822784424, 2.188547372817993, 2.181018590927124, 2.1831984519958496, 2.153970718383789, 2.1941280364990234, 2.1967387199401855, 2.2006454467773438, 2.187272787094116, 2.1785919666290283, 2.1673583984375, 2.1865792274475098, 2.1732399463653564, 2.1827845573425293, 2.1978366374969482, 2.201024055480957, 2.1911590099334717, 2.1821253299713135, 2.2026119232177734, 2.162351608276367, 2.150710344314575, 2.180011510848999, 2.1826865673065186, 2.16575026512146, 2.1661536693573, 2.1567087173461914, 2.201547622680664, 2.1730520725250244, 2.1765553951263428, 2.1849730014801025, 2.1972570419311523, 2.154348373413086, 2.16438364982605, 2.1864306926727295, 2.2033843994140625, 2.1639158725738525, 2.188091278076172, 2.1924216747283936, 2.172346830368042, 2.160094738006592, 2.186497688293457, 2.179551362991333, 2.18405818939209, 2.2043049335479736, 2.1466667652130127, 2.196376085281372, 2.1598119735717773, 2.1896371841430664, 2.1906745433807373, 2.187293291091919, 2.190018892288208, 2.1849429607391357, 2.1739399433135986, 2.169280767440796, 2.174497127532959, 2.1822822093963623, 2.197391986846924, 2.168774366378784, 2.1748971939086914, 2.2076046466827393, 2.1645820140838623, 2.1854803562164307, 2.1777687072753906, 2.1647303104400635, 2.169677734375, 2.1786410808563232, 2.201573610305786, 2.1712379455566406, 2.178959846496582, 2.1613986492156982, 2.1817638874053955, 2.183777332305908, 2.195404291152954, 2.193986177444458, 2.1857094764709473, 2.1880040168762207, 2.1710402965545654, 2.1752350330352783, 2.1812551021575928, 2.1917941570281982, 2.1704046726226807, 2.192020893096924, 2.189528703689575, 2.1869192123413086, 2.176227569580078, 2.1455578804016113, 2.1886067390441895, 2.1664159297943115, 2.18694806098938, 2.1953186988830566, 2.1601321697235107, 2.190619468688965, 2.1672189235687256, 2.1749234199523926, 2.1849284172058105, 2.2010200023651123, 2.1826114654541016, 2.167245864868164, 2.153761863708496, 2.174659490585327, 2.138890504837036, 2.171302080154419, 2.1650991439819336, 2.1459434032440186, 2.1898910999298096, 2.166775941848755, 2.1883132457733154, 2.1830830574035645, 2.1709604263305664, 2.170541763305664, 2.2040462493896484, 2.1798501014709473, 2.164393901824951, 2.1840052604675293, 2.1766462326049805, 2.1624090671539307, 2.1746819019317627, 2.1791141033172607, 2.172640562057495, 2.1912741661071777, 2.17435884475708, 2.168807029724121, 2.162264585494995, 2.1743721961975098, 2.1968441009521484, 2.155136823654175, 2.176119565963745, 2.134927749633789, 2.17425274848938, 2.165959119796753, 2.170167922973633, 2.1783618927001953, 2.173393726348877, 2.1961798667907715, 2.1985526084899902, 2.1759629249572754, 2.1815247535705566, 2.1878347396850586, 2.156576633453369, 2.173081874847412, 2.1707050800323486, 2.1780896186828613, 2.154313564300537, 2.176610231399536, 2.1793479919433594, 2.1658945083618164, 2.175407648086548, 2.181467294692993, 2.1612133979797363, 2.18190598487854, 2.1704094409942627, 2.1451478004455566, 2.170581579208374, 2.176849842071533, 2.172638177871704, 2.1731014251708984, 2.1718904972076416, 2.1787893772125244, 2.2022361755371094, 2.193664312362671, 2.1741373538970947, 2.1679515838623047, 2.1902053356170654, 2.194079637527466, 2.1844561100006104, 2.169062376022339, 2.150170087814331, 2.139920949935913, 2.161405563354492, 2.1673731803894043, 2.154357671737671, 2.193528890609741, 2.16314435005188, 2.187807083129883, 2.1688809394836426, 2.1728646755218506, 2.1686818599700928, 2.1705877780914307, 2.162151336669922, 2.1621780395507812, 2.1852517127990723, 2.166921377182007, 2.154524564743042, 2.1550257205963135, 2.14906907081604, 2.1803104877471924, 2.1455655097961426, 2.169687509536743, 2.167065382003784, 2.1726717948913574, 2.1441097259521484, 2.1651651859283447, 2.197782516479492, 2.1526730060577393, 2.1678037643432617, 2.148179769515991, 2.185978889465332, 2.172452688217163, 2.1844642162323, 2.1729369163513184, 2.170529842376709, 2.182934045791626, 2.185683488845825, 2.1709117889404297, 2.1615567207336426, 2.1760048866271973, 2.165717840194702, 2.145787000656128, 2.1459898948669434, 2.163482189178467, 2.140062093734741, 2.199697971343994, 2.1663737297058105, 2.159322738647461, 2.149986743927002, 2.1506683826446533, 2.1634302139282227, 2.169260263442993, 2.1928937435150146, 2.148080348968506, 2.1544535160064697, 2.1861042976379395, 2.1480705738067627, 2.1808574199676514, 2.1589581966400146, 2.1648025512695312, 2.1699166297912598, 2.1809983253479004, 2.1538214683532715, 2.1435093879699707, 2.1628737449645996, 2.1575794219970703, 2.1693367958068848, 2.18709397315979, 2.19022798538208, 2.161189079284668, 2.1352555751800537, 2.1573421955108643, 2.179849624633789, 2.193627119064331, 2.1649067401885986, 2.169293165206909, 2.1467373371124268, 2.1610822677612305, 2.1308772563934326, 2.1381514072418213, 2.162283182144165, 2.160033941268921, 2.1689951419830322, 2.1706836223602295, 2.186495780944824, 2.1682825088500977, 2.184873580932617, 2.165241241455078, 2.1830286979675293, 2.1695172786712646, 2.170675277709961, 2.1272237300872803, 2.1751177310943604, 2.163820743560791, 2.1590871810913086, 2.1450467109680176, 2.182544231414795, 2.170029640197754, 2.1246445178985596, 2.1477549076080322, 2.145766496658325, 2.1646971702575684, 2.1543939113616943, 2.158452033996582, 2.1688907146453857, 2.1640875339508057, 2.1700425148010254, 2.1272354125976562, 2.1900129318237305, 2.154357433319092, 2.1673500537872314, 2.1370744705200195, 2.151784658432007, 2.14591121673584, 2.1738858222961426, 2.1516470909118652, 2.1433870792388916, 2.154707670211792, 2.171588182449341, 2.1563289165496826, 2.1617214679718018, 2.1717309951782227, 2.1400158405303955, 2.1596875190734863, 2.1527645587921143, 2.1722872257232666, 2.170447587966919, 2.1633005142211914, 2.1706619262695312, 2.1561899185180664, 2.1712470054626465, 2.1246871948242188, 2.1472833156585693, 2.1729700565338135, 2.1621694564819336, 2.1516356468200684, 2.150326728820801, 2.1915221214294434, 2.176907539367676, 2.1419999599456787, 2.155245780944824, 2.1489410400390625, 2.1381499767303467, 2.1511340141296387, 2.1616528034210205, 2.163686513900757, 2.154665946960449, 2.177874803543091, 2.159428358078003, 2.147477149963379, 2.1707234382629395, 2.1500165462493896, 2.1763978004455566, 2.160764694213867, 2.151015281677246, 2.1863226890563965, 2.157773494720459, 2.141878366470337, 2.171640396118164, 2.1581809520721436, 2.167158842086792, 2.142703056335449, 2.1345250606536865, 2.1397318840026855, 2.1411995887756348, 2.1699397563934326, 2.1620407104492188, 2.155954360961914, 2.1813368797302246, 2.1599700450897217, 2.172710657119751, 2.136140823364258, 2.146721124649048, 2.151369094848633, 2.144832134246826, 2.1510727405548096, 2.1724343299865723, 2.1543874740600586, 2.1406517028808594, 2.128791093826294, 2.1452219486236572, 2.1728272438049316, 2.130770206451416, 2.129286766052246, 2.149078607559204, 2.159799575805664, 2.1478800773620605, 2.1555771827697754, 2.154745578765869, 2.170743227005005, 2.1320436000823975, 2.1762616634368896, 2.1445705890655518, 2.1612114906311035, 2.147184371948242, 2.1522533893585205, 2.175238609313965, 2.132319927215576, 2.1659486293792725, 2.1417670249938965, 2.139141798019409, 2.158984422683716, 2.1714677810668945, 2.1615989208221436, 2.1707074642181396, 2.165585517883301, 2.1505517959594727, 2.1349024772644043, 2.1737256050109863, 2.1288814544677734, 2.158632278442383, 2.1707491874694824, 2.1518654823303223, 2.145548105239868, 2.168602228164673, 2.146357536315918, 2.1678366661071777, 2.1547558307647705, 2.1447865962982178, 2.162689447402954, 2.145923614501953, 2.1230955123901367, 2.1277506351470947, 2.1500117778778076, 2.1618196964263916, 2.1450374126434326, 2.164457321166992, 2.1571261882781982, 2.1466658115386963, 2.136782169342041, 2.1772286891937256, 2.1487770080566406, 2.103539228439331, 2.1643548011779785, 2.172184467315674, 2.1390390396118164, 2.1300809383392334, 2.1532020568847656, 2.1623380184173584, 2.1524133682250977, 2.139207601547241, 2.133455753326416, 2.1414875984191895, 2.145150899887085, 2.1306352615356445, 2.1555893421173096, 2.1278939247131348, 2.1223204135894775, 2.1604340076446533, 2.145772933959961, 2.1813738346099854, 2.144641876220703, 2.141531467437744, 2.1376726627349854, 2.1679399013519287, 2.16280460357666, 2.1301891803741455, 2.1209022998809814, 2.132847785949707, 2.1334102153778076, 2.156454086303711, 2.1557021141052246, 2.1578571796417236, 2.1547625064849854, 2.1645193099975586, 2.1722464561462402, 2.1324236392974854, 2.1066319942474365, 2.133608102798462, 2.1133933067321777, 2.167787551879883, 2.137704372406006, 2.13490891456604, 2.1506974697113037, 2.1422598361968994, 2.1473512649536133, 2.1531951427459717, 2.170022487640381, 2.118675470352173, 2.160629987716675, 2.139150857925415, 2.125260353088379, 2.1602206230163574, 2.1539220809936523, 2.137669563293457, 2.144152879714966, 2.1419641971588135, 2.1170337200164795, 2.165119171142578, 2.1339192390441895, 2.1517550945281982, 2.1349215507507324, 2.1098294258117676, 2.125805139541626, 2.1462621688842773, 2.1236953735351562, 2.140641212463379, 2.1301310062408447, 2.140310049057007, 2.1597659587860107, 2.1345205307006836, 2.1448206901550293, 2.158731460571289, 2.133915424346924, 2.148371934890747, 2.1452856063842773, 2.137279748916626, 2.1233043670654297, 2.111146926879883, 2.1437177658081055, 2.11582088470459, 2.0905251502990723, 2.134510040283203, 2.158169746398926, 2.143155574798584, 2.1629140377044678, 2.156055450439453, 2.1510848999023438, 2.139780044555664, 2.148218870162964, 2.1589977741241455, 2.1367311477661133, 2.1441192626953125, 2.1296231746673584, 2.1131131649017334, 2.1691389083862305, 2.1414365768432617, 2.1374740600585938, 2.128518581390381, 2.1526153087615967, 2.1261701583862305, 2.1197805404663086, 2.1384007930755615, 2.1706442832946777, 2.135998010635376, 2.1543169021606445, 2.145944356918335, 2.1461992263793945, 2.1031250953674316, 2.124159336090088, 2.1622469425201416, 2.1061627864837646, 2.1424992084503174, 2.115980863571167, 2.147947072982788, 2.154395818710327, 2.133151054382324, 2.1100013256073, 2.1171603202819824, 2.128108263015747, 2.1457648277282715, 2.1149752140045166, 2.1255156993865967, 2.1453499794006348, 2.1480600833892822, 2.1222658157348633, 2.1352484226226807, 2.1307313442230225, 2.1565821170806885, 2.1381053924560547, 2.1171202659606934, 2.1413660049438477, 2.1330342292785645, 2.145993947982788, 2.1642231941223145, 2.121829032897949, 2.1360270977020264, 2.1366453170776367, 2.1384692192077637, 2.1472792625427246, 2.1558539867401123, 2.1547439098358154, 2.1288723945617676, 2.108083724975586, 2.128232955932617, 2.1132376194000244, 2.1384050846099854, 2.1284186840057373, 2.1297545433044434, 2.1076745986938477, 2.1603572368621826, 2.1592440605163574, 2.1357452869415283, 2.108639717102051, 2.115264892578125, 2.102841854095459, 2.1290338039398193, 2.119917869567871, 2.119616746902466, 2.1416800022125244, 2.140906810760498, 2.108675479888916, 2.1327502727508545, 2.1489665508270264, 2.138298749923706, 2.1553609371185303, 2.1696388721466064, 2.1186280250549316, 2.1208341121673584, 2.1330678462982178, 2.146822690963745, 2.1483559608459473, 2.1501383781433105, 2.1113224029541016, 2.1375808715820312, 2.1506402492523193, 2.1423003673553467, 2.1112895011901855, 2.130645990371704, 2.1643028259277344, 2.1352245807647705, 2.144110918045044, 2.143040895462036, 2.120455741882324, 2.151902198791504, 2.1665053367614746, 2.1014668941497803, 2.1253490447998047, 2.124668836593628, 2.1354727745056152, 2.1015493869781494, 2.1397571563720703, 2.1173627376556396, 2.0946009159088135, 2.110255479812622, 2.098053216934204, 2.1314642429351807, 2.1674883365631104, 2.1232190132141113, 2.122450828552246, 2.11136794090271, 2.1425275802612305, 2.0865285396575928, 2.1313157081604004, 2.117182731628418, 2.1134660243988037, 2.1084673404693604, 2.117495536804199, 2.139202356338501, 2.1631524562835693, 2.144538640975952, 2.101672649383545, 2.1654043197631836, 2.1587209701538086, 2.0971083641052246, 2.113333225250244, 2.1311705112457275, 2.136650800704956, 2.1788065433502197, 2.1506600379943848, 2.1520495414733887, 2.1326091289520264, 2.1141531467437744, 2.1236250400543213, 2.1098504066467285, 2.1458516120910645, 2.1394662857055664, 2.1221842765808105, 2.0862529277801514, 2.090636730194092, 2.104140520095825, 2.0893986225128174, 2.107267141342163, 2.159651279449463, 2.1251704692840576, 2.1090354919433594, 2.1315364837646484, 2.1246469020843506, 2.116528272628784, 2.1058499813079834, 2.1463570594787598, 2.134550094604492, 2.117388963699341, 2.1101791858673096, 2.1311049461364746, 2.144827365875244, 2.126270055770874, 2.150869369506836, 2.1065714359283447, 2.1055800914764404, 2.1393990516662598, 2.1390490531921387, 2.109916925430298, 2.1303977966308594, 2.1440024375915527, 2.1498682498931885, 2.1319518089294434, 2.143651247024536, 2.1505095958709717, 2.1450998783111572, 2.118337392807007, 2.1292495727539062, 2.0856430530548096, 2.115626335144043, 2.137660503387451, 2.102993965148926, 2.164043664932251, 2.146019697189331, 2.131844997406006, 2.1193881034851074, 2.1004483699798584, 2.088721513748169, 2.117891550064087, 2.121904134750366, 2.1128780841827393, 2.1311898231506348, 2.0995328426361084, 2.1226749420166016, 2.1137022972106934, 2.0617499351501465, 2.1221604347229004, 2.1182031631469727, 2.1522645950317383, 2.1247379779815674, 2.117704153060913, 2.1411187648773193, 2.126150131225586, 2.0710432529449463, 2.1253676414489746, 2.1140811443328857, 2.088484287261963, 2.1041035652160645, 2.114497184753418, 2.1233441829681396, 2.1527340412139893, 2.1251752376556396, 2.1202516555786133, 2.0915777683258057, 2.1552395820617676, 2.1308867931365967, 2.127408742904663, 2.1421611309051514, 2.1159000396728516, 2.1326816082000732, 2.104924201965332, 2.0993385314941406, 2.141698122024536, 2.1415460109710693, 2.111520767211914, 2.136303424835205, 2.143040180206299, 2.1000125408172607, 2.1041061878204346, 2.0771164894104004, 2.117072343826294, 2.1487200260162354, 2.1320550441741943, 2.0924596786499023, 2.1187689304351807, 2.1342878341674805, 2.096228837966919, 2.109785318374634, 2.101398229598999, 2.0902514457702637, 2.095283269882202, 2.0923876762390137, 2.133002281188965, 2.1217126846313477, 2.1110053062438965, 2.130195379257202, 2.1234002113342285, 2.104102849960327, 2.1033129692077637, 2.1413846015930176, 2.133922815322876, 2.106175422668457, 2.106248617172241, 2.11383318901062, 2.0943734645843506, 2.138516902923584, 2.104696750640869, 2.0998916625976562, 2.123410224914551, 2.137190341949463, 2.118722915649414, 2.104135036468506, 2.102146863937378, 2.13120698928833, 2.1243185997009277, 2.08056902885437, 2.1251494884490967, 2.1197006702423096, 2.132493734359741, 2.120495080947876, 2.1195199489593506, 2.1316347122192383, 2.122049570083618, 2.1209089756011963, 2.1158792972564697, 2.079152822494507, 2.100904941558838, 2.1027672290802, 2.092860698699951, 2.097266435623169, 2.122654438018799, 2.1209468841552734, 2.1054537296295166, 2.0899105072021484, 2.1225836277008057, 2.0935792922973633, 2.1169023513793945, 2.137329578399658, 2.0959250926971436, 2.0800843238830566, 2.1203339099884033, 2.09942889213562, 2.110835313796997, 2.1007418632507324, 2.0923173427581787, 2.086298704147339, 2.0993237495422363, 2.1030311584472656, 2.124354124069214, 2.120213508605957, 2.0922093391418457, 2.085653305053711, 2.12054705619812, 2.082689046859741, 2.093067169189453, 2.1314148902893066, 2.087642192840576, 2.117537498474121, 2.123932123184204, 2.1194050312042236, 2.0824575424194336, 2.102858066558838, 2.0836634635925293, 2.0964503288269043, 2.110766887664795, 2.1035561561584473, 2.1055047512054443, 2.087130308151245, 2.0997040271759033, 2.1091456413269043, 2.0764713287353516, 2.117579221725464, 2.0894854068756104, 2.1314637660980225, 2.0772547721862793, 2.0472700595855713, 2.0977187156677246, 2.078946113586426, 2.1137278079986572, 2.1062192916870117, 2.130833864212036, 2.100731134414673, 2.0924038887023926, 2.1321699619293213, 2.084520101547241, 2.1225922107696533, 2.131939172744751, 2.1056036949157715, 2.0981898307800293, 2.0319035053253174]\n",
      "epoch loss:  2.1515060536134474\n"
     ]
    },
    {
     "name": "stderr",
     "output_type": "stream",
     "text": []
    },
    {
     "name": "stdout",
     "output_type": "stream",
     "text": [
      "Epoch [5/10], Step [100/938], Loss: 2.0895\n"
     ]
    },
    {
     "name": "stderr",
     "output_type": "stream",
     "text": []
    },
    {
     "name": "stdout",
     "output_type": "stream",
     "text": [
      "Epoch [5/10], Step [200/938], Loss: 2.1090\n"
     ]
    },
    {
     "name": "stderr",
     "output_type": "stream",
     "text": []
    },
    {
     "name": "stdout",
     "output_type": "stream",
     "text": [
      "Epoch [5/10], Step [300/938], Loss: 2.0484\n"
     ]
    },
    {
     "name": "stderr",
     "output_type": "stream",
     "text": []
    },
    {
     "name": "stdout",
     "output_type": "stream",
     "text": [
      "Epoch [5/10], Step [400/938], Loss: 1.9908\n"
     ]
    },
    {
     "name": "stderr",
     "output_type": "stream",
     "text": []
    },
    {
     "name": "stdout",
     "output_type": "stream",
     "text": [
      "Epoch [5/10], Step [500/938], Loss: 2.0148\n"
     ]
    },
    {
     "name": "stderr",
     "output_type": "stream",
     "text": []
    },
    {
     "name": "stdout",
     "output_type": "stream",
     "text": [
      "Epoch [5/10], Step [600/938], Loss: 2.0252\n"
     ]
    },
    {
     "name": "stderr",
     "output_type": "stream",
     "text": []
    },
    {
     "name": "stdout",
     "output_type": "stream",
     "text": [
      "Epoch [5/10], Step [700/938], Loss: 2.0102\n"
     ]
    },
    {
     "name": "stderr",
     "output_type": "stream",
     "text": []
    },
    {
     "name": "stdout",
     "output_type": "stream",
     "text": [
      "Epoch [5/10], Step [800/938], Loss: 1.9266\n"
     ]
    },
    {
     "name": "stderr",
     "output_type": "stream",
     "text": [
      "938it [00:04, 187.79it/s]"
     ]
    },
    {
     "name": "stdout",
     "output_type": "stream",
     "text": [
      "Epoch [5/10], Step [900/938], Loss: 1.9481\n"
     ]
    },
    {
     "name": "stderr",
     "output_type": "stream",
     "text": [
      "\n",
      " 50%|█████     | 5/10 [00:24<00:24,  4.93s/it]"
     ]
    },
    {
     "name": "stdout",
     "output_type": "stream",
     "text": [
      "batch loss:  [2.0982837677001953, 2.0965476036071777, 2.0948774814605713, 2.1402628421783447, 2.097214937210083, 2.094304084777832, 2.1308274269104004, 2.0860610008239746, 2.1086976528167725, 2.126371383666992, 2.104660987854004, 2.1049299240112305, 2.1068410873413086, 2.1099817752838135, 2.1072463989257812, 2.1491777896881104, 2.0984785556793213, 2.0753254890441895, 2.111506223678589, 2.0987038612365723, 2.1306402683258057, 2.099975824356079, 2.1089305877685547, 2.06555438041687, 2.1083624362945557, 2.093336343765259, 2.1027750968933105, 2.0927059650421143, 2.087522506713867, 2.141387462615967, 2.0524094104766846, 2.088292360305786, 2.121938943862915, 2.08815860748291, 2.108226776123047, 2.1128454208374023, 2.123924493789673, 2.1138722896575928, 2.1135082244873047, 2.0633983612060547, 2.115610122680664, 2.100736379623413, 2.1133012771606445, 2.101248264312744, 2.118520736694336, 2.1263234615325928, 2.1127004623413086, 2.087928533554077, 2.104353427886963, 2.110053777694702, 2.1261794567108154, 2.095991611480713, 2.080378532409668, 2.0974252223968506, 2.1330809593200684, 2.0840365886688232, 2.067347526550293, 2.083035945892334, 2.104410409927368, 2.070620536804199, 2.0958378314971924, 2.087601661682129, 2.0977840423583984, 2.134596347808838, 2.097585678100586, 2.100416898727417, 2.094576835632324, 2.0426511764526367, 2.05962872505188, 2.063664674758911, 2.047490358352661, 2.085580825805664, 2.0881237983703613, 2.1080098152160645, 2.097391128540039, 2.077533006668091, 2.0855507850646973, 2.1205031871795654, 2.093501329421997, 2.101236581802368, 2.0977797508239746, 2.1248714923858643, 2.096672773361206, 2.0598556995391846, 2.1003260612487793, 2.120684862136841, 2.0898728370666504, 2.084347724914551, 2.0869131088256836, 2.060512065887451, 2.0544791221618652, 2.1203160285949707, 2.0732600688934326, 2.059713840484619, 2.0860655307769775, 2.0989530086517334, 2.0431973934173584, 2.069270372390747, 2.076298475265503, 2.089488983154297, 2.0665969848632812, 2.102825403213501, 2.1208701133728027, 2.0884687900543213, 2.1098155975341797, 2.089317798614502, 2.0759472846984863, 2.1005828380584717, 2.1016414165496826, 2.125581741333008, 2.0855207443237305, 2.08217453956604, 2.115145444869995, 2.09273362159729, 2.070105791091919, 2.0900158882141113, 2.0626168251037598, 2.0787265300750732, 2.091442584991455, 2.121049404144287, 2.0966851711273193, 2.1028177738189697, 2.0963430404663086, 2.036098003387451, 2.0448315143585205, 2.1125152111053467, 2.1084301471710205, 2.041902542114258, 2.072214365005493, 2.083814859390259, 2.077284574508667, 2.079885244369507, 2.0428895950317383, 2.1133363246917725, 2.0560648441314697, 2.067263126373291, 2.0724146366119385, 2.080258369445801, 2.0880613327026367, 2.0863962173461914, 2.0787529945373535, 2.099865436553955, 2.0938150882720947, 2.1302285194396973, 2.040879249572754, 2.075521469116211, 2.0861947536468506, 2.0903377532958984, 2.095137357711792, 2.0732405185699463, 2.0907142162323, 2.082038402557373, 2.0828545093536377, 2.061612367630005, 2.066718101501465, 2.07543683052063, 2.0800604820251465, 2.0989701747894287, 2.1347975730895996, 2.06801438331604, 2.077150821685791, 2.0970983505249023, 2.09743070602417, 2.0785765647888184, 2.084491729736328, 2.070859909057617, 2.0808680057525635, 2.071181058883667, 2.083740234375, 2.1144092082977295, 2.1114940643310547, 2.116447925567627, 2.021153211593628, 2.079651355743408, 2.1134471893310547, 2.0987327098846436, 2.0762903690338135, 2.0879099369049072, 2.1228396892547607, 2.1100523471832275, 2.0817720890045166, 2.054802179336548, 2.0738298892974854, 2.1163175106048584, 2.1230475902557373, 2.0700900554656982, 2.108055353164673, 2.1081361770629883, 2.0930838584899902, 2.0673434734344482, 2.0578908920288086, 2.0846548080444336, 2.0455963611602783, 2.092750310897827, 2.0863072872161865, 2.099290132522583, 2.026909589767456, 2.092543601989746, 2.0968282222747803, 2.1089630126953125, 2.0961344242095947, 2.079592227935791, 2.094547748565674, 2.038054943084717, 2.110887289047241, 2.0107483863830566, 2.09138822555542, 2.091996431350708, 2.084977388381958, 2.09688401222229, 2.109696865081787, 2.0749671459198, 2.107985734939575, 2.0716400146484375, 2.1039717197418213, 2.0460364818573, 2.0714118480682373, 2.0659515857696533, 2.082303285598755, 2.086451292037964, 2.0350747108459473, 2.0353691577911377, 2.0790860652923584, 2.072178363800049, 2.026798725128174, 2.0996615886688232, 2.1129887104034424, 2.1266818046569824, 2.0651373863220215, 2.092221260070801, 2.0747766494750977, 2.073726177215576, 2.0623483657836914, 2.0752429962158203, 2.0925211906433105, 2.0728094577789307, 2.0676910877227783, 2.069481611251831, 2.0832021236419678, 2.0764989852905273, 2.081430435180664, 2.0871729850769043, 2.0800375938415527, 2.0999338626861572, 2.071204662322998, 2.0313925743103027, 2.038290023803711, 2.0369229316711426, 2.0791096687316895, 2.0613372325897217, 2.083184242248535, 2.0813026428222656, 2.0481183528900146, 2.0782017707824707, 2.0649807453155518, 2.0795955657958984, 2.0470664501190186, 2.0401856899261475, 2.085648536682129, 2.0456695556640625, 2.0951008796691895, 2.098055839538574, 2.033440351486206, 2.068467855453491, 2.108757495880127, 2.043318510055542, 2.0537195205688477, 2.0798146724700928, 2.023193597793579, 2.0521082878112793, 2.052145004272461, 2.0361251831054688, 2.049300193786621, 2.0398027896881104, 2.0837271213531494, 2.0379061698913574, 2.089824676513672, 2.0824310779571533, 2.090752601623535, 2.0753307342529297, 2.051910161972046, 2.0805280208587646, 2.0884952545166016, 2.041109323501587, 2.077772378921509, 2.0493531227111816, 2.0393590927124023, 2.067692995071411, 2.0447258949279785, 2.077341318130493, 2.0886647701263428, 2.0851616859436035, 2.044954776763916, 2.0860235691070557, 2.0506222248077393, 2.0894930362701416, 2.0672364234924316, 2.08945631980896, 2.0924220085144043, 2.0483510494232178, 2.080592632293701, 2.107966184616089, 2.070037364959717, 2.0538628101348877, 2.0289249420166016, 2.0671329498291016, 2.0801284313201904, 2.0750625133514404, 2.061042070388794, 2.0431084632873535, 2.0447027683258057, 2.085465908050537, 2.036496877670288, 2.0404279232025146, 2.0814850330352783, 2.0584633350372314, 2.0686633586883545, 2.1015117168426514, 2.0291523933410645, 2.054727792739868, 2.082839012145996, 2.052884578704834, 2.0713086128234863, 2.0500218868255615, 2.066817045211792, 2.045930862426758, 2.0762548446655273, 2.0722291469573975, 2.0526249408721924, 2.0649020671844482, 2.1105916500091553, 2.011977195739746, 2.0442137718200684, 2.063690662384033, 2.065001964569092, 2.0515387058258057, 2.0813374519348145, 2.091097831726074, 2.0588009357452393, 2.0481064319610596, 2.0321152210235596, 1.990576148033142, 2.028333902359009, 2.0332388877868652, 2.057037353515625, 2.052182912826538, 2.0919034481048584, 2.0472850799560547, 1.9993153810501099, 2.0323116779327393, 2.0856618881225586, 2.0634281635284424, 2.0533416271209717, 2.0780551433563232, 2.0536584854125977, 2.0912442207336426, 2.036442279815674, 2.0327229499816895, 2.10302734375, 2.0198965072631836, 2.070697784423828, 1.9977741241455078, 2.064082145690918, 2.0858802795410156, 2.0659265518188477, 2.054518699645996, 2.0661873817443848, 1.982242465019226, 2.047086477279663, 2.0622777938842773, 2.054776191711426, 2.04410457611084, 2.0839626789093018, 2.007551670074463, 1.998760461807251, 2.015669584274292, 2.0529873371124268, 2.0457305908203125, 2.0029449462890625, 2.0312905311584473, 2.038398504257202, 2.0368125438690186, 2.0068259239196777, 2.032923698425293, 2.057985544204712, 2.0617423057556152, 2.0795505046844482, 2.117988109588623, 2.0745368003845215, 2.051654815673828, 2.0860118865966797, 2.0677623748779297, 2.04841685295105, 2.024980306625366, 2.035595178604126, 2.0319831371307373, 2.059144973754883, 2.0273489952087402, 2.0532236099243164, 1.9908065795898438, 2.002175807952881, 2.065751314163208, 2.026092290878296, 2.0903775691986084, 2.0766329765319824, 2.0867109298706055, 2.0014209747314453, 2.0378408432006836, 2.0113296508789062, 2.043992519378662, 2.063214063644409, 2.044642210006714, 2.0488345623016357, 2.006943941116333, 2.031802177429199, 2.049168109893799, 2.065772771835327, 2.0720934867858887, 2.0468170642852783, 2.0392181873321533, 2.0230844020843506, 2.0205743312835693, 2.0904934406280518, 2.09128475189209, 2.0587501525878906, 2.080294132232666, 2.0388619899749756, 2.0527939796447754, 2.06756591796875, 2.0394718647003174, 2.0503242015838623, 2.021806001663208, 2.0160460472106934, 2.0118906497955322, 2.053837299346924, 2.0875697135925293, 2.0456130504608154, 2.0596797466278076, 2.0375635623931885, 2.0163302421569824, 2.014352798461914, 2.0627059936523438, 2.0648953914642334, 2.074183940887451, 2.0540428161621094, 1.954433560371399, 2.0471296310424805, 2.037930488586426, 2.03102707862854, 2.062234401702881, 2.021193742752075, 2.027540683746338, 2.044745445251465, 2.030226707458496, 2.0186545848846436, 2.009490728378296, 2.044785261154175, 2.019996166229248, 2.0705971717834473, 2.0237364768981934, 2.0831363201141357, 2.0330700874328613, 2.074063301086426, 2.0548434257507324, 2.0536158084869385, 2.047508478164673, 2.07926344871521, 2.0768609046936035, 2.0555953979492188, 2.0527496337890625, 2.0619003772735596, 2.0675647258758545, 2.044029951095581, 2.062462329864502, 2.001089096069336, 2.0648066997528076, 2.0452017784118652, 2.0535449981689453, 2.0563573837280273, 2.0459513664245605, 2.0503525733947754, 2.0484399795532227, 2.033456802368164, 1.964609146118164, 2.0433621406555176, 2.0084078311920166, 2.0520081520080566, 2.0027284622192383, 2.018547296524048, 2.0445291996002197, 1.9870356321334839, 2.0635018348693848, 2.072730779647827, 2.0643372535705566, 2.068398952484131, 2.026580333709717, 2.026162624359131, 2.0234711170196533, 2.025240659713745, 2.014848232269287, 1.979305386543274, 2.0657122135162354, 2.039487838745117, 1.9935048818588257, 2.0129382610321045, 2.0403852462768555, 2.0270707607269287, 2.004387378692627, 2.0380358695983887, 2.0565218925476074, 2.0064642429351807, 1.9898054599761963, 2.0594351291656494, 1.994737982749939, 2.1286308765411377, 2.027482032775879, 2.0354747772216797, 2.0359280109405518, 2.0026094913482666, 2.0553700923919678, 2.0732786655426025, 2.0289840698242188, 2.0126662254333496, 2.061202049255371, 2.031285047531128, 2.0502965450286865, 2.004582405090332, 2.072756290435791, 2.0462899208068848, 2.056865692138672, 2.032655715942383, 1.9979534149169922, 1.9481151103973389, 2.0140318870544434, 1.9947394132614136, 2.0172810554504395, 2.067349433898926, 2.0471768379211426, 1.9966639280319214, 2.0292131900787354, 2.0000972747802734, 2.0596303939819336, 2.0458011627197266, 2.0054283142089844, 2.0182406902313232, 2.0667519569396973, 1.9988936185836792, 2.0459201335906982, 2.069946527481079, 2.0542471408843994, 2.0215063095092773, 2.017679452896118, 2.0610368251800537, 2.024343967437744, 1.989819884300232, 2.0249860286712646, 2.0548460483551025, 2.018942356109619, 2.0674068927764893, 2.0347533226013184, 2.025578737258911, 2.014486074447632, 1.9727363586425781, 2.0261685848236084, 2.066134452819824, 1.9997358322143555, 1.9973845481872559, 2.0061018466949463, 2.00665283203125, 2.0458483695983887, 1.9997721910476685, 2.003675699234009, 2.0055742263793945, 2.0020413398742676, 2.046299457550049, 2.0448477268218994, 2.0169947147369385, 2.0304155349731445, 2.03279972076416, 2.017638683319092, 2.028212785720825, 2.032362461090088, 1.9749655723571777, 2.0221340656280518, 1.9886451959609985, 2.018188953399658, 2.0442886352539062, 2.047297954559326, 2.029719352722168, 2.0174195766448975, 1.9974288940429688, 2.0097858905792236, 2.022710084915161, 2.00462007522583, 2.0324044227600098, 2.0153229236602783, 1.9986801147460938, 2.0360162258148193, 2.016183614730835, 2.0251657962799072, 2.011945962905884, 1.9942741394042969, 1.9969546794891357, 2.050976514816284, 2.0187828540802, 2.0260045528411865, 1.9844496250152588, 1.983534812927246, 2.0214922428131104, 2.024467706680298, 2.008575677871704, 2.005826234817505, 2.003964424133301, 1.9664690494537354, 2.0076401233673096, 2.0660598278045654, 2.012824296951294, 2.0215916633605957, 2.00069522857666, 2.0425288677215576, 2.0214438438415527, 1.9979221820831299, 2.02435564994812, 2.029550552368164, 2.0213794708251953, 2.035181760787964, 1.9755361080169678, 2.007075071334839, 2.0356295108795166, 1.9771728515625, 1.9766216278076172, 1.9966039657592773, 2.0286927223205566, 2.017864942550659, 2.006112813949585, 2.0128509998321533, 2.019428014755249, 2.0223782062530518, 1.957367181777954, 2.030409812927246, 2.03763484954834, 1.9905507564544678, 2.0083932876586914, 1.9679720401763916, 1.9895527362823486, 2.015686273574829, 1.9738917350769043, 2.018904447555542, 1.9878920316696167, 2.042752265930176, 1.9326761960983276, 1.9815330505371094, 1.995835781097412, 2.043477773666382, 2.000687599182129, 2.0048458576202393, 2.0174429416656494, 1.9984544515609741, 2.0091376304626465, 2.0269925594329834, 2.0031073093414307, 2.0053467750549316, 2.02341628074646, 1.9792534112930298, 1.977097511291504, 2.006277322769165, 2.0135951042175293, 1.9833048582077026, 1.9757745265960693, 1.973123550415039, 2.0076589584350586, 2.0090487003326416, 1.988966941833496, 1.9997614622116089, 1.9568827152252197, 1.9906282424926758, 1.9853215217590332, 2.0615217685699463, 2.033478260040283, 1.9980803728103638, 2.0460093021392822, 1.973740816116333, 1.9833738803863525, 2.0211541652679443, 2.0154807567596436, 1.9817428588867188, 1.9704104661941528, 1.9770585298538208, 1.9903345108032227, 2.0114636421203613, 2.025977611541748, 1.985594391822815, 2.003103017807007, 1.9716451168060303, 1.9541246891021729, 2.0112240314483643, 1.9939392805099487, 2.026480197906494, 1.9787476062774658, 2.010237216949463, 1.964873194694519, 1.9861295223236084, 2.0326380729675293, 2.02953839302063, 2.016730308532715, 1.9841961860656738, 2.022015333175659, 2.0000715255737305, 1.9989821910858154, 1.983794927597046, 1.9955657720565796, 1.955973505973816, 2.0501489639282227, 1.989868402481079, 2.0240769386291504, 2.0413496494293213, 1.9959019422531128, 2.0497052669525146, 2.01131534576416, 1.999191403388977, 1.9904594421386719, 1.988823413848877, 1.9705379009246826, 1.9828556776046753, 2.0032002925872803, 1.9899390935897827, 2.00323748588562, 2.002718925476074, 2.0323681831359863, 1.9609919786453247, 1.9940555095672607, 1.989676833152771, 1.9045138359069824, 1.9619767665863037, 1.9535589218139648, 1.9289662837982178, 1.9559516906738281, 1.9716551303863525, 2.0041921138763428, 2.0249128341674805, 2.002330780029297, 2.0073812007904053, 2.004117727279663, 1.9270496368408203, 2.0067412853240967, 2.0148346424102783, 2.0320029258728027, 2.026362657546997, 1.98830246925354, 2.0030386447906494, 1.9658128023147583, 1.9521665573120117, 1.997859239578247, 2.024099588394165, 2.0390024185180664, 1.9466789960861206, 1.969223976135254, 1.9733644723892212, 1.9726701974868774, 1.9832963943481445, 1.9884780645370483, 1.9882599115371704, 1.9816431999206543, 2.0358567237854004, 2.0311384201049805, 2.0233042240142822, 1.959233045578003, 1.984363079071045, 1.9715170860290527, 1.9795451164245605, 1.9736958742141724, 1.9596600532531738, 1.979054570198059, 2.0229315757751465, 1.9646532535552979, 1.976866364479065, 2.0463037490844727, 1.9399912357330322, 1.9936013221740723, 2.001356363296509, 2.0268142223358154, 1.9357479810714722, 1.9852702617645264, 2.0090408325195312, 2.013798475265503, 2.0029444694519043, 2.004917860031128, 2.007223129272461, 2.0627825260162354, 1.9881373643875122, 1.9891948699951172, 1.9316107034683228, 1.967978596687317, 1.9805439710617065, 1.9439784288406372, 1.9691952466964722, 2.004848003387451, 1.9806160926818848, 1.9315084218978882, 1.9266185760498047, 2.017763614654541, 2.0158674716949463, 1.9360167980194092, 1.9962819814682007, 1.9630465507507324, 1.969895839691162, 1.9163888692855835, 1.9640297889709473, 1.9930284023284912, 1.9422335624694824, 1.9953973293304443, 1.9004652500152588, 2.0333526134490967, 1.9917676448822021, 1.9907872676849365, 2.0134658813476562, 2.0052075386047363, 1.962465524673462, 1.9876253604888916, 2.0060946941375732, 1.962600827217102, 1.91267728805542, 1.9688197374343872, 1.9848068952560425, 1.9981399774551392, 2.011875629425049, 2.0275516510009766, 1.9052327871322632, 1.9678194522857666, 2.0286459922790527, 2.029540777206421, 2.000284194946289, 1.9912115335464478, 1.9877427816390991, 1.956724762916565, 1.9958128929138184, 1.921006202697754, 1.9778966903686523, 1.9855945110321045, 1.9434211254119873, 1.982628583908081, 1.9769065380096436, 2.0241329669952393, 1.9918636083602905, 1.8915777206420898, 1.9948281049728394, 1.9415088891983032, 2.0151419639587402, 1.9771445989608765, 1.9851657152175903, 1.949283480644226, 1.972389578819275, 1.9260103702545166, 1.9433294534683228, 1.9752041101455688, 1.9582741260528564, 2.012446165084839, 2.026796817779541, 2.0030226707458496, 1.9489578008651733, 1.9689483642578125, 1.9993013143539429, 1.946134090423584, 1.9639942646026611, 1.9608573913574219, 1.9579970836639404, 1.9170405864715576, 1.9403584003448486, 1.9512354135513306, 1.967882513999939, 1.981484293937683, 1.9893763065338135, 1.9623353481292725, 1.9460244178771973, 1.9094136953353882, 2.0291314125061035, 1.9652204513549805, 1.991319179534912, 1.9690676927566528, 1.9709997177124023, 1.996343731880188, 1.9313637018203735, 1.9688035249710083, 1.985535979270935, 1.9466400146484375, 1.8959311246871948, 1.9781321287155151, 2.0035505294799805, 1.976732850074768, 1.9556633234024048, 1.9834108352661133, 1.970977544784546, 1.9687223434448242, 1.9857409000396729, 2.02445387840271, 1.890414834022522, 1.9822176694869995, 2.014962911605835, 2.0070455074310303, 1.9481370449066162, 2.0147666931152344, 2.02187180519104, 1.9992433786392212, 1.997085452079773, 1.9609344005584717, 1.9711881875991821, 1.9340167045593262, 2.021960735321045, 1.9783616065979004, 1.9919874668121338, 1.9358545541763306, 1.9739975929260254, 1.9298021793365479, 1.9469949007034302, 1.9265549182891846, 1.99247407913208, 1.9579386711120605, 1.9684641361236572, 1.9504942893981934, 1.974047303199768, 1.9627974033355713, 1.9390168190002441, 1.9789856672286987, 1.9633591175079346, 1.9419306516647339, 1.9524723291397095, 1.9986720085144043, 1.9095741510391235, 1.9832335710525513, 1.9513702392578125, 1.9790856838226318, 1.9582959413528442, 2.0220768451690674, 1.8805832862854004, 1.893492579460144, 1.8810675144195557, 1.9776926040649414, 1.9555549621582031]\n",
      "epoch loss:  2.0351703075457737\n"
     ]
    },
    {
     "name": "stderr",
     "output_type": "stream",
     "text": []
    },
    {
     "name": "stdout",
     "output_type": "stream",
     "text": [
      "Epoch [6/10], Step [100/938], Loss: 1.9212\n"
     ]
    },
    {
     "name": "stderr",
     "output_type": "stream",
     "text": []
    },
    {
     "name": "stdout",
     "output_type": "stream",
     "text": [
      "Epoch [6/10], Step [200/938], Loss: 1.9163\n"
     ]
    },
    {
     "name": "stderr",
     "output_type": "stream",
     "text": []
    },
    {
     "name": "stdout",
     "output_type": "stream",
     "text": [
      "Epoch [6/10], Step [300/938], Loss: 1.9680\n"
     ]
    },
    {
     "name": "stderr",
     "output_type": "stream",
     "text": []
    },
    {
     "name": "stdout",
     "output_type": "stream",
     "text": [
      "Epoch [6/10], Step [400/938], Loss: 1.9026\n"
     ]
    },
    {
     "name": "stderr",
     "output_type": "stream",
     "text": [
      "\n"
     ]
    },
    {
     "name": "stdout",
     "output_type": "stream",
     "text": [
      "Epoch [6/10], Step [500/938], Loss: 1.8901\n"
     ]
    },
    {
     "name": "stderr",
     "output_type": "stream",
     "text": [
      "539it [00:02, 220.96it/s]\u001b[A"
     ]
    },
    {
     "name": "stdout",
     "output_type": "stream",
     "text": [
      "Epoch [6/10], Step [600/938], Loss: 1.7824\n"
     ]
    },
    {
     "name": "stderr",
     "output_type": "stream",
     "text": []
    },
    {
     "name": "stdout",
     "output_type": "stream",
     "text": [
      "Epoch [6/10], Step [700/938], Loss: 1.8138\n"
     ]
    },
    {
     "name": "stderr",
     "output_type": "stream",
     "text": [
      "\n"
     ]
    },
    {
     "name": "stdout",
     "output_type": "stream",
     "text": [
      "Epoch [6/10], Step [800/938], Loss: 1.7645\n"
     ]
    },
    {
     "name": "stderr",
     "output_type": "stream",
     "text": [
      "938it [00:04, 197.19it/s]\u001b[A"
     ]
    },
    {
     "name": "stdout",
     "output_type": "stream",
     "text": [
      "Epoch [6/10], Step [900/938], Loss: 1.7905\n"
     ]
    },
    {
     "name": "stderr",
     "output_type": "stream",
     "text": [
      "\n",
      " 60%|██████    | 6/10 [00:29<00:19,  4.87s/it]"
     ]
    },
    {
     "name": "stdout",
     "output_type": "stream",
     "text": [
      "batch loss:  [1.8811023235321045, 1.998436689376831, 1.934569001197815, 2.015707492828369, 1.9803205728530884, 1.9637835025787354, 1.9870033264160156, 1.9683570861816406, 1.9728957414627075, 1.9516421556472778, 1.933249831199646, 1.908960223197937, 1.9200823307037354, 1.9618641138076782, 1.9460225105285645, 1.9941928386688232, 1.976484775543213, 1.9554224014282227, 1.9082822799682617, 1.9394491910934448, 1.9090803861618042, 1.9389597177505493, 1.9234800338745117, 1.9583133459091187, 1.9284695386886597, 1.9252287149429321, 1.9695119857788086, 1.9057376384735107, 1.9885003566741943, 1.937683343887329, 1.9791772365570068, 1.9506734609603882, 1.9841703176498413, 1.9067893028259277, 1.9544320106506348, 1.8838038444519043, 1.9563182592391968, 1.9588088989257812, 1.9575741291046143, 1.9266196489334106, 1.9373608827590942, 1.9859638214111328, 1.9490604400634766, 1.916925311088562, 1.9996240139007568, 1.9921116828918457, 1.9168802499771118, 1.97200345993042, 1.951960802078247, 1.8932315111160278, 1.9606711864471436, 1.9277116060256958, 1.9707694053649902, 1.9130220413208008, 1.9593424797058105, 1.924855351448059, 1.9546843767166138, 1.8859723806381226, 1.946738839149475, 1.9430912733078003, 1.9626731872558594, 1.8837177753448486, 1.9124478101730347, 1.9360532760620117, 1.9337748289108276, 1.9881380796432495, 1.9121425151824951, 1.9374233484268188, 1.936307430267334, 1.8806201219558716, 1.8638063669204712, 1.956441879272461, 1.9338579177856445, 1.9399019479751587, 1.9271467924118042, 1.9578170776367188, 1.9428502321243286, 1.9627525806427002, 1.9598379135131836, 1.9692941904067993, 1.9461373090744019, 1.9737714529037476, 1.9150173664093018, 1.8929146528244019, 1.96561598777771, 1.8959088325500488, 1.941479206085205, 1.9331037998199463, 2.0403432846069336, 1.9767473936080933, 1.915014386177063, 1.8741437196731567, 1.900713562965393, 1.9398950338363647, 1.9510796070098877, 1.8979594707489014, 1.9410046339035034, 1.8952840566635132, 1.9213508367538452, 1.9211691617965698, 1.9748079776763916, 1.939932942390442, 1.9411108493804932, 1.9465850591659546, 1.9380065202713013, 1.926807165145874, 1.9341306686401367, 1.924826979637146, 1.9202086925506592, 1.9300096035003662, 1.9709007740020752, 1.9384021759033203, 1.9353002309799194, 1.9214105606079102, 1.9471900463104248, 1.9137535095214844, 1.9261116981506348, 1.8754585981369019, 1.9642622470855713, 1.9020063877105713, 1.9217545986175537, 1.9005708694458008, 1.9458060264587402, 1.9226149320602417, 1.9435491561889648, 1.9785923957824707, 1.8484059572219849, 1.9556924104690552, 1.894851803779602, 1.909057855606079, 1.9607009887695312, 1.9428308010101318, 1.939483404159546, 1.8322035074234009, 1.8616394996643066, 1.9329392910003662, 1.9206451177597046, 1.9095042943954468, 1.876227617263794, 1.9436862468719482, 1.8847821950912476, 1.9266250133514404, 1.9157747030258179, 1.9208217859268188, 1.9768654108047485, 1.9058233499526978, 1.9333943128585815, 1.9426264762878418, 1.9643937349319458, 1.9052232503890991, 1.896418571472168, 1.9349291324615479, 1.8506823778152466, 1.8865602016448975, 1.9033750295639038, 1.9377328157424927, 1.916123390197754, 1.9177675247192383, 1.9069571495056152, 1.9570356607437134, 1.9593020677566528, 1.9355438947677612, 1.9552181959152222, 1.8961361646652222, 1.970324158668518, 1.9690618515014648, 1.840169906616211, 1.9177894592285156, 1.9005677700042725, 1.89664888381958, 1.9314244985580444, 1.9502278566360474, 1.9359914064407349, 1.8632737398147583, 1.9077329635620117, 1.9498521089553833, 1.9287384748458862, 1.8592935800552368, 1.9395897388458252, 1.924440860748291, 1.9611120223999023, 1.9665800333023071, 1.9309269189834595, 1.8617695569992065, 1.9543298482894897, 1.920314073562622, 1.9098267555236816, 1.8786227703094482, 1.9091477394104004, 1.9414310455322266, 1.9027011394500732, 1.893958330154419, 1.9164369106292725, 1.901184320449829, 1.9776805639266968, 1.9650958776474, 1.937719702720642, 1.8415987491607666, 1.9009814262390137, 1.916256308555603, 1.937915325164795, 1.913905382156372, 1.896309733390808, 1.896514654159546, 1.9273571968078613, 1.8737369775772095, 1.9030821323394775, 1.8584668636322021, 1.9514274597167969, 1.9416730403900146, 1.9007482528686523, 1.9055336713790894, 1.923532247543335, 1.9563640356063843, 1.9022880792617798, 1.9502547979354858, 1.9024275541305542, 1.8950241804122925, 1.9023793935775757, 1.9128929376602173, 1.9427597522735596, 1.9178193807601929, 1.9117144346237183, 1.9494433403015137, 1.8900049924850464, 1.8997256755828857, 1.8861446380615234, 1.975982666015625, 1.887715220451355, 1.9318064451217651, 1.8848494291305542, 1.8985612392425537, 1.885209560394287, 1.90024733543396, 1.9323786497116089, 1.8586097955703735, 1.905686378479004, 1.9139398336410522, 1.905893087387085, 1.9374358654022217, 1.8421231508255005, 1.8587428331375122, 1.8922783136367798, 1.8798338174819946, 1.8807051181793213, 1.9895448684692383, 1.822203516960144, 1.9629392623901367, 1.9182384014129639, 1.894182801246643, 1.8917776346206665, 1.922088623046875, 1.8813260793685913, 1.9586639404296875, 1.8850781917572021, 1.9137680530548096, 1.9152064323425293, 1.8619760274887085, 1.8979337215423584, 1.8829604387283325, 1.889025330543518, 1.8634165525436401, 1.9076623916625977, 1.8901342153549194, 1.8921680450439453, 1.9390157461166382, 1.860353708267212, 1.8917027711868286, 1.8419677019119263, 1.8536241054534912, 1.8062920570373535, 1.9091242551803589, 1.8335140943527222, 1.8493250608444214, 1.892319679260254, 1.8843828439712524, 1.8979820013046265, 1.8976653814315796, 1.8218929767608643, 1.9292566776275635, 1.9104772806167603, 1.9268829822540283, 1.8878408670425415, 1.9234939813613892, 1.8912593126296997, 1.9055899381637573, 1.893034815788269, 1.9047355651855469, 1.971132516860962, 1.9289238452911377, 1.850029706954956, 1.8954678773880005, 1.8871397972106934, 1.9399229288101196, 1.924018383026123, 1.910737156867981, 1.845638632774353, 1.8741198778152466, 1.8323044776916504, 1.9679546356201172, 1.8944567441940308, 1.839975118637085, 1.9186768531799316, 1.8881362676620483, 1.9294090270996094, 1.9160773754119873, 1.9497345685958862, 1.855155348777771, 1.8980530500411987, 1.8734997510910034, 1.888193964958191, 1.9588087797164917, 1.8944687843322754, 1.8853559494018555, 1.9325587749481201, 1.8616775274276733, 1.8729761838912964, 1.920039415359497, 1.898954153060913, 1.9538919925689697, 1.8366997241973877, 1.8906384706497192, 1.9330418109893799, 1.8362245559692383, 1.8476781845092773, 1.9015558958053589, 1.8949718475341797, 1.8785558938980103, 1.8682961463928223, 1.908422589302063, 1.852378010749817, 1.8303154706954956, 1.8449913263320923, 1.8364306688308716, 1.891037106513977, 1.8553898334503174, 1.892148733139038, 1.8849620819091797, 1.898211121559143, 1.9133986234664917, 1.8958944082260132, 1.8479853868484497, 1.8872092962265015, 1.8948116302490234, 1.8593579530715942, 1.8149505853652954, 1.9209240674972534, 1.90872061252594, 1.875692367553711, 1.907041072845459, 1.8666892051696777, 1.8146181106567383, 1.8984934091567993, 1.9175390005111694, 1.9217338562011719, 1.8860145807266235, 1.862507939338684, 1.8375056982040405, 1.9377918243408203, 1.8520095348358154, 1.8963494300842285, 1.8586477041244507, 1.8114211559295654, 1.838606595993042, 1.8771882057189941, 1.8882352113723755, 1.9485825300216675, 1.8824653625488281, 1.9207844734191895, 1.802249550819397, 1.8626325130462646, 1.8668707609176636, 1.8843110799789429, 1.9552767276763916, 1.883673071861267, 1.8805001974105835, 1.8620047569274902, 1.900437593460083, 1.866111397743225, 1.9272589683532715, 1.8314942121505737, 1.8294495344161987, 1.8286993503570557, 1.8442338705062866, 1.9132524728775024, 1.9092835187911987, 1.9223672151565552, 1.96561598777771, 1.8942939043045044, 1.9065030813217163, 1.8822262287139893, 1.8507342338562012, 1.7842999696731567, 1.9232046604156494, 1.8664686679840088, 1.8343032598495483, 1.8313734531402588, 1.7500964403152466, 1.8538124561309814, 1.9025650024414062, 1.8906961679458618, 1.910033106803894, 1.8461321592330933, 1.8191417455673218, 1.9100013971328735, 1.8403143882751465, 1.868196725845337, 1.8264594078063965, 1.8928844928741455, 1.8814460039138794, 1.8907959461212158, 1.8887851238250732, 1.8525390625, 1.821546196937561, 1.8861799240112305, 1.8356691598892212, 1.8965539932250977, 1.8689987659454346, 1.8678488731384277, 1.7823039293289185, 1.86598801612854, 1.8692492246627808, 1.7903149127960205, 1.7826404571533203, 1.8664695024490356, 1.8407036066055298, 1.819118857383728, 1.8979463577270508, 1.8721433877944946, 1.8663924932479858, 1.9083333015441895, 1.8347725868225098, 1.8332595825195312, 1.843903660774231, 1.81238853931427, 1.835858702659607, 1.843241810798645, 1.8239812850952148, 1.7956770658493042, 1.8665543794631958, 1.8934831619262695, 1.8923194408416748, 1.8614486455917358, 1.8453035354614258, 1.8272446393966675, 1.9087895154953003, 1.8129949569702148, 1.8066692352294922, 1.8165632486343384, 1.8605172634124756, 1.859771490097046, 1.8799402713775635, 1.8153635263442993, 1.9415359497070312, 1.8524534702301025, 1.8702481985092163, 1.9255833625793457, 1.912811517715454, 1.885042667388916, 1.8947557210922241, 1.8085098266601562, 1.8230763673782349, 1.8196954727172852, 1.8145338296890259, 1.8476762771606445, 1.8313730955123901, 1.7998028993606567, 1.8777300119400024, 1.8994871377944946, 1.843601942062378, 1.8453454971313477, 1.8079681396484375, 1.8838777542114258, 1.861515760421753, 1.789661169052124, 1.871917963027954, 1.890393853187561, 1.853346586227417, 1.9030158519744873, 1.8334033489227295, 1.8313274383544922, 1.894625186920166, 1.8879181146621704, 1.8033843040466309, 1.8881924152374268, 1.8459715843200684, 1.863820195198059, 1.850735068321228, 1.80849289894104, 1.8466641902923584, 1.7900280952453613, 1.872773289680481, 1.8871220350265503, 1.7601431608200073, 1.874609112739563, 1.9080482721328735, 1.893545150756836, 1.882009744644165, 1.8474677801132202, 1.8901275396347046, 1.8366825580596924, 1.7754045724868774, 1.8997671604156494, 1.8952957391738892, 1.7614200115203857, 1.8943928480148315, 1.8701741695404053, 1.9197797775268555, 1.8594985008239746, 1.8398923873901367, 1.8216925859451294, 1.9210431575775146, 1.8222323656082153, 1.8435827493667603, 1.8401004076004028, 1.873707890510559, 1.8132935762405396, 1.8975179195404053, 1.8726794719696045, 1.8682751655578613, 1.779831051826477, 1.9139472246170044, 1.8963357210159302, 1.8098137378692627, 1.8788199424743652, 1.7498972415924072, 1.8854128122329712, 1.776058554649353, 1.8492060899734497, 1.8709747791290283, 1.847312569618225, 1.8115109205245972, 1.8894284963607788, 1.9112106561660767, 1.8116106986999512, 1.8801387548446655, 1.8105900287628174, 1.8289257287979126, 1.86161208152771, 1.8885612487792969, 1.8002381324768066, 1.85654878616333, 1.8505256175994873, 1.8230211734771729, 1.7903869152069092, 1.889186978340149, 1.8536806106567383, 1.739328384399414, 1.856465220451355, 1.8044854402542114, 1.8414660692214966, 1.8641798496246338, 1.7924808263778687, 1.8089900016784668, 1.8073917627334595, 1.8442553281784058, 1.9182487726211548, 1.7668359279632568, 1.8208694458007812, 1.8637609481811523, 1.8366022109985352, 1.8000457286834717, 1.7885793447494507, 1.8135987520217896, 1.8861443996429443, 1.8556418418884277, 1.8519313335418701, 1.7601125240325928, 1.8535470962524414, 1.862969994544983, 1.748537540435791, 1.8600159883499146, 1.8045872449874878, 1.8618392944335938, 1.848613977432251, 1.8432172536849976, 1.76204252243042, 1.7764157056808472, 1.8286296129226685, 1.8250378370285034, 1.8270434141159058, 1.810506820678711, 1.8306965827941895, 1.7595479488372803, 1.877544641494751, 1.8420778512954712, 1.8245776891708374, 1.8638945817947388, 1.822044014930725, 1.8314800262451172, 1.774169921875, 1.8626102209091187, 1.8782942295074463, 1.7929834127426147, 1.794662594795227, 1.828399658203125, 1.8371964693069458, 1.8962186574935913, 1.8555070161819458, 1.782367467880249, 1.8175004720687866, 1.9282357692718506, 1.7373337745666504, 1.8275717496871948, 1.8353850841522217, 1.783987045288086, 1.829312801361084, 1.7700570821762085, 1.7835677862167358, 1.8279043436050415, 1.818333625793457, 1.8767746686935425, 1.7923641204833984, 1.8428648710250854, 1.8023347854614258, 1.8488550186157227, 1.8343795537948608, 1.805654525756836, 1.838215947151184, 1.8101519346237183, 1.8828964233398438, 1.8783901929855347, 1.791815996170044, 1.8101205825805664, 1.8730939626693726, 1.9122371673583984, 1.8658696413040161, 1.8142484426498413, 1.7666215896606445, 1.843307375907898, 1.8416553735733032, 1.8014225959777832, 1.730812668800354, 1.8022814989089966, 1.821940541267395, 1.8041726350784302, 1.761583685874939, 1.7940219640731812, 1.8107969760894775, 1.8268476724624634, 1.7972661256790161, 1.844436764717102, 1.8131844997406006, 1.7502398490905762, 1.8595633506774902, 1.8059273958206177, 1.820021629333496, 1.821624517440796, 1.7107290029525757, 1.8242632150650024, 1.832596778869629, 1.7659435272216797, 1.8304011821746826, 1.814523458480835, 1.756949782371521, 1.7601898908615112, 1.812879204750061, 1.7732746601104736, 1.8334131240844727, 1.7814706563949585, 1.789454698562622, 1.841383934020996, 1.793076753616333, 1.8194233179092407, 1.804424524307251, 1.7909440994262695, 1.8296878337860107, 1.8294070959091187, 1.786001205444336, 1.775647521018982, 1.7876758575439453, 1.8487389087677002, 1.7923344373703003, 1.8009196519851685, 1.8203176259994507, 1.7205512523651123, 1.7623298168182373, 1.816696047782898, 1.765988826751709, 1.7259858846664429, 1.7855215072631836, 1.687433123588562, 1.881337285041809, 1.8124419450759888, 1.8172839879989624, 1.7389119863510132, 1.8436434268951416, 1.8467248678207397, 1.7633440494537354, 1.7879918813705444, 1.7813923358917236, 1.7995128631591797, 1.719024658203125, 1.765733242034912, 1.755919337272644, 1.805936574935913, 1.7924143075942993, 1.7864534854888916, 1.7825291156768799, 1.813778281211853, 1.9184179306030273, 1.858214259147644, 1.8007712364196777, 1.8239305019378662, 1.732426643371582, 1.7755264043807983, 1.8153622150421143, 1.7699216604232788, 1.8414461612701416, 1.7456642389297485, 1.7738544940948486, 1.7504016160964966, 1.806343674659729, 1.759613037109375, 1.7909635305404663, 1.7735849618911743, 1.8036742210388184, 1.7935879230499268, 1.816522240638733, 1.8392499685287476, 1.7459863424301147, 1.8483444452285767, 1.824315071105957, 1.7812349796295166, 1.7317850589752197, 1.8057005405426025, 1.7996348142623901, 1.8046114444732666, 1.795507788658142, 1.8542014360427856, 1.8122649192810059, 1.821840524673462, 1.7368112802505493, 1.7584896087646484, 1.8002324104309082, 1.7888131141662598, 1.75790274143219, 1.7944109439849854, 1.7737362384796143, 1.845532774925232, 1.733928918838501, 1.7372448444366455, 1.8049907684326172, 1.758182406425476, 1.8214682340621948, 1.7222703695297241, 1.7489961385726929, 1.7067604064941406, 1.782212257385254, 1.8046234846115112, 1.850449562072754, 1.8562206029891968, 1.8055709600448608, 1.7275103330612183, 1.773605227470398, 1.7889913320541382, 1.794589638710022, 1.783084511756897, 1.773025631904602, 1.7637213468551636, 1.8504054546356201, 1.7122814655303955, 1.8683818578720093, 1.7914869785308838, 1.8371834754943848, 1.8351433277130127, 1.8573094606399536, 1.7076188325881958, 1.6798691749572754, 1.755224585533142, 1.7068231105804443, 1.7716258764266968, 1.7396341562271118, 1.7821556329727173, 1.7987850904464722, 1.8134845495224, 1.8660271167755127, 1.7567812204360962, 1.725205898284912, 1.8313168287277222, 1.7842645645141602, 1.8202786445617676, 1.7741649150848389, 1.8115671873092651, 1.7677197456359863, 1.7215979099273682, 1.7616572380065918, 1.7573812007904053, 1.817665934562683, 1.7844878435134888, 1.7717889547348022, 1.798160195350647, 1.803514003753662, 1.7684344053268433, 1.7413465976715088, 1.7593711614608765, 1.719831943511963, 1.882838249206543, 1.7334727048873901, 1.7645301818847656, 1.6979408264160156, 1.79586660861969, 1.7865313291549683, 1.7741962671279907, 1.7379385232925415, 1.7743773460388184, 1.7526586055755615, 1.7492332458496094, 1.6720621585845947, 1.8334167003631592, 1.7629384994506836, 1.7185237407684326, 1.7047845125198364, 1.7451339960098267, 1.723450779914856, 1.761271357536316, 1.8057299852371216, 1.7204933166503906, 1.6873778104782104, 1.7705315351486206, 1.7534534931182861, 1.7459906339645386, 1.7642806768417358, 1.7989606857299805, 1.8173637390136719, 1.7117706537246704, 1.7931219339370728, 1.753368854522705, 1.751142978668213, 1.7513995170593262, 1.6435208320617676, 1.7577849626541138, 1.7550581693649292, 1.7027841806411743, 1.807916283607483, 1.763564944267273, 1.7267014980316162, 1.7913705110549927, 1.7337944507598877, 1.783582091331482, 1.728379726409912, 1.7755763530731201, 1.7882364988327026, 1.751963496208191, 1.8221429586410522, 1.6903995275497437, 1.831432819366455, 1.827205777168274, 1.7177067995071411, 1.733520269393921, 1.6909973621368408, 1.7461954355239868, 1.755612850189209, 1.683837890625, 1.7284739017486572, 1.754019021987915, 1.6893912553787231, 1.7474782466888428, 1.73587965965271, 1.745867371559143, 1.751188039779663, 1.6876856088638306, 1.736322283744812, 1.7560205459594727, 1.7221531867980957, 1.7378042936325073, 1.761504054069519, 1.739672064781189, 1.6966136693954468, 1.8022674322128296, 1.7112210988998413, 1.685982584953308, 1.7772455215454102, 1.7330440282821655, 1.7934932708740234, 1.7231760025024414, 1.7268524169921875, 1.7273969650268555, 1.829725742340088, 1.7865023612976074, 1.7474830150604248, 1.8016769886016846, 1.742636799812317, 1.7915695905685425, 1.7799066305160522, 1.756278157234192, 1.7265892028808594, 1.6159470081329346, 1.741133689880371, 1.706056833267212, 1.7427809238433838, 1.7102713584899902, 1.8331025838851929, 1.7230606079101562, 1.725989818572998, 1.786022424697876, 1.7290292978286743, 1.7624539136886597, 1.800194501876831, 1.7904727458953857, 1.7538714408874512, 1.7265266180038452, 1.6977289915084839, 1.6733568906784058, 1.7043163776397705, 1.7263922691345215, 1.7067464590072632, 1.6774460077285767, 1.7372554540634155, 1.7739391326904297, 1.7969152927398682, 1.7618516683578491, 1.772221326828003, 1.7414538860321045, 1.7341077327728271, 1.7190924882888794, 1.7239923477172852, 1.7464090585708618, 1.6875303983688354, 1.822990894317627, 1.7844542264938354, 1.713966965675354, 1.6828875541687012, 1.7168095111846924, 1.7262005805969238, 1.7987358570098877, 1.8083064556121826, 1.6826274394989014, 1.814450979232788, 1.6900557279586792, 1.6950434446334839, 1.7455846071243286, 1.6955466270446777, 1.8315277099609375, 1.73501718044281, 1.7239959239959717, 1.7984775304794312, 1.751092553138733]\n",
      "epoch loss:  1.8485510959299898\n"
     ]
    },
    {
     "name": "stderr",
     "output_type": "stream",
     "text": []
    },
    {
     "name": "stdout",
     "output_type": "stream",
     "text": [
      "Epoch [7/10], Step [100/938], Loss: 1.7387\n"
     ]
    },
    {
     "name": "stderr",
     "output_type": "stream",
     "text": []
    },
    {
     "name": "stdout",
     "output_type": "stream",
     "text": [
      "Epoch [7/10], Step [200/938], Loss: 1.6329\n"
     ]
    },
    {
     "name": "stderr",
     "output_type": "stream",
     "text": []
    },
    {
     "name": "stdout",
     "output_type": "stream",
     "text": [
      "Epoch [7/10], Step [300/938], Loss: 1.6383\n"
     ]
    },
    {
     "name": "stderr",
     "output_type": "stream",
     "text": [
      "\n"
     ]
    },
    {
     "name": "stdout",
     "output_type": "stream",
     "text": [
      "Epoch [7/10], Step [400/938], Loss: 1.6065\n"
     ]
    },
    {
     "name": "stderr",
     "output_type": "stream",
     "text": [
      "441it [00:02, 209.59it/s]\u001b[A"
     ]
    },
    {
     "name": "stdout",
     "output_type": "stream",
     "text": [
      "Epoch [7/10], Step [500/938], Loss: 1.5119\n"
     ]
    },
    {
     "name": "stderr",
     "output_type": "stream",
     "text": []
    },
    {
     "name": "stdout",
     "output_type": "stream",
     "text": [
      "Epoch [7/10], Step [600/938], Loss: 1.4553\n"
     ]
    },
    {
     "name": "stderr",
     "output_type": "stream",
     "text": []
    },
    {
     "name": "stdout",
     "output_type": "stream",
     "text": [
      "Epoch [7/10], Step [700/938], Loss: 1.4704\n"
     ]
    },
    {
     "name": "stderr",
     "output_type": "stream",
     "text": [
      "\n"
     ]
    },
    {
     "name": "stdout",
     "output_type": "stream",
     "text": [
      "Epoch [7/10], Step [800/938], Loss: 1.3840\n"
     ]
    },
    {
     "name": "stderr",
     "output_type": "stream",
     "text": [
      "836it [00:04, 194.83it/s]\u001b[A"
     ]
    },
    {
     "name": "stdout",
     "output_type": "stream",
     "text": [
      "Epoch [7/10], Step [900/938], Loss: 1.4366\n"
     ]
    },
    {
     "name": "stderr",
     "output_type": "stream",
     "text": [
      "938it [00:04, 193.84it/s]\n",
      " 70%|███████   | 7/10 [00:34<00:14,  4.86s/it]"
     ]
    },
    {
     "name": "stdout",
     "output_type": "stream",
     "text": [
      "batch loss:  [1.7121403217315674, 1.717111587524414, 1.7490932941436768, 1.7761188745498657, 1.756646752357483, 1.6892575025558472, 1.6161997318267822, 1.729234218597412, 1.781504511833191, 1.735528826713562, 1.7702792882919312, 1.7515590190887451, 1.7285000085830688, 1.7146730422973633, 1.6427236795425415, 1.7220031023025513, 1.738006353378296, 1.6879675388336182, 1.7424286603927612, 1.666887879371643, 1.6684156656265259, 1.6967086791992188, 1.819711685180664, 1.7502468824386597, 1.6042314767837524, 1.6695489883422852, 1.714701533317566, 1.7812530994415283, 1.7512425184249878, 1.761093258857727, 1.7470500469207764, 1.7401758432388306, 1.736496090888977, 1.709580659866333, 1.6583631038665771, 1.728060245513916, 1.744227409362793, 1.6875600814819336, 1.7691794633865356, 1.6904462575912476, 1.7145895957946777, 1.708975911140442, 1.7897428274154663, 1.7180670499801636, 1.7690578699111938, 1.7208483219146729, 1.7476928234100342, 1.729148030281067, 1.7046761512756348, 1.7395821809768677, 1.7417223453521729, 1.7554839849472046, 1.725987195968628, 1.6613143682479858, 1.7535752058029175, 1.7288070917129517, 1.662118673324585, 1.7103191614151, 1.8275913000106812, 1.6984033584594727, 1.6367733478546143, 1.7063878774642944, 1.6794297695159912, 1.754997968673706, 1.6757732629776, 1.6628552675247192, 1.694984793663025, 1.7580773830413818, 1.6329377889633179, 1.7116111516952515, 1.7077381610870361, 1.6840782165527344, 1.5898195505142212, 1.682213544845581, 1.676026701927185, 1.7747128009796143, 1.6517221927642822, 1.6590625047683716, 1.7828199863433838, 1.69800865650177, 1.748156189918518, 1.7462631464004517, 1.6548058986663818, 1.745386004447937, 1.7519855499267578, 1.7648006677627563, 1.6469337940216064, 1.701731562614441, 1.6306935548782349, 1.7290314435958862, 1.619096040725708, 1.7061868906021118, 1.614445686340332, 1.6333460807800293, 1.7400004863739014, 1.6657156944274902, 1.7198256254196167, 1.7638427019119263, 1.6113709211349487, 1.7387381792068481, 1.756298303604126, 1.6674432754516602, 1.6826355457305908, 1.614263892173767, 1.675797700881958, 1.815487027168274, 1.7350300550460815, 1.7415648698806763, 1.7799526453018188, 1.6612613201141357, 1.6784162521362305, 1.7408339977264404, 1.8133968114852905, 1.7454090118408203, 1.7004094123840332, 1.7128196954727173, 1.709862470626831, 1.6648523807525635, 1.7555384635925293, 1.6196318864822388, 1.7397757768630981, 1.719161033630371, 1.7996933460235596, 1.6977858543395996, 1.6797813177108765, 1.6739873886108398, 1.738101840019226, 1.7323180437088013, 1.6353394985198975, 1.6984870433807373, 1.6610509157180786, 1.6590697765350342, 1.7095218896865845, 1.6193273067474365, 1.795629620552063, 1.6798622608184814, 1.6658570766448975, 1.697664499282837, 1.7026522159576416, 1.6324329376220703, 1.6471452713012695, 1.7294435501098633, 1.6987708806991577, 1.6556257009506226, 1.6811167001724243, 1.6861131191253662, 1.6961870193481445, 1.655436396598816, 1.692574143409729, 1.6984360218048096, 1.7626570463180542, 1.6712348461151123, 1.7221848964691162, 1.662063717842102, 1.679783821105957, 1.6594148874282837, 1.6643226146697998, 1.7502565383911133, 1.5541443824768066, 1.7207083702087402, 1.6932952404022217, 1.7306126356124878, 1.713076114654541, 1.6560149192810059, 1.7004761695861816, 1.6591397523880005, 1.707051396369934, 1.633924126625061, 1.5728224515914917, 1.6320163011550903, 1.716974139213562, 1.6946113109588623, 1.6264574527740479, 1.6950957775115967, 1.6824034452438354, 1.6920161247253418, 1.742419958114624, 1.6342986822128296, 1.601431965827942, 1.607330322265625, 1.675266981124878, 1.6207921504974365, 1.6124578714370728, 1.6723295450210571, 1.5654211044311523, 1.589633822441101, 1.642581820487976, 1.6899808645248413, 1.6474429368972778, 1.62423574924469, 1.719358205795288, 1.596933364868164, 1.6003665924072266, 1.6964877843856812, 1.7129687070846558, 1.696532964706421, 1.6798757314682007, 1.7581795454025269, 1.7212114334106445, 1.6329201459884644, 1.7014484405517578, 1.719481110572815, 1.6414803266525269, 1.6331443786621094, 1.6666158437728882, 1.6549293994903564, 1.7239776849746704, 1.7269060611724854, 1.5887795686721802, 1.666141152381897, 1.6929025650024414, 1.6221601963043213, 1.6596075296401978, 1.6907848119735718, 1.5984820127487183, 1.6339588165283203, 1.6776373386383057, 1.7113507986068726, 1.6974163055419922, 1.6538418531417847, 1.6193963289260864, 1.6739877462387085, 1.717657208442688, 1.6635425090789795, 1.6997559070587158, 1.5941118001937866, 1.5123461484909058, 1.670034408569336, 1.6516844034194946, 1.6683660745620728, 1.7376227378845215, 1.7288633584976196, 1.6523383855819702, 1.6308921575546265, 1.6140846014022827, 1.6808422803878784, 1.595287799835205, 1.575720191001892, 1.6932933330535889, 1.6633282899856567, 1.6145230531692505, 1.6812726259231567, 1.5711591243743896, 1.631751537322998, 1.6204965114593506, 1.7030826807022095, 1.6037404537200928, 1.612520456314087, 1.6472349166870117, 1.5899238586425781, 1.6864417791366577, 1.7032692432403564, 1.5743062496185303, 1.6483067274093628, 1.694983720779419, 1.6568979024887085, 1.6437995433807373, 1.619362711906433, 1.6021027565002441, 1.601519227027893, 1.6212332248687744, 1.6477388143539429, 1.5674023628234863, 1.6627886295318604, 1.6318625211715698, 1.5305687189102173, 1.6502695083618164, 1.6207568645477295, 1.615851640701294, 1.5841554403305054, 1.6923481225967407, 1.6064940690994263, 1.6158474683761597, 1.5352634191513062, 1.7133760452270508, 1.6420707702636719, 1.5893843173980713, 1.6704827547073364, 1.6590352058410645, 1.6852811574935913, 1.6365512609481812, 1.5760654211044312, 1.6387598514556885, 1.5555992126464844, 1.6137267351150513, 1.5526915788650513, 1.6169495582580566, 1.6247769594192505, 1.6512778997421265, 1.7106212377548218, 1.6828862428665161, 1.6486222743988037, 1.6300309896469116, 1.5590442419052124, 1.6310720443725586, 1.612837791442871, 1.5496107339859009, 1.6509758234024048, 1.658563256263733, 1.6382917165756226, 1.6825045347213745, 1.5694918632507324, 1.5681219100952148, 1.6018146276474, 1.6704524755477905, 1.644556999206543, 1.5646305084228516, 1.6647871732711792, 1.6100937128067017, 1.5987554788589478, 1.6532751321792603, 1.6814295053482056, 1.550086259841919, 1.663875937461853, 1.632799506187439, 1.6085742712020874, 1.6623307466506958, 1.5797902345657349, 1.7076586484909058, 1.5666621923446655, 1.6888715028762817, 1.5842787027359009, 1.5400316715240479, 1.7282462120056152, 1.6856945753097534, 1.6815135478973389, 1.6880311965942383, 1.6742074489593506, 1.5254106521606445, 1.6493884325027466, 1.6345939636230469, 1.700548529624939, 1.6576061248779297, 1.6016113758087158, 1.6078875064849854, 1.6282292604446411, 1.5777875185012817, 1.5612033605575562, 1.612284779548645, 1.553929328918457, 1.5682482719421387, 1.7127190828323364, 1.5963871479034424, 1.6239877939224243, 1.6322853565216064, 1.7147704362869263, 1.5527381896972656, 1.6254816055297852, 1.6432629823684692, 1.5845876932144165, 1.7117294073104858, 1.5845751762390137, 1.5875240564346313, 1.642451286315918, 1.5873199701309204, 1.6463141441345215, 1.6014012098312378, 1.6331884860992432, 1.6607921123504639, 1.734262466430664, 1.6464916467666626, 1.57850980758667, 1.569846510887146, 1.6487550735473633, 1.604557991027832, 1.623013973236084, 1.627990961074829, 1.682737112045288, 1.640598177909851, 1.7012252807617188, 1.5238202810287476, 1.7381327152252197, 1.6170213222503662, 1.5909919738769531, 1.5471175909042358, 1.5076180696487427, 1.7005507946014404, 1.625601053237915, 1.6015125513076782, 1.6033176183700562, 1.6338822841644287, 1.616355061531067, 1.6187224388122559, 1.6163548231124878, 1.5682255029678345, 1.5841584205627441, 1.6629316806793213, 1.5466477870941162, 1.5984312295913696, 1.6504706144332886, 1.635085105895996, 1.5673139095306396, 1.585376501083374, 1.63944673538208, 1.674554705619812, 1.59481942653656, 1.5758699178695679, 1.5846240520477295, 1.5684475898742676, 1.6065112352371216, 1.5173074007034302, 1.5551968812942505, 1.6780122518539429, 1.5929580926895142, 1.562577247619629, 1.6612162590026855, 1.5078129768371582, 1.550947666168213, 1.6050994396209717, 1.626880168914795, 1.5700290203094482, 1.589228630065918, 1.6428838968276978, 1.541329264640808, 1.5818570852279663, 1.682875156402588, 1.6483796834945679, 1.5672906637191772, 1.479030966758728, 1.6658666133880615, 1.6521143913269043, 1.6768125295639038, 1.543144702911377, 1.562681794166565, 1.663496971130371, 1.5957794189453125, 1.6294176578521729, 1.659607172012329, 1.6274957656860352, 1.6028891801834106, 1.701942801475525, 1.6025856733322144, 1.636635422706604, 1.603015422821045, 1.5500574111938477, 1.5571961402893066, 1.663223147392273, 1.6686643362045288, 1.6502282619476318, 1.6905968189239502, 1.5862014293670654, 1.5424847602844238, 1.667141079902649, 1.6320550441741943, 1.5423853397369385, 1.5959820747375488, 1.6033446788787842, 1.5420057773590088, 1.5829579830169678, 1.5932304859161377, 1.6102157831192017, 1.5469472408294678, 1.6015424728393555, 1.563686490058899, 1.6580801010131836, 1.6782827377319336, 1.658731460571289, 1.7518714666366577, 1.4433811902999878, 1.5340168476104736, 1.5768475532531738, 1.6252747774124146, 1.5971263647079468, 1.6593849658966064, 1.6694265604019165, 1.5128144025802612, 1.6118900775909424, 1.5815402269363403, 1.6072096824645996, 1.5406994819641113, 1.5913972854614258, 1.6017241477966309, 1.6099061965942383, 1.716599702835083, 1.4758883714675903, 1.540317177772522, 1.692946434020996, 1.5451463460922241, 1.5007933378219604, 1.6642184257507324, 1.5068035125732422, 1.582012414932251, 1.593075156211853, 1.548264503479004, 1.5204119682312012, 1.5650917291641235, 1.6561179161071777, 1.5881400108337402, 1.5654162168502808, 1.5688422918319702, 1.5905768871307373, 1.6341149806976318, 1.4948049783706665, 1.5296227931976318, 1.664703607559204, 1.6172573566436768, 1.6392863988876343, 1.562006950378418, 1.5567377805709839, 1.5119481086730957, 1.6338444948196411, 1.6043541431427002, 1.6130702495574951, 1.531475305557251, 1.5300365686416626, 1.6705539226531982, 1.7037277221679688, 1.6637487411499023, 1.4629369974136353, 1.5097743272781372, 1.64776611328125, 1.6697466373443604, 1.6348836421966553, 1.5754090547561646, 1.4787288904190063, 1.5033494234085083, 1.507382869720459, 1.609490990638733, 1.4492747783660889, 1.6511938571929932, 1.5952553749084473, 1.597028374671936, 1.5371626615524292, 1.5379966497421265, 1.6077760457992554, 1.5052870512008667, 1.523179292678833, 1.5908825397491455, 1.5712335109710693, 1.4929975271224976, 1.5422831773757935, 1.5308258533477783, 1.6980196237564087, 1.5767486095428467, 1.595490574836731, 1.6365529298782349, 1.5851179361343384, 1.4877378940582275, 1.5552501678466797, 1.5359668731689453, 1.4751126766204834, 1.4565060138702393, 1.6114115715026855, 1.5320380926132202, 1.5609771013259888, 1.6135518550872803, 1.5958760976791382, 1.5243611335754395, 1.578110933303833, 1.5478490591049194, 1.6356711387634277, 1.4899259805679321, 1.5306257009506226, 1.672226071357727, 1.5584981441497803, 1.4356433153152466, 1.6380747556686401, 1.4576301574707031, 1.6613950729370117, 1.6070047616958618, 1.5814917087554932, 1.5388776063919067, 1.4937509298324585, 1.55214524269104, 1.527430772781372, 1.5868237018585205, 1.4578664302825928, 1.6067938804626465, 1.5447921752929688, 1.5224833488464355, 1.605689287185669, 1.5245295763015747, 1.5171467065811157, 1.5709933042526245, 1.4822906255722046, 1.5487415790557861, 1.570327877998352, 1.6121108531951904, 1.416438341140747, 1.655178427696228, 1.5018409490585327, 1.4718904495239258, 1.6534510850906372, 1.529922366142273, 1.520434856414795, 1.620615005493164, 1.5777556896209717, 1.574530839920044, 1.5826842784881592, 1.5545825958251953, 1.4746087789535522, 1.6513075828552246, 1.4837971925735474, 1.5905457735061646, 1.510036826133728, 1.5172333717346191, 1.4678930044174194, 1.575005292892456, 1.5314878225326538, 1.455342173576355, 1.47737455368042, 1.5567411184310913, 1.5252561569213867, 1.577971339225769, 1.56309974193573, 1.6193253993988037, 1.4712436199188232, 1.5777077674865723, 1.6043615341186523, 1.4191030263900757, 1.5232832431793213, 1.5483037233352661, 1.4865953922271729, 1.5354056358337402, 1.4907528162002563, 1.490274429321289, 1.4552574157714844, 1.4692405462265015, 1.5187510251998901, 1.6434494256973267, 1.5245790481567383, 1.6160166263580322, 1.534130573272705, 1.5261831283569336, 1.5553311109542847, 1.4619026184082031, 1.5194469690322876, 1.4780974388122559, 1.3991698026657104, 1.54804527759552, 1.6083804368972778, 1.4439362287521362, 1.637284517288208, 1.5182359218597412, 1.6946090459823608, 1.4618066549301147, 1.5011298656463623, 1.5538009405136108, 1.5522258281707764, 1.503568410873413, 1.6068494319915771, 1.6134265661239624, 1.6058716773986816, 1.4954277276992798, 1.525195598602295, 1.5606434345245361, 1.4795396327972412, 1.4817705154418945, 1.5253163576126099, 1.4623104333877563, 1.5791171789169312, 1.5823402404785156, 1.4719887971878052, 1.5253173112869263, 1.5807743072509766, 1.5042304992675781, 1.4524472951889038, 1.6003636121749878, 1.4808218479156494, 1.5819146633148193, 1.3862557411193848, 1.5535557270050049, 1.6259632110595703, 1.4929227828979492, 1.6036722660064697, 1.599077582359314, 1.462658166885376, 1.4857243299484253, 1.460368037223816, 1.55141019821167, 1.4822583198547363, 1.577661156654358, 1.6176104545593262, 1.5089210271835327, 1.5436317920684814, 1.5064046382904053, 1.5450879335403442, 1.4981365203857422, 1.5082260370254517, 1.4436818361282349, 1.5792039632797241, 1.4437249898910522, 1.3502233028411865, 1.5977026224136353, 1.5893950462341309, 1.5535575151443481, 1.4640141725540161, 1.6030195951461792, 1.4636787176132202, 1.4176936149597168, 1.5426543951034546, 1.5689687728881836, 1.5482534170150757, 1.4862252473831177, 1.4388905763626099, 1.5675408840179443, 1.498059630393982, 1.5467909574508667, 1.5656713247299194, 1.470434308052063, 1.5169897079467773, 1.5211044549942017, 1.5406618118286133, 1.491493582725525, 1.6026467084884644, 1.5446784496307373, 1.554982304573059, 1.514727234840393, 1.4745796918869019, 1.4989690780639648, 1.4358564615249634, 1.487023949623108, 1.5711958408355713, 1.527374267578125, 1.5174076557159424, 1.530043601989746, 1.5289814472198486, 1.6157302856445312, 1.6269227266311646, 1.4325839281082153, 1.498653769493103, 1.5542415380477905, 1.598628044128418, 1.5384318828582764, 1.4447956085205078, 1.4842437505722046, 1.4939771890640259, 1.495815396308899, 1.5340303182601929, 1.4532972574234009, 1.4300016164779663, 1.6000006198883057, 1.6034773588180542, 1.5506832599639893, 1.4641491174697876, 1.3479037284851074, 1.4019054174423218, 1.5165446996688843, 1.5863981246948242, 1.4632846117019653, 1.5146347284317017, 1.46769380569458, 1.54339599609375, 1.5254895687103271, 1.615532636642456, 1.5681670904159546, 1.4593372344970703, 1.4204014539718628, 1.5542020797729492, 1.4408665895462036, 1.6007736921310425, 1.5293517112731934, 1.5230427980422974, 1.4661271572113037, 1.5020464658737183, 1.4972753524780273, 1.509347677230835, 1.5641884803771973, 1.5284239053726196, 1.4326753616333008, 1.368408441543579, 1.5172299146652222, 1.5196244716644287, 1.5007350444793701, 1.5399049520492554, 1.5692435503005981, 1.6179487705230713, 1.5871012210845947, 1.4149059057235718, 1.4709913730621338, 1.504221796989441, 1.5050383806228638, 1.5501717329025269, 1.492253303527832, 1.5332878828048706, 1.5040444135665894, 1.5269207954406738, 1.4857873916625977, 1.4872647523880005, 1.5066797733306885, 1.4897867441177368, 1.4970929622650146, 1.5768967866897583, 1.523787260055542, 1.5138553380966187, 1.606163501739502, 1.5107941627502441, 1.513655662536621, 1.4286394119262695, 1.3718478679656982, 1.5358073711395264, 1.4976674318313599, 1.4934968948364258, 1.6116607189178467, 1.4306788444519043, 1.5940183401107788, 1.5510152578353882, 1.5359845161437988, 1.4685903787612915, 1.3839569091796875, 1.5852011442184448, 1.4562103748321533, 1.5073307752609253, 1.5003994703292847, 1.4337795972824097, 1.3734266757965088, 1.487187385559082, 1.4517685174942017, 1.6161277294158936, 1.5127277374267578, 1.3723301887512207, 1.4661699533462524, 1.371530532836914, 1.3849748373031616, 1.4104328155517578, 1.4157238006591797, 1.4685016870498657, 1.4663950204849243, 1.5700702667236328, 1.5158782005310059, 1.4904088973999023, 1.5527974367141724, 1.5159847736358643, 1.4146145582199097, 1.4598357677459717, 1.4533381462097168, 1.4460153579711914, 1.4808696508407593, 1.53158438205719, 1.4717299938201904, 1.4915187358856201, 1.5072379112243652, 1.4821863174438477, 1.4183824062347412, 1.294413447380066, 1.5750854015350342, 1.502848744392395, 1.4665570259094238, 1.4491103887557983, 1.4629244804382324, 1.4924308061599731, 1.3953627347946167, 1.5015308856964111, 1.5772089958190918, 1.3954368829727173, 1.4766385555267334, 1.5337358713150024, 1.4378938674926758, 1.4212552309036255, 1.354990839958191, 1.5068519115447998, 1.455378532409668, 1.4745105504989624, 1.3579378128051758, 1.5088354349136353, 1.4145681858062744, 1.5066169500350952, 1.4941740036010742, 1.4477612972259521, 1.3905805349349976, 1.5196629762649536, 1.5233279466629028, 1.438762903213501, 1.455051064491272, 1.476735234260559, 1.5163265466690063, 1.4745290279388428, 1.5491608381271362, 1.4720473289489746, 1.4262276887893677, 1.523767352104187, 1.4588499069213867, 1.535712718963623, 1.4925751686096191, 1.4467360973358154, 1.412745714187622, 1.4751324653625488, 1.4474494457244873, 1.4553190469741821, 1.5576825141906738, 1.4261599779129028, 1.469362497329712, 1.5006463527679443, 1.3990519046783447, 1.4464747905731201, 1.491766333580017, 1.3593120574951172, 1.374993920326233, 1.4335036277770996, 1.3467098474502563, 1.4596599340438843, 1.4575947523117065, 1.38636314868927, 1.2339845895767212, 1.4781769514083862, 1.4393658638000488, 1.429463267326355, 1.3681522607803345, 1.436943531036377, 1.4366379976272583, 1.4132275581359863, 1.5288777351379395, 1.4548319578170776, 1.302702784538269, 1.5079704523086548, 1.538545846939087, 1.4901503324508667, 1.4231340885162354, 1.4694195985794067, 1.402423620223999, 1.4224789142608643, 1.536708116531372, 1.4661555290222168, 1.4472737312316895, 1.432486653327942, 1.3591928482055664, 1.5468242168426514, 1.5332059860229492, 1.3154398202896118, 1.469206690788269, 1.5699001550674438, 1.3250856399536133, 1.4616998434066772, 1.3955219984054565, 1.4175339937210083, 1.562506914138794, 1.4422694444656372, 1.5432846546173096, 1.4555933475494385, 1.438206672668457, 1.5232787132263184, 1.3101083040237427, 1.4316082000732422, 1.3101146221160889, 1.3341610431671143, 1.3523575067520142, 1.3788909912109375, 1.3795924186706543]\n",
      "epoch loss:  1.5843599397998882\n"
     ]
    },
    {
     "name": "stderr",
     "output_type": "stream",
     "text": []
    },
    {
     "name": "stdout",
     "output_type": "stream",
     "text": [
      "Epoch [8/10], Step [100/938], Loss: 1.4520\n"
     ]
    },
    {
     "name": "stderr",
     "output_type": "stream",
     "text": []
    },
    {
     "name": "stdout",
     "output_type": "stream",
     "text": [
      "Epoch [8/10], Step [200/938], Loss: 1.2636\n"
     ]
    },
    {
     "name": "stderr",
     "output_type": "stream",
     "text": []
    },
    {
     "name": "stdout",
     "output_type": "stream",
     "text": [
      "Epoch [8/10], Step [300/938], Loss: 1.4243\n"
     ]
    },
    {
     "name": "stderr",
     "output_type": "stream",
     "text": []
    },
    {
     "name": "stdout",
     "output_type": "stream",
     "text": [
      "Epoch [8/10], Step [400/938], Loss: 1.3891\n"
     ]
    },
    {
     "name": "stderr",
     "output_type": "stream",
     "text": [
      "\n"
     ]
    },
    {
     "name": "stdout",
     "output_type": "stream",
     "text": [
      "Epoch [8/10], Step [500/938], Loss: 1.2789\n"
     ]
    },
    {
     "name": "stderr",
     "output_type": "stream",
     "text": [
      "523it [00:02, 164.84it/s]\u001b[A"
     ]
    },
    {
     "name": "stdout",
     "output_type": "stream",
     "text": [
      "Epoch [8/10], Step [600/938], Loss: 1.3039\n"
     ]
    },
    {
     "name": "stderr",
     "output_type": "stream",
     "text": []
    },
    {
     "name": "stdout",
     "output_type": "stream",
     "text": [
      "Epoch [8/10], Step [700/938], Loss: 1.2763\n"
     ]
    },
    {
     "name": "stderr",
     "output_type": "stream",
     "text": []
    },
    {
     "name": "stdout",
     "output_type": "stream",
     "text": [
      "Epoch [8/10], Step [800/938], Loss: 1.1825\n"
     ]
    },
    {
     "name": "stderr",
     "output_type": "stream",
     "text": [
      "938it [00:04, 197.38it/s]\n",
      " 80%|████████  | 8/10 [00:39<00:09,  4.83s/it]"
     ]
    },
    {
     "name": "stdout",
     "output_type": "stream",
     "text": [
      "Epoch [8/10], Step [900/938], Loss: 1.2132\n",
      "batch loss:  [1.4152354001998901, 1.4438450336456299, 1.4964362382888794, 1.3842778205871582, 1.3499834537506104, 1.4817891120910645, 1.5114436149597168, 1.4734580516815186, 1.50576651096344, 1.4277520179748535, 1.4137941598892212, 1.4992153644561768, 1.473192811012268, 1.4928380250930786, 1.425878643989563, 1.3814457654953003, 1.351454734802246, 1.4066845178604126, 1.378746747970581, 1.3843543529510498, 1.3848850727081299, 1.5408217906951904, 1.422249436378479, 1.4164917469024658, 1.3854080438613892, 1.3784700632095337, 1.4781365394592285, 1.4295721054077148, 1.4202457666397095, 1.424174427986145, 1.4329123497009277, 1.3779629468917847, 1.3898414373397827, 1.4095654487609863, 1.3823479413986206, 1.4949233531951904, 1.4527266025543213, 1.4101414680480957, 1.3881864547729492, 1.4519133567810059, 1.4327853918075562, 1.4274554252624512, 1.4091254472732544, 1.4722330570220947, 1.3305996656417847, 1.4855955839157104, 1.3822908401489258, 1.3968031406402588, 1.4203170537948608, 1.4327360391616821, 1.4306423664093018, 1.4807019233703613, 1.435015320777893, 1.4169708490371704, 1.2521499395370483, 1.4209582805633545, 1.3828188180923462, 1.5119653940200806, 1.366091251373291, 1.4322502613067627, 1.4038466215133667, 1.4160913228988647, 1.4521034955978394, 1.4903004169464111, 1.4917690753936768, 1.4938730001449585, 1.5150351524353027, 1.4075366258621216, 1.4654057025909424, 1.4516509771347046, 1.460113763809204, 1.3067057132720947, 1.3390429019927979, 1.52193284034729, 1.4882349967956543, 1.480835199356079, 1.3534197807312012, 1.2478642463684082, 1.314211130142212, 1.3382117748260498, 1.3545796871185303, 1.461167335510254, 1.4801409244537354, 1.4059820175170898, 1.4010252952575684, 1.2216345071792603, 1.4547488689422607, 1.3176640272140503, 1.4341676235198975, 1.3679248094558716, 1.3741648197174072, 1.276787281036377, 1.345942497253418, 1.3476126194000244, 1.3293755054473877, 1.426119327545166, 1.4961133003234863, 1.3515934944152832, 1.276178240776062, 1.4520035982131958, 1.3963006734848022, 1.339911937713623, 1.3578773736953735, 1.3253498077392578, 1.3591302633285522, 1.4318184852600098, 1.3828340768814087, 1.3513907194137573, 1.3663657903671265, 1.4029533863067627, 1.3849936723709106, 1.4208786487579346, 1.344765305519104, 1.427212119102478, 1.4600588083267212, 1.4326574802398682, 1.2902384996414185, 1.3657416105270386, 1.3259414434432983, 1.3853024244308472, 1.3307957649230957, 1.2600407600402832, 1.4252063035964966, 1.376918911933899, 1.3882782459259033, 1.2766858339309692, 1.4114311933517456, 1.5027369260787964, 1.330186128616333, 1.4734888076782227, 1.35908842086792, 1.4793928861618042, 1.370620846748352, 1.4070192575454712, 1.4345653057098389, 1.2903659343719482, 1.4686057567596436, 1.4617369174957275, 1.322034478187561, 1.4133491516113281, 1.5338066816329956, 1.3976620435714722, 1.4082458019256592, 1.4118907451629639, 1.289945363998413, 1.3644304275512695, 1.3066850900650024, 1.4965449571609497, 1.3951306343078613, 1.293390154838562, 1.3739851713180542, 1.308677077293396, 1.2840441465377808, 1.371677279472351, 1.3717609643936157, 1.3735110759735107, 1.4643269777297974, 1.3453454971313477, 1.3655266761779785, 1.463610291481018, 1.459094762802124, 1.3861244916915894, 1.3571323156356812, 1.3661930561065674, 1.4002021551132202, 1.4327967166900635, 1.2920794486999512, 1.345659613609314, 1.4097380638122559, 1.3635860681533813, 1.2914187908172607, 1.432142972946167, 1.387330174446106, 1.4144161939620972, 1.346472144126892, 1.3210164308547974, 1.4200410842895508, 1.2734489440917969, 1.3462982177734375, 1.3971495628356934, 1.3507018089294434, 1.301566481590271, 1.4002294540405273, 1.3543046712875366, 1.3549124002456665, 1.4864481687545776, 1.4059380292892456, 1.2770057916641235, 1.4245240688323975, 1.3261710405349731, 1.4114573001861572, 1.3853275775909424, 1.391683578491211, 1.3358540534973145, 1.332434892654419, 1.286595106124878, 1.306692123413086, 1.4388474225997925, 1.4006760120391846, 1.2635763883590698, 1.344053864479065, 1.3358311653137207, 1.3646345138549805, 1.4691773653030396, 1.3793898820877075, 1.3418809175491333, 1.415706753730774, 1.3740745782852173, 1.320682406425476, 1.3572900295257568, 1.4012610912322998, 1.298583984375, 1.452968716621399, 1.4413219690322876, 1.435512661933899, 1.3173619508743286, 1.4040366411209106, 1.3474256992340088, 1.2867997884750366, 1.4803135395050049, 1.2596596479415894, 1.423708438873291, 1.4425842761993408, 1.376173973083496, 1.361715316772461, 1.4721101522445679, 1.4495035409927368, 1.3784921169281006, 1.368769884109497, 1.3677181005477905, 1.300902009010315, 1.329519271850586, 1.3943897485733032, 1.3047441244125366, 1.4356539249420166, 1.3407304286956787, 1.4257395267486572, 1.3141841888427734, 1.3383067846298218, 1.2763739824295044, 1.3244534730911255, 1.4821579456329346, 1.276746153831482, 1.2854100465774536, 1.275393009185791, 1.3629173040390015, 1.3759524822235107, 1.255937099456787, 1.300502896308899, 1.4765225648880005, 1.513491153717041, 1.2933340072631836, 1.4004708528518677, 1.400070309638977, 1.3644098043441772, 1.4343311786651611, 1.2666898965835571, 1.391384243965149, 1.4478166103363037, 1.3161168098449707, 1.3015944957733154, 1.3073530197143555, 1.4623839855194092, 1.348998785018921, 1.4817436933517456, 1.2872153520584106, 1.2753934860229492, 1.3475061655044556, 1.3830506801605225, 1.4812798500061035, 1.356091022491455, 1.3553439378738403, 1.3549467325210571, 1.259474277496338, 1.3963735103607178, 1.3177257776260376, 1.369346022605896, 1.3976353406906128, 1.4452292919158936, 1.4501965045928955, 1.3628956079483032, 1.3239260911941528, 1.4503147602081299, 1.5125714540481567, 1.2667877674102783, 1.3366684913635254, 1.3732495307922363, 1.3599238395690918, 1.4293301105499268, 1.290636420249939, 1.5675206184387207, 1.256140947341919, 1.452884316444397, 1.4260973930358887, 1.2329412698745728, 1.3383656740188599, 1.4211280345916748, 1.4362117052078247, 1.31209397315979, 1.424278974533081, 1.236069679260254, 1.3088945150375366, 1.3944178819656372, 1.2533738613128662, 1.4147833585739136, 1.4544801712036133, 1.3921343088150024, 1.290343999862671, 1.3363865613937378, 1.4532045125961304, 1.4940245151519775, 1.3570122718811035, 1.3336595296859741, 1.371219277381897, 1.3488792181015015, 1.398073673248291, 1.3560287952423096, 1.3390955924987793, 1.2094815969467163, 1.395542025566101, 1.403164267539978, 1.4603203535079956, 1.4078665971755981, 1.3812586069107056, 1.304620623588562, 1.363997220993042, 1.4111521244049072, 1.2815771102905273, 1.3971092700958252, 1.367204189300537, 1.1765727996826172, 1.358773946762085, 1.3248958587646484, 1.1940041780471802, 1.2591158151626587, 1.2852582931518555, 1.2673883438110352, 1.369614601135254, 1.3940476179122925, 1.367355227470398, 1.2477401494979858, 1.4230406284332275, 1.379673719406128, 1.2623364925384521, 1.2689036130905151, 1.282567024230957, 1.323211431503296, 1.295424461364746, 1.2466316223144531, 1.2752078771591187, 1.336973786354065, 1.3341395854949951, 1.167616367340088, 1.2483766078948975, 1.2554411888122559, 1.364028811454773, 1.2593647241592407, 1.30681574344635, 1.4028942584991455, 1.3263417482376099, 1.2646610736846924, 1.375261902809143, 1.3221871852874756, 1.3012359142303467, 1.2892268896102905, 1.3811522722244263, 1.2158575057983398, 1.4703744649887085, 1.3621554374694824, 1.2386678457260132, 1.3311293125152588, 1.2361277341842651, 1.3861546516418457, 1.303311824798584, 1.4398188591003418, 1.2678529024124146, 1.4639675617218018, 1.2659671306610107, 1.2322800159454346, 1.2986421585083008, 1.3386763334274292, 1.276461124420166, 1.2923390865325928, 1.3296020030975342, 1.242801547050476, 1.2879700660705566, 1.3215551376342773, 1.3503831624984741, 1.234748125076294, 1.4253281354904175, 1.3745474815368652, 1.347795844078064, 1.410559892654419, 1.2690526247024536, 1.22588050365448, 1.3800715208053589, 1.3188409805297852, 1.4689457416534424, 1.4661215543746948, 1.389142632484436, 1.2526054382324219, 1.2807915210723877, 1.3614245653152466, 1.2718356847763062, 1.369578242301941, 1.2035537958145142, 1.2732574939727783, 1.352266550064087, 1.2552330493927002, 1.3137798309326172, 1.302547812461853, 1.2706674337387085, 1.2526017427444458, 1.3182581663131714, 1.2682878971099854, 1.4717928171157837, 1.2467620372772217, 1.2848790884017944, 1.3418645858764648, 1.2621259689331055, 1.2783770561218262, 1.32820463180542, 1.3483972549438477, 1.2231110334396362, 1.3381539583206177, 1.370424509048462, 1.2820035219192505, 1.2787604331970215, 1.3331294059753418, 1.2317674160003662, 1.3920544385910034, 1.1990272998809814, 1.363120436668396, 1.3186269998550415, 1.4620304107666016, 1.23177969455719, 1.3550372123718262, 1.3248257637023926, 1.2807682752609253, 1.2744741439819336, 1.3644448518753052, 1.261656403541565, 1.2181414365768433, 1.1856828927993774, 1.393203616142273, 1.3709964752197266, 1.382224678993225, 1.279065728187561, 1.170018196105957, 1.2427698373794556, 1.2681845426559448, 1.3765811920166016, 1.290142297744751, 1.2408522367477417, 1.3702770471572876, 1.3634980916976929, 1.2155895233154297, 1.345920205116272, 1.3467246294021606, 1.2385739088058472, 1.3267180919647217, 1.2996799945831299, 1.307270884513855, 1.2121973037719727, 1.368857979774475, 1.3176180124282837, 1.3434890508651733, 1.2909739017486572, 1.2720017433166504, 1.3494700193405151, 1.4583927392959595, 1.2442553043365479, 1.3128818273544312, 1.3482303619384766, 1.3924764394760132, 1.2641435861587524, 1.2580028772354126, 1.2526568174362183, 1.2583483457565308, 1.3507628440856934, 1.17995023727417, 1.3180360794067383, 1.2793337106704712, 1.4462647438049316, 1.32772696018219, 1.325580358505249, 1.3891476392745972, 1.1133878231048584, 1.320144534111023, 1.2513269186019897, 1.300205945968628, 1.2727597951889038, 1.2273143529891968, 1.3475242853164673, 1.3201028108596802, 1.2050116062164307, 1.2301348447799683, 1.3105502128601074, 1.338602066040039, 1.278947114944458, 1.3223577737808228, 1.2926535606384277, 1.2927374839782715, 1.366234540939331, 1.292512059211731, 1.3178186416625977, 1.4304460287094116, 1.2468255758285522, 1.1612062454223633, 1.214186191558838, 1.2743885517120361, 1.2668542861938477, 1.2363877296447754, 1.2722934484481812, 1.368811011314392, 1.2959330081939697, 1.365459680557251, 1.1697736978530884, 1.2289599180221558, 1.3624229431152344, 1.3052678108215332, 1.2541297674179077, 1.2307567596435547, 1.3248261213302612, 1.2594631910324097, 1.1706693172454834, 1.1396807432174683, 1.3798588514328003, 1.1802961826324463, 1.2814048528671265, 1.1630728244781494, 1.1714801788330078, 1.2784186601638794, 1.2300196886062622, 1.2019217014312744, 1.177438497543335, 1.2937545776367188, 1.3551111221313477, 1.1860392093658447, 1.31589937210083, 1.2687649726867676, 1.3315788507461548, 1.2135229110717773, 1.308793067932129, 1.1769424676895142, 1.2400206327438354, 1.2607487440109253, 1.333088755607605, 1.2911103963851929, 1.2502516508102417, 1.306862711906433, 1.2846344709396362, 1.2270987033843994, 1.2590347528457642, 1.33985435962677, 1.1789745092391968, 1.3891431093215942, 1.1825542449951172, 1.2159191370010376, 1.3083685636520386, 1.3127590417861938, 1.2379953861236572, 1.3492435216903687, 1.1904666423797607, 1.2589530944824219, 1.3952523469924927, 1.2926846742630005, 1.35341215133667, 1.2112144231796265, 1.3652534484863281, 1.271483063697815, 1.3478286266326904, 1.1962358951568604, 1.3097150325775146, 1.2414357662200928, 1.3051203489303589, 1.2052079439163208, 1.4059271812438965, 1.2728232145309448, 1.1777757406234741, 1.2831755876541138, 1.1845719814300537, 1.2768445014953613, 1.1958973407745361, 1.1621785163879395, 1.2629728317260742, 1.3445541858673096, 1.262561559677124, 1.1514767408370972, 1.1422535181045532, 1.1819154024124146, 1.2321782112121582, 1.235245704650879, 1.2345448732376099, 1.198347568511963, 1.280754804611206, 1.125572919845581, 1.241011619567871, 1.2667391300201416, 1.3039071559906006, 1.2529029846191406, 1.3392337560653687, 1.3124737739562988, 1.1410428285598755, 1.273690938949585, 1.31168794631958, 1.3303050994873047, 1.2803072929382324, 1.2654376029968262, 1.2694988250732422, 1.4051182270050049, 1.3218475580215454, 1.3149635791778564, 1.3054088354110718, 1.3040610551834106, 1.2045936584472656, 1.294818639755249, 1.3112834692001343, 1.2610948085784912, 1.2240667343139648, 1.2799047231674194, 1.1527388095855713, 1.2819944620132446, 1.2989920377731323, 1.1504203081130981, 1.2539905309677124, 1.2806771993637085, 1.254076600074768, 1.1486862897872925, 1.224534273147583, 1.200676441192627, 1.1474169492721558, 1.1267083883285522, 1.3012021780014038, 1.1376897096633911, 1.1339317560195923, 1.3027616739273071, 1.1732105016708374, 1.1137797832489014, 1.2648792266845703, 1.2993929386138916, 1.1461318731307983, 1.2843220233917236, 1.1076256036758423, 1.3652206659317017, 1.2384978532791138, 1.2627685070037842, 1.4231029748916626, 1.128771185874939, 1.2255173921585083, 1.2065203189849854, 1.2510664463043213, 1.1886622905731201, 1.1982372999191284, 1.1260842084884644, 1.2519713640213013, 1.303506851196289, 1.2835458517074585, 1.2643343210220337, 1.1747580766677856, 1.1936787366867065, 1.306814432144165, 1.3268290758132935, 1.2731858491897583, 1.324134349822998, 1.2994263172149658, 1.2448302507400513, 1.1116883754730225, 1.211077094078064, 1.3115718364715576, 1.193003535270691, 1.314214825630188, 1.2255631685256958, 1.2177720069885254, 1.2278378009796143, 1.0677462816238403, 1.198459506034851, 1.1625535488128662, 1.2404587268829346, 1.2088834047317505, 1.3175404071807861, 1.2555139064788818, 1.121342420578003, 1.1918361186981201, 1.2290171384811401, 1.1508742570877075, 1.1852896213531494, 1.1672070026397705, 1.2165875434875488, 1.2903470993041992, 1.1428837776184082, 1.1206830739974976, 1.1542870998382568, 1.3460229635238647, 1.1961417198181152, 1.1778417825698853, 1.1746827363967896, 1.290803074836731, 1.246585488319397, 1.276349425315857, 1.2680569887161255, 1.2129594087600708, 1.1607835292816162, 1.133853793144226, 1.2278984785079956, 1.3084806203842163, 1.1765108108520508, 1.245957374572754, 1.1799079179763794, 1.2657933235168457, 1.2758026123046875, 1.2436716556549072, 1.110108494758606, 1.2185413837432861, 1.127921462059021, 1.3150122165679932, 1.1213538646697998, 1.163285732269287, 1.3573412895202637, 1.1768052577972412, 1.1582133769989014, 1.2179932594299316, 1.292431116104126, 1.2841498851776123, 1.2980427742004395, 1.208999752998352, 1.0907517671585083, 1.1163115501403809, 1.1698764562606812, 1.2458465099334717, 1.1891908645629883, 1.1102755069732666, 1.1963574886322021, 1.4156720638275146, 1.2340388298034668, 1.0893549919128418, 1.2701022624969482, 1.3118036985397339, 1.0657165050506592, 1.2979415655136108, 1.145429253578186, 1.2164145708084106, 1.1148908138275146, 1.2360329627990723, 1.140459656715393, 1.2261643409729004, 1.236437439918518, 1.2034026384353638, 1.0719605684280396, 1.2676390409469604, 1.2202743291854858, 1.1527785062789917, 1.257009744644165, 1.1936731338500977, 1.3070660829544067, 1.2709599733352661, 1.14774751663208, 0.9735314249992371, 1.192640781402588, 1.351318120956421, 1.1728771924972534, 1.1581103801727295, 1.2377856969833374, 1.3014061450958252, 1.209433674812317, 1.1786677837371826, 1.208045482635498, 1.186618685722351, 1.238357424736023, 1.1786891222000122, 1.1918655633926392, 1.1129319667816162, 1.1924268007278442, 1.122255563735962, 1.2072149515151978, 1.044988989830017, 1.159242868423462, 1.2364699840545654, 1.3121176958084106, 1.1949440240859985, 1.2140614986419678, 1.1604701280593872, 1.2190024852752686, 1.139801263809204, 1.1325632333755493, 1.208803653717041, 1.2026511430740356, 1.1783753633499146, 1.1983206272125244, 1.2934490442276, 1.126619815826416, 1.3943232297897339, 1.2092626094818115, 1.1941035985946655, 1.088086724281311, 1.2225176095962524, 1.1854758262634277, 1.1589412689208984, 1.2296994924545288, 1.1825019121170044, 1.2321213483810425, 1.1304984092712402, 1.2147656679153442, 1.1807352304458618, 1.2194703817367554, 1.2428370714187622, 1.0894278287887573, 1.1709126234054565, 1.0463099479675293, 1.2443606853485107, 1.1000566482543945, 1.183066725730896, 1.2050827741622925, 1.208254337310791, 1.0728552341461182, 1.2516968250274658, 1.0659469366073608, 1.2822871208190918, 1.2321860790252686, 1.2612162828445435, 1.1516605615615845, 1.0405290126800537, 1.1625028848648071, 1.199605941772461, 1.2153860330581665, 1.1222938299179077, 1.257513403892517, 1.2098931074142456, 1.1989439725875854, 1.2044360637664795, 1.1501145362854004, 1.0865894556045532, 1.0055712461471558, 1.1098361015319824, 1.1936427354812622, 1.1856924295425415, 1.1110775470733643, 1.115341067314148, 1.1610052585601807, 1.1651698350906372, 1.156263828277588, 1.27565336227417, 1.1334967613220215, 1.1475623846054077, 1.1560583114624023, 1.1926054954528809, 1.162571668624878, 1.2341737747192383, 1.1676390171051025, 1.1357134580612183, 1.218537449836731, 1.1760838031768799, 1.1696271896362305, 1.2688950300216675, 1.1176235675811768, 1.2218538522720337, 1.198659896850586, 1.2398825883865356, 1.2415937185287476, 1.139132022857666, 1.1509603261947632, 1.30256187915802, 1.0982873439788818, 1.156923770904541, 1.1962684392929077, 1.1504696607589722, 1.1786999702453613, 1.140974998474121, 1.1911444664001465, 1.1104146242141724, 1.226789116859436, 1.203836441040039, 1.2983286380767822, 1.1755352020263672, 1.2133008241653442, 1.1934468746185303, 1.239875078201294, 1.234277606010437, 1.1531010866165161, 1.1976746320724487, 1.147332787513733, 1.1446396112442017, 1.0955790281295776, 1.0291500091552734, 1.1394277811050415, 1.179084062576294, 1.1851956844329834, 1.2299479246139526, 1.2455965280532837, 1.2016528844833374, 1.261465311050415, 1.063086748123169, 1.262357234954834, 1.1650718450546265, 1.1188116073608398, 1.2152135372161865, 1.1442123651504517, 1.256103515625, 1.222592830657959, 1.2131630182266235, 1.2763779163360596, 1.2111072540283203, 1.1509804725646973, 1.1283416748046875, 1.17693293094635, 1.2470778226852417, 1.1544088125228882, 1.0402532815933228, 1.2053933143615723, 1.1905930042266846, 1.205556869506836, 1.1241768598556519, 1.3388549089431763, 1.1993753910064697, 1.1482362747192383, 1.1511098146438599, 1.1075135469436646, 1.1405879259109497, 1.1916733980178833, 1.1785138845443726, 1.021908164024353, 1.221474528312683, 1.1821722984313965, 1.2246931791305542, 1.1105715036392212, 1.0574795007705688, 1.09060537815094, 1.1375956535339355, 1.1534279584884644, 1.0133293867111206, 1.0538548231124878, 1.101520299911499, 1.0704267024993896, 1.157669186592102, 1.1106441020965576, 1.1675212383270264, 1.254407525062561, 1.0919045209884644]\n",
      "epoch loss:  1.291260561391489\n"
     ]
    },
    {
     "name": "stderr",
     "output_type": "stream",
     "text": []
    },
    {
     "name": "stdout",
     "output_type": "stream",
     "text": [
      "Epoch [9/10], Step [100/938], Loss: 1.1337\n"
     ]
    },
    {
     "name": "stderr",
     "output_type": "stream",
     "text": [
      "\n"
     ]
    },
    {
     "name": "stdout",
     "output_type": "stream",
     "text": [
      "Epoch [9/10], Step [200/938], Loss: 1.1713\n"
     ]
    },
    {
     "name": "stderr",
     "output_type": "stream",
     "text": [
      "247it [00:01, 219.14it/s]\u001b[A"
     ]
    },
    {
     "name": "stdout",
     "output_type": "stream",
     "text": [
      "Epoch [9/10], Step [300/938], Loss: 1.0569\n"
     ]
    },
    {
     "name": "stderr",
     "output_type": "stream",
     "text": []
    },
    {
     "name": "stdout",
     "output_type": "stream",
     "text": [
      "Epoch [9/10], Step [400/938], Loss: 1.0225\n"
     ]
    },
    {
     "name": "stderr",
     "output_type": "stream",
     "text": []
    },
    {
     "name": "stdout",
     "output_type": "stream",
     "text": [
      "Epoch [9/10], Step [500/938], Loss: 1.0245\n"
     ]
    },
    {
     "name": "stderr",
     "output_type": "stream",
     "text": [
      "\n"
     ]
    },
    {
     "name": "stdout",
     "output_type": "stream",
     "text": [
      "Epoch [9/10], Step [600/938], Loss: 0.9171\n"
     ]
    },
    {
     "name": "stderr",
     "output_type": "stream",
     "text": [
      "640it [00:03, 212.16it/s]\u001b[A"
     ]
    },
    {
     "name": "stdout",
     "output_type": "stream",
     "text": [
      "Epoch [9/10], Step [700/938], Loss: 0.9368\n"
     ]
    },
    {
     "name": "stderr",
     "output_type": "stream",
     "text": []
    },
    {
     "name": "stdout",
     "output_type": "stream",
     "text": [
      "Epoch [9/10], Step [800/938], Loss: 0.9760\n"
     ]
    },
    {
     "name": "stderr",
     "output_type": "stream",
     "text": [
      "938it [00:04, 198.19it/s]"
     ]
    },
    {
     "name": "stdout",
     "output_type": "stream",
     "text": [
      "Epoch [9/10], Step [900/938], Loss: 1.0272\n"
     ]
    },
    {
     "name": "stderr",
     "output_type": "stream",
     "text": [
      "\n",
      " 90%|█████████ | 9/10 [00:43<00:04,  4.80s/it]"
     ]
    },
    {
     "name": "stdout",
     "output_type": "stream",
     "text": [
      "batch loss:  [1.1363483667373657, 1.1932425498962402, 1.1563615798950195, 1.144991159439087, 1.1976888179779053, 1.2371060848236084, 1.2465558052062988, 1.1764450073242188, 1.0892095565795898, 1.0935852527618408, 0.9759679436683655, 1.1374038457870483, 1.132065773010254, 1.1768686771392822, 1.2084877490997314, 1.2256524562835693, 1.0993512868881226, 1.0874130725860596, 1.2110369205474854, 1.1584017276763916, 1.1488316059112549, 1.158046841621399, 1.1202894449234009, 1.2883265018463135, 1.0654093027114868, 1.0543413162231445, 1.24807870388031, 1.1137721538543701, 1.125363826751709, 1.0397320985794067, 1.1002511978149414, 1.0380975008010864, 1.1479160785675049, 1.0194275379180908, 1.1353375911712646, 1.0146360397338867, 1.117984652519226, 1.2051299810409546, 1.1014958620071411, 1.13808274269104, 1.1058766841888428, 1.1815372705459595, 1.234071969985962, 1.0516791343688965, 1.2979581356048584, 1.277309536933899, 1.1488972902297974, 1.075653314590454, 1.0779752731323242, 1.0966262817382812, 1.107561707496643, 1.2376408576965332, 1.2145168781280518, 1.2395216226577759, 1.2516618967056274, 1.2218267917633057, 1.0576634407043457, 1.102672815322876, 1.2424067258834839, 1.2397027015686035, 1.1082319021224976, 1.1117916107177734, 1.2344944477081299, 1.20671808719635, 1.0327379703521729, 1.1761113405227661, 1.199237585067749, 1.0253689289093018, 1.2014983892440796, 1.0707731246948242, 1.202270746231079, 1.2410279512405396, 1.088235855102539, 1.1306352615356445, 1.1635197401046753, 1.1394118070602417, 1.267635703086853, 1.1154505014419556, 1.1858839988708496, 1.1467390060424805, 1.0793373584747314, 1.1529046297073364, 1.0679069757461548, 1.1597222089767456, 1.0087921619415283, 1.1003391742706299, 1.1689205169677734, 1.2284928560256958, 1.198340892791748, 1.1505929231643677, 1.1009423732757568, 1.1302340030670166, 1.0871092081069946, 1.0955548286437988, 1.2760491371154785, 1.094565510749817, 1.136814832687378, 1.2156013250350952, 1.1036349534988403, 1.1336880922317505, 1.2013448476791382, 1.1382133960723877, 1.072210431098938, 1.2030597925186157, 1.062993049621582, 1.2496936321258545, 0.989330530166626, 1.08978271484375, 1.2079273462295532, 1.1507233381271362, 1.0282938480377197, 1.0600833892822266, 1.076416015625, 1.2034434080123901, 1.0960463285446167, 1.1179918050765991, 1.1576486825942993, 1.042319893836975, 1.2238972187042236, 1.0908714532852173, 1.0719016790390015, 1.2937052249908447, 1.1718844175338745, 1.0742051601409912, 1.2218279838562012, 1.125456690788269, 1.206384539604187, 1.2419488430023193, 1.1523630619049072, 1.1832178831100464, 1.0511999130249023, 1.06721830368042, 1.1276894807815552, 1.304648756980896, 1.2027053833007812, 1.120450735092163, 1.0742099285125732, 1.0904823541641235, 1.057918906211853, 1.0850439071655273, 1.1047734022140503, 1.109326720237732, 1.0591057538986206, 1.030009150505066, 1.2231600284576416, 1.220841884613037, 1.0558875799179077, 1.0382754802703857, 1.0945849418640137, 0.9690604209899902, 1.1949654817581177, 1.1480653285980225, 1.143123984336853, 1.15608811378479, 1.2394400835037231, 1.0163503885269165, 1.201500415802002, 1.0374488830566406, 1.2248411178588867, 1.2659084796905518, 1.06161367893219, 0.9264170527458191, 1.1431735754013062, 1.1519755125045776, 1.0344616174697876, 1.0145207643508911, 1.1351217031478882, 1.1625758409500122, 1.154746174812317, 1.1671429872512817, 1.0479166507720947, 1.2661287784576416, 1.1544749736785889, 1.0761616230010986, 1.1486667394638062, 0.9772087335586548, 1.0688365697860718, 1.1422882080078125, 1.2141506671905518, 1.124389886856079, 1.0714377164840698, 1.0967130661010742, 1.2868293523788452, 1.0559228658676147, 1.3736127614974976, 1.1303131580352783, 1.1699227094650269, 1.1013036966323853, 1.0373789072036743, 1.1352734565734863, 0.9760730266571045, 1.1414811611175537, 1.0723766088485718, 0.9729181528091431, 1.1060835123062134, 1.038967490196228, 1.0593887567520142, 1.1308395862579346, 1.098120093345642, 1.1712526082992554, 1.144647479057312, 0.9791399836540222, 1.027827501296997, 1.2221863269805908, 1.1667416095733643, 1.1737746000289917, 1.0963425636291504, 1.2473807334899902, 1.159595012664795, 0.9042790532112122, 1.2352557182312012, 1.116855263710022, 1.053731083869934, 1.139021635055542, 1.0074044466018677, 1.0037480592727661, 1.2973557710647583, 1.1720595359802246, 1.0461204051971436, 1.077955722808838, 1.17966890335083, 1.04424250125885, 1.0443859100341797, 1.0850353240966797, 1.0890334844589233, 1.0983530282974243, 1.0257515907287598, 1.1309566497802734, 1.0068364143371582, 1.074912190437317, 1.0575016736984253, 1.1778262853622437, 1.090344786643982, 0.9728385210037231, 1.1250988245010376, 0.9907786250114441, 1.0793068408966064, 1.1166127920150757, 1.1323626041412354, 1.1253383159637451, 1.1732572317123413, 1.0732159614562988, 1.0924229621887207, 1.1341217756271362, 1.160028100013733, 1.0874141454696655, 1.081573724746704, 1.029588222503662, 0.9839755296707153, 1.0812163352966309, 1.1136970520019531, 0.9211901426315308, 1.040266990661621, 1.0533392429351807, 1.1491341590881348, 1.118211030960083, 1.1128901243209839, 1.0006436109542847, 1.147765040397644, 1.0729602575302124, 0.9911513328552246, 1.0272386074066162, 1.2713532447814941, 1.1883538961410522, 1.0934371948242188, 1.046557068824768, 1.0204170942306519, 1.0074162483215332, 1.10153067111969, 0.9898134469985962, 1.1054515838623047, 1.1655219793319702, 1.161422848701477, 1.0075446367263794, 1.1512322425842285, 1.0185837745666504, 0.9294846057891846, 1.007111668586731, 1.0254685878753662, 1.0707085132598877, 1.1020199060440063, 0.9669225811958313, 1.1362254619598389, 1.1232465505599976, 1.0670475959777832, 1.1049156188964844, 1.0645909309387207, 1.105618953704834, 1.0813074111938477, 1.039954662322998, 1.015895128250122, 1.0291786193847656, 1.0716909170150757, 1.1818368434906006, 1.0010735988616943, 1.1075149774551392, 1.086320161819458, 1.0762948989868164, 1.092846155166626, 1.0568724870681763, 1.1364123821258545, 0.9602760076522827, 1.1259275674819946, 1.0921987295150757, 1.221850872039795, 1.163193702697754, 1.1179943084716797, 1.0161031484603882, 1.1492294073104858, 1.0032997131347656, 0.9914498925209045, 1.1324286460876465, 1.0172512531280518, 1.1322675943374634, 1.088549256324768, 1.2127981185913086, 1.067212700843811, 1.0204994678497314, 1.217751145362854, 1.043784260749817, 1.1052733659744263, 1.1788678169250488, 1.0007654428482056, 1.1618982553482056, 1.1827541589736938, 1.0758082866668701, 0.9945374727249146, 1.1900584697723389, 1.0718411207199097, 1.0586516857147217, 1.2086905241012573, 1.1396942138671875, 0.9663492441177368, 1.060518741607666, 0.9591932892799377, 0.960220217704773, 0.982247531414032, 1.0246284008026123, 1.009911060333252, 1.174338459968567, 1.0330272912979126, 1.086315393447876, 1.0501978397369385, 1.0978031158447266, 1.1321550607681274, 1.0945515632629395, 0.9580298066139221, 0.9721040725708008, 1.0627341270446777, 1.0353204011917114, 1.0261324644088745, 1.1317651271820068, 1.08321213722229, 1.1331126689910889, 1.147560715675354, 0.9891058802604675, 1.136353850364685, 1.1254281997680664, 1.009488821029663, 1.0946162939071655, 1.1234829425811768, 1.0506547689437866, 1.0300439596176147, 1.0722781419754028, 1.116989254951477, 1.1790815591812134, 1.0491677522659302, 0.9509804248809814, 1.0901343822479248, 0.9656801819801331, 1.0525176525115967, 1.0836673974990845, 1.1110378503799438, 0.9458203315734863, 0.976107120513916, 1.0230436325073242, 0.9489736557006836, 1.0356659889221191, 1.0615289211273193, 1.1439287662506104, 1.0690078735351562, 1.1320781707763672, 0.9809209704399109, 1.072060465812683, 1.0753810405731201, 1.049408197402954, 0.9729625582695007, 1.012162208557129, 1.0486208200454712, 1.0652998685836792, 0.990726888179779, 0.8825393915176392, 1.0273728370666504, 1.0875035524368286, 1.2358216047286987, 1.1655982732772827, 1.1031394004821777, 1.1107796430587769, 1.0456817150115967, 1.0224958658218384, 1.1469461917877197, 1.0297489166259766, 1.003222107887268, 1.0859638452529907, 1.10634183883667, 1.0456838607788086, 1.0852251052856445, 0.9941601753234863, 1.030213475227356, 1.1573528051376343, 1.0038222074508667, 1.068013310432434, 1.0673694610595703, 0.9681223034858704, 1.1417518854141235, 0.9840980768203735, 0.8540854454040527, 1.1048061847686768, 1.1051280498504639, 1.0478707551956177, 0.9924901127815247, 1.0880614519119263, 1.0322414636611938, 1.1948457956314087, 0.9438279271125793, 1.3012193441390991, 1.0174576044082642, 1.058871865272522, 1.092928409576416, 1.1171873807907104, 1.1156837940216064, 1.1076678037643433, 1.0392104387283325, 1.028374433517456, 1.0865187644958496, 0.9712203145027161, 1.0505727529525757, 0.9618936777114868, 0.9710862636566162, 1.0068566799163818, 1.0768492221832275, 1.0181255340576172, 1.0389246940612793, 1.0553797483444214, 1.0997278690338135, 1.096161127090454, 1.1140644550323486, 1.003943920135498, 0.9569553136825562, 0.9659098386764526, 1.0027754306793213, 1.0479209423065186, 1.196509599685669, 1.0143412351608276, 1.0214132070541382, 1.0877537727355957, 1.073119878768921, 0.9514187574386597, 1.0474894046783447, 1.0778535604476929, 1.0724849700927734, 1.1543002128601074, 1.10324227809906, 0.9955875873565674, 0.9881609678268433, 1.0543380975723267, 1.0085787773132324, 1.035369873046875, 1.0347527265548706, 0.97911137342453, 0.9979416131973267, 1.101420521736145, 0.9615101218223572, 1.054592251777649, 1.0318217277526855, 0.9557084441184998, 1.0991768836975098, 0.9431878328323364, 1.1215935945510864, 1.0467426776885986, 1.125417709350586, 1.003039002418518, 0.9443259239196777, 1.1969902515411377, 0.9725582599639893, 1.035415530204773, 0.9988802075386047, 0.946739137172699, 1.1006672382354736, 1.1743236780166626, 1.0540416240692139, 1.0356814861297607, 0.9510030746459961, 1.0142329931259155, 1.0478357076644897, 1.0829954147338867, 1.0549790859222412, 0.9464784264564514, 1.0212441682815552, 1.024512767791748, 0.9578959941864014, 0.8412233591079712, 1.0027827024459839, 0.9165521264076233, 0.9315680861473083, 0.9747212529182434, 0.9993524551391602, 1.0278245210647583, 1.031429648399353, 0.9636519551277161, 1.135758876800537, 0.8995451331138611, 0.8399097919464111, 0.9236577749252319, 1.0639466047286987, 0.8778523802757263, 1.013527274131775, 1.1402134895324707, 1.0973376035690308, 1.0510705709457397, 0.9358962178230286, 1.1069172620773315, 1.085214614868164, 1.0003997087478638, 1.0938606262207031, 1.181424617767334, 0.9921058416366577, 0.9013417959213257, 0.9686607718467712, 1.053790807723999, 1.1183525323867798, 0.9904599785804749, 0.9858903884887695, 1.1104656457901, 1.0248934030532837, 1.0132651329040527, 0.9899373054504395, 0.9761888980865479, 1.0036743879318237, 1.0516140460968018, 0.9529740810394287, 1.1837782859802246, 1.007051706314087, 1.062232494354248, 0.9572687745094299, 1.07340669631958, 1.0245356559753418, 0.9949278831481934, 1.1372722387313843, 1.1140179634094238, 0.9890827536582947, 1.0317137241363525, 1.053510069847107, 1.0808230638504028, 1.0709749460220337, 1.0293976068496704, 0.9471957087516785, 1.0076411962509155, 1.0842798948287964, 1.000598430633545, 0.9997076988220215, 0.9470257759094238, 1.1553475856781006, 1.0905888080596924, 1.060092806816101, 1.0115599632263184, 0.9749884605407715, 1.0802744626998901, 1.0669852495193481, 1.0308053493499756, 1.2603135108947754, 1.008956789970398, 0.9282118678092957, 1.0664819478988647, 1.0542527437210083, 1.106090784072876, 1.015148639678955, 1.0047487020492554, 0.9811233282089233, 1.1275335550308228, 1.021164059638977, 1.0284253358840942, 0.9413002729415894, 0.9069099426269531, 0.9809624552726746, 0.9578438401222229, 0.9708432555198669, 0.9698960185050964, 0.9771816730499268, 0.9883609414100647, 1.2499767541885376, 1.031591534614563, 1.129744529724121, 0.9369210004806519, 1.142416000366211, 0.9995763897895813, 0.890910804271698, 0.8208244442939758, 1.000874400138855, 0.9170565009117126, 1.038600206375122, 1.042731523513794, 1.0015760660171509, 1.0882618427276611, 0.9984685182571411, 1.0938736200332642, 0.8752917647361755, 1.0836795568466187, 1.075920581817627, 1.1763691902160645, 1.079524278640747, 0.9926208853721619, 1.0067843198776245, 0.9018744826316833, 0.9535402655601501, 1.1160458326339722, 1.0320498943328857, 1.0947413444519043, 0.9791100025177002, 1.0947707891464233, 1.1119089126586914, 1.008951187133789, 0.9137158989906311, 1.0371603965759277, 1.0571104288101196, 1.1274306774139404, 1.1158080101013184, 1.0568434000015259, 1.048107624053955, 0.9976499080657959, 0.9113211035728455, 1.0972449779510498, 0.9995655417442322, 0.9808135628700256, 0.9692577123641968, 0.9889496564865112, 0.9386404752731323, 1.156532883644104, 1.100291132926941, 0.9479033946990967, 1.0115954875946045, 0.9160587191581726, 1.0865522623062134, 1.0747642517089844, 0.9998252391815186, 0.9276633262634277, 0.9950513243675232, 0.9228391647338867, 0.9930844902992249, 1.0540168285369873, 1.100403904914856, 1.1123722791671753, 1.0022052526474, 1.1156353950500488, 0.9878405928611755, 0.9458839893341064, 1.091179609298706, 1.0438079833984375, 1.0751707553863525, 1.0153275728225708, 1.0604139566421509, 0.9744659662246704, 1.0370585918426514, 0.9741984009742737, 1.072043538093567, 0.7546260952949524, 1.1507325172424316, 0.935439944267273, 1.0191118717193604, 0.9493694305419922, 0.9626719355583191, 1.0781607627868652, 1.080930471420288, 0.92085862159729, 0.8807752132415771, 0.968751847743988, 1.043017864227295, 1.1372383832931519, 0.9413900375366211, 0.9622173309326172, 0.9793910980224609, 0.9666786789894104, 1.0654529333114624, 1.0251989364624023, 0.9057725071907043, 1.0339300632476807, 1.0803602933883667, 0.9260171055793762, 1.1770278215408325, 1.1003700494766235, 0.8945766091346741, 1.0156760215759277, 0.8797839879989624, 1.0368072986602783, 0.9042304754257202, 1.0084125995635986, 1.0713943243026733, 1.0663315057754517, 0.844565749168396, 0.9367841482162476, 0.8190907835960388, 1.0239949226379395, 1.0229098796844482, 0.9235796332359314, 1.0224862098693848, 1.0235272645950317, 1.0808659791946411, 1.0447039604187012, 1.061610221862793, 1.0777413845062256, 0.8880030512809753, 1.0861339569091797, 0.9017261862754822, 0.9888998866081238, 0.9887335896492004, 0.9358079433441162, 1.05557382106781, 1.0647647380828857, 1.053039312362671, 1.0287247896194458, 0.9825088381767273, 1.030240774154663, 1.0207959413528442, 1.0201150178909302, 0.9076109528541565, 1.1216974258422852, 1.037971019744873, 0.8396445512771606, 0.9200608134269714, 1.0532068014144897, 1.0912351608276367, 0.9783961176872253, 0.9157897233963013, 1.178098201751709, 0.9764642119407654, 1.0678924322128296, 1.0729641914367676, 0.9770561456680298, 0.9958133101463318, 1.0318841934204102, 0.9492664933204651, 1.2213070392608643, 0.942370593547821, 1.0215915441513062, 1.049773931503296, 1.094599962234497, 0.9833398461341858, 1.0246888399124146, 1.0664656162261963, 0.9029800295829773, 0.9607753157615662, 0.9965083599090576, 1.0784010887145996, 1.052560806274414, 1.0610897541046143, 0.9447808265686035, 0.9886794686317444, 1.0048571825027466, 1.016908049583435, 1.0390418767929077, 1.0950816869735718, 1.0602840185165405, 0.9813676476478577, 1.1080657243728638, 0.8994671702384949, 0.9779019951820374, 0.9603683352470398, 0.815139651298523, 1.111352801322937, 0.8797821998596191, 1.1725585460662842, 1.0090304613113403, 0.8401246666908264, 0.9857671856880188, 1.0182067155838013, 1.026327133178711, 0.9940755367279053, 0.9251787066459656, 1.0571790933609009, 1.080814242362976, 0.8642250299453735, 0.9166278839111328, 0.8669614195823669, 1.0167845487594604, 0.938768208026886, 1.0642948150634766, 1.0319769382476807, 1.0395212173461914, 1.033045768737793, 0.9728947877883911, 0.9532774686813354, 0.9550160765647888, 1.0021177530288696, 0.9334477782249451, 1.0841264724731445, 0.9990347027778625, 0.9386452436447144, 0.9236753582954407, 0.8936878442764282, 0.9760439991950989, 0.8862786293029785, 1.0386033058166504, 1.0077617168426514, 0.9661283493041992, 0.9741171002388, 0.9816147089004517, 0.8352128267288208, 0.9775460958480835, 0.9687696695327759, 0.9876287579536438, 1.0039007663726807, 0.8435226678848267, 0.9254612922668457, 1.051846981048584, 1.0238441228866577, 0.8269564509391785, 0.9614920616149902, 0.9443169832229614, 1.038936734199524, 1.0075016021728516, 0.9264772534370422, 0.9577842354774475, 1.0121792554855347, 1.0038230419158936, 0.968986988067627, 0.9292480945587158, 0.9960185885429382, 0.9033185243606567, 0.8221558332443237, 1.0188597440719604, 1.110346794128418, 1.0057826042175293, 0.9755897521972656, 1.088004231452942, 0.8945947885513306, 0.9135720133781433, 0.8655701279640198, 1.0189580917358398, 0.9487015008926392, 0.9638712406158447, 1.0332940816879272, 0.9646638035774231, 0.995652437210083, 0.8227003216743469, 1.023646354675293, 0.8279802799224854, 0.7872173190116882, 1.0006303787231445, 1.0516406297683716, 0.9779157042503357, 0.8769339919090271, 0.8834134340286255, 0.9439363479614258, 0.9652882814407349, 1.0075914859771729, 0.9956904649734497, 0.8878768682479858, 0.8882238268852234, 0.9862768054008484, 0.9466802477836609, 0.8930260539054871, 0.9309629797935486, 1.011109471321106, 0.937117338180542, 0.888264000415802, 1.0769935846328735, 0.9528338313102722, 1.1954365968704224, 0.8993253707885742, 0.9160230755805969, 0.9033861756324768, 1.000213861465454, 0.8995553851127625, 0.7590357661247253, 1.077172040939331, 1.0562362670898438, 0.7782319188117981, 0.97700434923172, 0.8455900549888611, 0.988562822341919, 0.9955607056617737, 0.905126690864563, 0.9489583969116211, 1.0263170003890991, 1.0120220184326172, 1.0006203651428223, 0.8657251596450806, 0.9841936826705933, 0.989655613899231, 0.9846560955047607, 0.8906286954879761, 0.921984076499939, 0.9269271492958069, 0.9518337845802307, 1.0331311225891113, 0.9321925640106201, 0.8521276712417603, 0.8841314911842346, 1.0871906280517578, 1.0271719694137573, 1.0468398332595825, 0.950562596321106, 0.8635798096656799, 1.0231863260269165, 0.7862939238548279, 0.8689783215522766, 0.913386344909668, 0.875686526298523, 0.8880955576896667, 0.9066701531410217, 0.845798671245575, 0.9009717702865601, 1.0113452672958374, 0.9205753803253174, 0.9874680042266846, 0.862694263458252, 0.8753162622451782, 0.8263938426971436, 0.880238950252533, 0.8108288049697876, 0.8972886800765991, 0.9630139470100403, 0.9029849171638489, 0.9029834270477295, 0.7918501496315002, 0.8957512378692627, 0.8139212131500244, 0.7665273547172546, 0.9442429542541504, 0.8538258075714111, 1.0383964776992798, 0.9655675888061523, 0.8487960696220398, 0.8260738253593445, 0.8864036798477173, 1.0171270370483398, 0.8996323347091675, 0.9381232261657715]\n",
      "epoch loss:  1.0452828039365536\n"
     ]
    },
    {
     "name": "stderr",
     "output_type": "stream",
     "text": []
    },
    {
     "name": "stdout",
     "output_type": "stream",
     "text": [
      "Epoch [10/10], Step [100/938], Loss: 0.9130\n"
     ]
    },
    {
     "name": "stderr",
     "output_type": "stream",
     "text": []
    },
    {
     "name": "stdout",
     "output_type": "stream",
     "text": [
      "Epoch [10/10], Step [200/938], Loss: 1.0088\n"
     ]
    },
    {
     "name": "stderr",
     "output_type": "stream",
     "text": []
    },
    {
     "name": "stdout",
     "output_type": "stream",
     "text": [
      "Epoch [10/10], Step [300/938], Loss: 0.9361\n"
     ]
    },
    {
     "name": "stderr",
     "output_type": "stream",
     "text": []
    },
    {
     "name": "stdout",
     "output_type": "stream",
     "text": [
      "Epoch [10/10], Step [400/938], Loss: 0.8857\n"
     ]
    },
    {
     "name": "stderr",
     "output_type": "stream",
     "text": []
    },
    {
     "name": "stdout",
     "output_type": "stream",
     "text": [
      "Epoch [10/10], Step [500/938], Loss: 0.8754\n"
     ]
    },
    {
     "name": "stderr",
     "output_type": "stream",
     "text": []
    },
    {
     "name": "stdout",
     "output_type": "stream",
     "text": [
      "Epoch [10/10], Step [600/938], Loss: 0.8592\n"
     ]
    },
    {
     "name": "stderr",
     "output_type": "stream",
     "text": []
    },
    {
     "name": "stdout",
     "output_type": "stream",
     "text": [
      "Epoch [10/10], Step [700/938], Loss: 0.6963\n"
     ]
    },
    {
     "name": "stderr",
     "output_type": "stream",
     "text": []
    },
    {
     "name": "stdout",
     "output_type": "stream",
     "text": [
      "Epoch [10/10], Step [800/938], Loss: 0.8666\n"
     ]
    },
    {
     "name": "stderr",
     "output_type": "stream",
     "text": [
      "938it [00:04, 224.49it/s]"
     ]
    },
    {
     "name": "stdout",
     "output_type": "stream",
     "text": [
      "Epoch [10/10], Step [900/938], Loss: 0.7834\n"
     ]
    },
    {
     "name": "stderr",
     "output_type": "stream",
     "text": [
      "\n",
      "100%|██████████| 10/10 [00:47<00:00,  4.79s/it]"
     ]
    },
    {
     "name": "stdout",
     "output_type": "stream",
     "text": [
      "batch loss:  [1.095628023147583, 0.932654857635498, 0.8687024116516113, 0.9201990365982056, 0.8768656253814697, 0.9740101099014282, 0.796413242816925, 0.9563326835632324, 0.932970404624939, 0.9966768026351929, 0.9468461275100708, 0.9689592719078064, 0.9907003045082092, 0.961444079875946, 1.0099159479141235, 1.0772846937179565, 0.940721869468689, 0.7858467698097229, 0.8950962424278259, 0.9556872248649597, 0.973494827747345, 0.8529995083808899, 0.8461498618125916, 1.0050649642944336, 1.097180962562561, 1.054588794708252, 1.022101640701294, 0.956703782081604, 1.0220108032226562, 0.8036016225814819, 0.9620246291160583, 0.9043469429016113, 0.8308302164077759, 0.9421009421348572, 0.9850313663482666, 0.9494721293449402, 0.8635064363479614, 0.9260185956954956, 0.9946072101593018, 0.9843069314956665, 0.9259865283966064, 0.8259100317955017, 0.9933941960334778, 0.8469463586807251, 0.9137022495269775, 0.9951518774032593, 0.8720998764038086, 0.923239529132843, 0.9541969895362854, 1.0196940898895264, 0.8580394387245178, 0.9164327383041382, 0.9288537502288818, 1.0254168510437012, 0.9055683612823486, 0.8738285899162292, 0.8987260460853577, 0.8909022212028503, 0.8939397931098938, 0.8654976487159729, 0.9364397525787354, 0.9636542797088623, 0.9825600981712341, 0.9318128824234009, 0.9232292771339417, 0.9462721943855286, 1.0067859888076782, 0.8451829552650452, 0.9014145135879517, 0.9594963788986206, 1.0816307067871094, 0.8754809498786926, 0.9661363363265991, 0.8776391744613647, 0.9624760746955872, 0.9589142799377441, 0.8538437485694885, 0.8910843133926392, 0.8236607909202576, 0.9577220678329468, 0.9230735898017883, 0.9044011831283569, 1.0113877058029175, 0.818830132484436, 0.8718134164810181, 0.8214696049690247, 0.9262158870697021, 0.9957543611526489, 0.9457407593727112, 0.9227434396743774, 0.8589914441108704, 0.987418532371521, 0.9502343535423279, 0.9898918867111206, 0.9325075745582581, 1.045296549797058, 0.8176469802856445, 0.9557262659072876, 1.0772114992141724, 0.9130499362945557, 0.9414646625518799, 1.0178066492080688, 0.96088045835495, 0.9821939468383789, 0.9103431701660156, 0.8537110686302185, 0.8508511781692505, 0.9039972424507141, 0.8914013504981995, 0.8718161582946777, 1.0545730590820312, 0.8779064416885376, 0.8839495778083801, 1.035251259803772, 0.7398279905319214, 0.9046253561973572, 0.8584936261177063, 1.0855740308761597, 0.9233478903770447, 0.9950337409973145, 0.8951042294502258, 0.8952709436416626, 0.9103744029998779, 0.9521040320396423, 0.9118998050689697, 0.9385640621185303, 1.0042617321014404, 0.875813364982605, 1.0497392416000366, 0.8122774362564087, 0.9825600385665894, 0.9527860879898071, 0.9717441201210022, 0.9366452693939209, 0.929110586643219, 0.873248815536499, 0.9907028079032898, 0.8451981544494629, 0.9093613624572754, 0.9318970441818237, 0.9537585973739624, 1.0440003871917725, 1.0010051727294922, 1.1117371320724487, 0.9459241628646851, 0.9758447408676147, 0.9920346736907959, 0.9664171934127808, 0.9561697244644165, 1.0028271675109863, 0.943972110748291, 0.9400273561477661, 0.9015386700630188, 1.0521975755691528, 1.0464458465576172, 1.0004901885986328, 0.8355620503425598, 0.9341583251953125, 0.9492936730384827, 0.8695973753929138, 0.8139581680297852, 0.9412481188774109, 0.9425342679023743, 0.8822702765464783, 0.8965256810188293, 0.9409723281860352, 1.046997308731079, 1.0481925010681152, 0.7617200016975403, 0.983182966709137, 0.9536293745040894, 0.9496567845344543, 0.9444039463996887, 0.7804861664772034, 0.94557785987854, 0.8567753434181213, 0.9714605808258057, 0.8639889359474182, 0.8210563659667969, 0.951169490814209, 0.849928617477417, 0.8786701560020447, 0.948861837387085, 0.963959276676178, 0.7950205206871033, 0.913252592086792, 0.8480498790740967, 1.043739676475525, 0.7623568773269653, 0.8253408670425415, 0.8386656641960144, 0.9377636909484863, 0.9314925670623779, 0.937598705291748, 0.9319571256637573, 0.8608150482177734, 0.8178181648254395, 0.9871722459793091, 0.8902119994163513, 1.0088176727294922, 0.9431837797164917, 0.8200618624687195, 0.8379330635070801, 0.9012482762336731, 0.9624553322792053, 0.7962546348571777, 0.9106734395027161, 0.8765239119529724, 0.9666005969047546, 0.9673632383346558, 0.9481891393661499, 0.8736028075218201, 0.8321064114570618, 0.8140770792961121, 0.9550847411155701, 0.9545978903770447, 0.8497796058654785, 1.0750585794448853, 0.7970564365386963, 0.9532322883605957, 0.7382709980010986, 0.8745010495185852, 0.8122140765190125, 0.877605140209198, 0.8328424096107483, 0.8862980008125305, 0.9103763699531555, 0.8323653340339661, 0.8465225696563721, 0.8027227520942688, 0.906503438949585, 0.9425737261772156, 0.8324639201164246, 0.8153701424598694, 0.9213366508483887, 0.9158423542976379, 0.9002840518951416, 0.8323379158973694, 0.8042063117027283, 1.0270092487335205, 0.7492376565933228, 0.9655314683914185, 0.7973633408546448, 0.9687099456787109, 0.8734739422798157, 0.8393998146057129, 0.9629874229431152, 0.9229466915130615, 1.0038139820098877, 0.9908011555671692, 0.8424145579338074, 0.8735133409500122, 0.9673495292663574, 0.9864471554756165, 0.8429211974143982, 0.8636552095413208, 0.9360073804855347, 0.7796453833580017, 0.8233998417854309, 0.9116915464401245, 0.8886184692382812, 0.8129285573959351, 0.9843898415565491, 0.8848612308502197, 0.8477878570556641, 0.7939040660858154, 0.8532642722129822, 0.983786404132843, 0.9115834832191467, 0.9454579949378967, 0.7974143028259277, 0.9173555970191956, 0.8875399827957153, 0.9439215064048767, 0.9486735463142395, 0.9222574234008789, 1.0535402297973633, 0.8779264092445374, 1.061647653579712, 0.9534149169921875, 1.0205010175704956, 0.8506080508232117, 1.0084736347198486, 0.8483497500419617, 0.8556205034255981, 1.0163558721542358, 0.9985491037368774, 0.9311662316322327, 0.7768073678016663, 0.9578608274459839, 0.9872456192970276, 0.8321959376335144, 0.9719542264938354, 0.9118627309799194, 0.7938048243522644, 0.9565264582633972, 0.7647184729576111, 0.913358747959137, 0.8271257877349854, 0.9361333847045898, 0.9990904331207275, 1.0242544412612915, 1.021684169769287, 0.9486557841300964, 0.8027350306510925, 0.722335159778595, 1.0949195623397827, 0.8864026069641113, 0.9166236519813538, 0.8199982047080994, 0.8408287167549133, 0.9509315490722656, 0.9388589262962341, 0.9001902937889099, 0.7899632453918457, 0.8416914343833923, 0.8174199461936951, 0.8547477722167969, 0.8317180275917053, 1.0403666496276855, 1.0432759523391724, 0.7587059140205383, 0.9122589230537415, 0.8236747980117798, 0.9224144816398621, 0.8964920043945312, 0.7331356406211853, 0.8652164340019226, 0.8595093488693237, 0.9226954579353333, 0.8924503326416016, 0.9131781458854675, 0.8056038022041321, 0.8438388109207153, 0.8367528915405273, 0.8276841640472412, 0.8805429935455322, 0.8295522332191467, 0.9993972778320312, 0.8668457269668579, 0.8041731715202332, 1.0282155275344849, 0.8749127984046936, 0.9293915629386902, 0.8679665327072144, 1.0188705921173096, 0.9750632047653198, 0.8717395067214966, 0.9802662134170532, 0.9268568754196167, 0.8960484266281128, 0.8694184422492981, 0.9418932199478149, 0.7263172268867493, 0.9579734802246094, 0.9926717281341553, 0.9015998840332031, 0.9127476215362549, 0.9207766056060791, 0.7914413809776306, 0.7892526984214783, 0.8130663633346558, 0.9362629055976868, 0.8621293902397156, 0.8157398104667664, 0.9291715621948242, 1.0096489191055298, 0.7962481379508972, 0.8825076818466187, 0.906719982624054, 0.9249064326286316, 0.9248765707015991, 0.9181105494499207, 0.9113095998764038, 0.8793011903762817, 0.807914674282074, 0.9642874598503113, 0.8252835273742676, 0.8132508397102356, 0.8837108612060547, 0.9139352440834045, 0.8347066640853882, 0.837942898273468, 0.8805832862854004, 0.8672617077827454, 0.8605504631996155, 0.9902463555335999, 0.8659839034080505, 0.9989321231842041, 0.9152350425720215, 0.7991241812705994, 0.8876342177391052, 1.0031189918518066, 0.9088760614395142, 0.7799725532531738, 0.8965115547180176, 0.8726890087127686, 1.0170059204101562, 0.8634640574455261, 0.8857396841049194, 0.8103669881820679, 0.8104162812232971, 0.9074814319610596, 0.8512651920318604, 0.8897473216056824, 0.8880950808525085, 0.837003231048584, 1.053645133972168, 0.8662067651748657, 0.7993714213371277, 0.9568241238594055, 0.9462170600891113, 0.8028126358985901, 0.8549519777297974, 0.9318779706954956, 0.7136762738227844, 0.9344395399093628, 0.7747849225997925, 0.9072409868240356, 0.8875492811203003, 0.9545773267745972, 0.9462937116622925, 0.8304731845855713, 0.882169246673584, 0.8502583503723145, 0.7976667881011963, 0.9132755994796753, 0.8904663920402527, 0.7857518792152405, 0.7538891434669495, 0.8095420598983765, 0.8627873063087463, 0.9004144668579102, 1.0473768711090088, 0.8161463141441345, 0.8128471970558167, 0.8385987877845764, 0.7828201651573181, 0.9523868560791016, 0.7525978088378906, 0.7770573496818542, 0.9043653011322021, 0.9322025775909424, 0.916527271270752, 0.8077967762947083, 0.8394579291343689, 0.7203972339630127, 0.8292452096939087, 0.9818841814994812, 0.814361035823822, 0.8507810831069946, 0.9373985528945923, 0.9342156052589417, 0.872177243232727, 0.8314184546470642, 1.0562876462936401, 0.8480186462402344, 0.7531479597091675, 0.7974916100502014, 0.7441166043281555, 0.8368233442306519, 0.8494563698768616, 0.9046155214309692, 0.9521942138671875, 0.8980604410171509, 0.8849775791168213, 0.8619983792304993, 0.8914130330085754, 0.8188443183898926, 0.8890935182571411, 1.075746774673462, 0.8251203894615173, 0.847517728805542, 0.895739734172821, 0.9499147534370422, 0.8761440515518188, 0.7826278805732727, 0.8188849091529846, 0.9364697933197021, 0.9325730204582214, 0.8710193037986755, 0.8697461485862732, 0.9311104416847229, 0.8150982856750488, 0.913122832775116, 1.0316087007522583, 0.9217087626457214, 0.7985360026359558, 0.8574020266532898, 0.9171581864356995, 0.8755279183387756, 0.8068166971206665, 0.852063775062561, 0.7433501482009888, 0.8175384998321533, 1.0739027261734009, 0.96675705909729, 0.8790109753608704, 0.9038403630256653, 0.8754228949546814, 0.8188218474388123, 0.8611395955085754, 0.8315248489379883, 0.771085262298584, 0.7559396028518677, 0.8090324997901917, 0.8410165905952454, 0.8816669583320618, 0.9825302362442017, 0.8366084694862366, 0.7794139981269836, 0.9343012571334839, 0.757487952709198, 0.663804829120636, 0.8978725671768188, 0.9204015731811523, 0.8109522461891174, 0.702881932258606, 0.7934798002243042, 0.8523781895637512, 0.8053475618362427, 0.9171403050422668, 0.8442913889884949, 0.9861554503440857, 0.8608089089393616, 0.82154780626297, 0.836476743221283, 0.819382905960083, 0.990239679813385, 0.9044200778007507, 0.7103598713874817, 0.892372190952301, 0.9424111843109131, 0.9532967805862427, 0.8633548021316528, 0.7837384939193726, 0.8763036727905273, 0.9019675850868225, 0.7815848588943481, 0.978759229183197, 0.8206539750099182, 0.8456766605377197, 0.7064648270606995, 0.8086499571800232, 1.0894111394882202, 0.9278626441955566, 0.7655266523361206, 0.8032406568527222, 0.9304354190826416, 0.7960219383239746, 0.9135462641716003, 0.7814755439758301, 0.7677281498908997, 0.9519156217575073, 0.8370921611785889, 0.8530274033546448, 0.8635249733924866, 0.8179316520690918, 0.9072374105453491, 1.0641173124313354, 0.9274531602859497, 0.8067036271095276, 0.8399807810783386, 0.8356906771659851, 0.8470847606658936, 0.9252415299415588, 0.8417491912841797, 0.8243046998977661, 0.7818869352340698, 0.8465315103530884, 0.9924499988555908, 0.9167094826698303, 0.8601340055465698, 0.7927113175392151, 0.911171555519104, 0.8846878409385681, 0.9819205403327942, 0.672869861125946, 1.017426609992981, 0.90462327003479, 0.8138689994812012, 0.7006832957267761, 0.9414894580841064, 0.8331476449966431, 0.8491382598876953, 0.7733547687530518, 0.9300515055656433, 1.0063029527664185, 0.887570321559906, 0.8456701636314392, 0.7780561447143555, 0.7427105903625488, 0.9428147077560425, 1.0200713872909546, 0.809505820274353, 0.7732542753219604, 0.7363797426223755, 0.7739282846450806, 0.8695081472396851, 0.8591595888137817, 0.9753621816635132, 0.8600301742553711, 0.7925123572349548, 0.7985807657241821, 0.6471108198165894, 0.7426442503929138, 0.8139117360115051, 0.8691216111183167, 0.7203306555747986, 0.8471708297729492, 0.8041440844535828, 0.7706601619720459, 0.7345408797264099, 0.8049285411834717, 0.8255746960639954, 0.8210116028785706, 0.8032667636871338, 0.8641417622566223, 0.8212429881095886, 0.8758519291877747, 0.9451362490653992, 0.8861839175224304, 0.8524208068847656, 0.9482922554016113, 0.8349781632423401, 0.8204002976417542, 0.8305253386497498, 0.9550455808639526, 1.0331635475158691, 0.9428435564041138, 0.8591688871383667, 0.843949019908905, 0.7870703339576721, 0.9472516179084778, 0.8566358685493469, 0.9456555843353271, 0.8051987886428833, 0.7981114387512207, 0.8238068222999573, 0.9545896053314209, 0.9401495456695557, 0.9022833108901978, 0.799920916557312, 0.9486017227172852, 0.8927748799324036, 0.7715376019477844, 0.7710365653038025, 0.8252751231193542, 0.8212921023368835, 0.9106077551841736, 0.7833681702613831, 0.7352157235145569, 0.8961356282234192, 0.9030148983001709, 0.8172116279602051, 0.8562453985214233, 0.8377652168273926, 0.7109962701797485, 0.9792380332946777, 0.7878648638725281, 0.912273108959198, 0.7564829587936401, 0.8258659243583679, 0.9963460564613342, 0.8099619746208191, 0.8795112371444702, 0.787042498588562, 0.8677473068237305, 0.9613676071166992, 0.9121577143669128, 0.8206992745399475, 0.8142443299293518, 0.8453319668769836, 0.6798994541168213, 0.8375356793403625, 0.9815170168876648, 0.9361040592193604, 0.9514890313148499, 0.9714711904525757, 0.9162269830703735, 0.685921847820282, 0.7755695581436157, 0.8321374654769897, 0.9526389837265015, 0.957923948764801, 0.8693625330924988, 0.9375283718109131, 0.7947749495506287, 0.8128117918968201, 0.7733564972877502, 0.8330626487731934, 0.8445041179656982, 0.9539102911949158, 0.8045617341995239, 0.8090068697929382, 0.7459691762924194, 0.9319988489151001, 0.7706318497657776, 0.8353062868118286, 0.6962639689445496, 0.7116536498069763, 0.8926087021827698, 0.8134582042694092, 0.790852427482605, 0.8144004344940186, 0.7465626001358032, 0.9018418192863464, 0.9608771204948425, 0.7805622816085815, 0.7412355542182922, 0.848280131816864, 0.8979476690292358, 0.8739587664604187, 0.7886480093002319, 0.9134740829467773, 0.7019355893135071, 0.6723558902740479, 0.7831427454948425, 0.821274995803833, 0.859201192855835, 0.8076353669166565, 0.8058929443359375, 0.8217052221298218, 0.7670723795890808, 0.7645550966262817, 0.8546874523162842, 0.84016352891922, 0.7259365916252136, 0.7957713603973389, 1.0233074426651, 0.7370626330375671, 0.7957461476325989, 0.8085915446281433, 0.8210805654525757, 0.8228909373283386, 0.8217442631721497, 0.7450575232505798, 0.7881308794021606, 0.8140015602111816, 0.9159153699874878, 0.7335807085037231, 0.865689218044281, 0.7505580186843872, 0.6837813854217529, 0.8327270150184631, 0.8598470687866211, 0.8224648833274841, 0.8497493267059326, 0.8396825194358826, 0.8434172868728638, 0.7554763555526733, 0.9944391846656799, 0.8183044195175171, 0.8611776828765869, 0.7860131859779358, 0.9146968722343445, 0.8541503548622131, 0.8669220805168152, 0.8382335305213928, 0.7258991003036499, 0.8008527159690857, 0.8649495244026184, 0.8367437124252319, 0.8986465930938721, 0.804032564163208, 0.9031185507774353, 0.7653065323829651, 0.9433324933052063, 0.7102864980697632, 0.7626489400863647, 0.9120851755142212, 0.8526201248168945, 0.9069479703903198, 0.7541213035583496, 0.7425859570503235, 0.6732377409934998, 0.806523323059082, 0.8119643330574036, 0.7808308601379395, 0.9458621740341187, 0.8954826593399048, 0.7797141075134277, 0.8624388575553894, 0.873133659362793, 0.9118590950965881, 1.029776930809021, 0.8590462803840637, 0.8036949634552002, 0.7769104242324829, 0.8439655900001526, 0.8116185665130615, 0.9127727150917053, 0.6892109513282776, 0.7588821649551392, 0.8740897178649902, 0.8740464448928833, 0.7851759791374207, 0.8456488251686096, 0.8905869722366333, 0.8665758967399597, 0.8781824111938477, 0.8237317204475403, 0.9479627013206482, 0.8163717985153198, 0.7785773277282715, 0.7716744542121887, 0.7248368263244629, 1.0144751071929932, 0.7865259647369385, 0.7417898774147034, 0.7831450700759888, 0.8147604465484619, 0.914071798324585, 0.7916609048843384, 0.8159704804420471, 0.7241223454475403, 1.0596617460250854, 0.953648030757904, 0.7374425530433655, 0.885440468788147, 0.836500883102417, 0.9265497922897339, 0.7558693289756775, 0.7747766971588135, 0.767216145992279, 0.8011816740036011, 0.8290846943855286, 0.8440501689910889, 0.976932168006897, 0.8942050933837891, 0.7478089332580566, 0.7219560146331787, 0.7514926195144653, 0.9196914434432983, 0.8508540987968445, 0.7772262692451477, 0.7288601398468018, 0.8385989665985107, 0.878642737865448, 0.8133451342582703, 0.7042187452316284, 0.839057445526123, 0.8067774772644043, 0.865413248538971, 0.7739562392234802, 0.8028607964515686, 0.7993924617767334, 0.832371711730957, 0.7244172096252441, 0.8574488162994385, 0.8984391689300537, 0.8154377341270447, 0.9594796895980835, 0.7829486727714539, 0.7929489016532898, 0.8068037033081055, 0.942410945892334, 0.7420998811721802, 0.937770664691925, 0.7656077742576599, 0.9228261709213257, 0.7639486789703369, 0.775822103023529, 0.8909055590629578, 0.8566780090332031, 0.6858383417129517, 0.8214678168296814, 0.7965520024299622, 0.8622816205024719, 0.7963196635246277, 0.7929925918579102, 0.9047675132751465, 0.8849012851715088, 0.869326114654541, 0.7493535876274109, 0.943562388420105, 0.6854472756385803, 0.7917661070823669, 0.6979520916938782, 0.7160933613777161, 0.8139799237251282, 0.8915534019470215, 0.7881609201431274, 0.805551290512085, 0.8276976943016052, 0.792982816696167, 0.9347251057624817, 0.8438394069671631, 0.7094589471817017, 0.8907452821731567, 0.7824586033821106, 1.0087522268295288, 0.9182396531105042, 0.9493148922920227, 0.9747114181518555, 0.7637252807617188, 0.714850902557373, 0.8220006823539734, 0.9391012787818909, 0.7834254503250122, 0.6814220547676086, 0.8398922681808472, 0.8491695523262024, 0.8702288269996643, 0.8112016916275024, 0.8282747864723206, 0.8900627493858337, 0.9249879121780396, 0.7349113821983337, 0.6611882448196411, 0.8867989778518677, 0.7623556852340698, 0.7019731998443604, 0.7201253175735474, 0.5899713039398193, 0.735329270362854, 0.7087605595588684, 0.8808470964431763, 0.7383336424827576, 0.7653549909591675, 0.7847359776496887, 0.8114486336708069, 0.9350764155387878, 0.8750417232513428, 0.684255838394165, 0.9047440886497498, 0.8953233361244202, 0.8968630433082581, 0.8855196237564087, 0.9126904606819153, 0.9027290344238281, 0.8739957809448242, 0.677538275718689, 0.7970804572105408, 0.6599752902984619, 0.8189099431037903, 0.7198334336280823, 0.9049530625343323]\n",
      "epoch loss:  0.8726230099765476\n",
      "Training complete.\n"
     ]
    },
    {
     "name": "stderr",
     "output_type": "stream",
     "text": [
      "\n"
     ]
    },
    {
     "data": {
      "text/plain": [
       "[2.2955572643259696,\n",
       " 2.265817935278675,\n",
       " 2.22254346377814,\n",
       " 2.1515060536134474,\n",
       " 2.0351703075457737,\n",
       " 1.8485510959299898,\n",
       " 1.5843599397998882,\n",
       " 1.291260561391489,\n",
       " 1.0452828039365536,\n",
       " 0.8726230099765476]"
      ]
     },
     "execution_count": 21,
     "metadata": {},
     "output_type": "execute_result"
    }
   ],
   "source": [
    "import torch\n",
    "import torch.nn as nn\n",
    "from torchvision import datasets\n",
    "from torchvision.transforms import ToTensor\n",
    "from torch.utils.data import DataLoader\n",
    "import torch.optim as optim\n",
    "from torch.utils.data import Dataset\n",
    "import process_MNIST\n",
    "from init_Pytorch_NN import FeedForwardNN\n",
    "from scipy import stats\n",
    "import numpy as np\n",
    "\n",
    "training_data = datasets.MNIST(\n",
    "    root=\"data\",\n",
    "    train=True,\n",
    "    download=True,\n",
    "    transform=ToTensor()\n",
    ")\n",
    "\n",
    "test_data = datasets.MNIST(\n",
    "    root=\"data\",\n",
    "    train=False,\n",
    "    download=True,\n",
    "    transform=ToTensor()\n",
    ")\n",
    "\n",
    "batch_size = 64\n",
    "\n",
    "train_dataloader = DataLoader(training_data, batch_size=batch_size, shuffle=True)\n",
    "test_dataloader = DataLoader(test_data, batch_size=batch_size, shuffle=True)\n",
    "\n",
    "\n",
    "#Define NN architecture. Input size (first layer) and output size (last layer) can't change.\n",
    "#Will have linear activation functions between each layer, and ReLU activation functions after \n",
    "#each linear activation function except between last hidden layer and output layer. \n",
    "# lsize = [784, 128, 64, 10] #e.g. this structure will have 3 linear activation functions and 2 ReLU fcns\n",
    "input_size = 784  # Example: 28x28 pixels for MNIST dataset\n",
    "hidden_size = [128, 64]\n",
    "num_classes = 10  # Example: Number of classes for MNIST dataset\n",
    "learning_rate = 0.001\n",
    "num_epochs = 10\n",
    "\n",
    "#initialize NN \n",
    "# nn = NeuralNetwork(lsize, activation_functions.ReLU, activation_functions.dReLU, loss_functions.cross_entropy_w_softmax, loss_functions.dcross_entropy)\n",
    "model = FeedForwardNN(input_size, hidden_size, num_classes)\n",
    "\n",
    "##train NN (example uses mini-batch)\n",
    "# nn.train(training_images, training_labels, epochs = 10, batch_size=1)\n",
    "# model.train(num_epochs, batch_size=1, learning_rate=learning_rate,  training_data=training_data)\n",
    "model.train(num_epochs, input_size=input_size, learning_rate=learning_rate,  train_dataloader=train_dataloader, debug=True)\n",
    "#gradient descent means batch size = # training samples (# steps you take = # epochs)\n",
    "#stochastic gradient descent means batch size = 1\n"
   ]
  },
  {
   "cell_type": "code",
   "execution_count": 22,
   "metadata": {},
   "outputs": [
    {
     "name": "stdout",
     "output_type": "stream",
     "text": [
      "Average cross entropy loss: 0.7888928\n",
      "Classification accuracy: 80.93%\n"
     ]
    }
   ],
   "source": [
    "##test NN\n",
    "# cross_ent_error, classification_error = nn.test(test_images, test_labels)\n",
    "cross_ent_errors, classification_matches = model.test(test_dataloader, input_size=input_size)\n",
    "classification_matches_fixed = [x[0] for x in classification_matches]\n",
    "\n",
    "print('Average cross entropy loss:', np.mean(cross_ent_errors))\n",
    "print(f\"Classification accuracy: {(sum(classification_matches_fixed)/test_data.test_labels.size(0))*100}%\")"
   ]
  },
  {
   "cell_type": "code",
   "execution_count": 23,
   "metadata": {},
   "outputs": [
    {
     "name": "stdout",
     "output_type": "stream",
     "text": [
      "mean:  0.7888928\n",
      "median:  0.7867727\n",
      "min:  0.56679624\n",
      "max:  1.0638981\n",
      "variance:  0.0074332143592003444\n",
      "skewness:  0.41468501004286784\n",
      "kurtosis:  0.4525290237837418\n",
      "quartile:  [0.68488486 0.72669762 0.78677273 0.83812958 0.8984013 ]\n"
     ]
    }
   ],
   "source": [
    "error_summary = stats.describe(cross_ent_errors)\n",
    "print(\"mean: \", np.mean(cross_ent_errors))\n",
    "print(\"median: \", np.median(cross_ent_errors))\n",
    "print(\"min: \", np.min(cross_ent_errors))\n",
    "print(\"max: \", np.max(cross_ent_errors))\n",
    "print(\"variance: \", error_summary.variance)\n",
    "print(\"skewness: \", error_summary.skewness)\n",
    "print(\"kurtosis: \", error_summary.kurtosis)\n",
    "print(\"quartile: \", np.percentile(cross_ent_errors, q=[10, 25, 50, 75, 90]))\n",
    "\n",
    "# print(\"mean: \", np.mean(cross_ent_errors))\n",
    "# print(\"median: \", np.median(cross_ent_errors))\n",
    "# print(\"min: \", np.min(cross_ent_errors))\n",
    "# print(\"max: \", np.max(cross_ent_errors))\n",
    "# print(\"variance: \", stats.describe(cross_ent_errors).variance)\n",
    "# print(\"quartile: \", np.percentile(cross_ent_errors, q=[10, 25, 50, 75, 90]))"
   ]
  }
 ],
 "metadata": {
  "kernelspec": {
   "display_name": "base",
   "language": "python",
   "name": "python3"
  },
  "language_info": {
   "codemirror_mode": {
    "name": "ipython",
    "version": 3
   },
   "file_extension": ".py",
   "mimetype": "text/x-python",
   "name": "python",
   "nbconvert_exporter": "python",
   "pygments_lexer": "ipython3",
   "version": "3.10.9"
  },
  "orig_nbformat": 4
 },
 "nbformat": 4,
 "nbformat_minor": 2
}
