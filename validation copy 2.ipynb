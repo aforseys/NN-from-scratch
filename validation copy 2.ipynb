{
 "cells": [
  {
   "attachments": {},
   "cell_type": "markdown",
   "metadata": {},
   "source": [
    "# Validating NN Model\n",
    "\n",
    "Using validation curves to validate the model performance "
   ]
  },
  {
   "cell_type": "code",
   "execution_count": 1,
   "metadata": {},
   "outputs": [],
   "source": [
    "import activation_functions\n",
    "import loss_functions\n",
    "import process_MNIST\n",
    "from init_NN import NeuralNetwork\n",
    "\n",
    "#local path to files \n",
    "training_images_path =  'training_data/train-images.idx3-ubyte'\n",
    "training_labels_path =  'training_data/train-labels.idx1-ubyte'\n",
    "test_images_path = 'test_data/t10k-images.idx3-ubyte'\n",
    "test_labels_path =  'test_data/t10k-labels.idx1-ubyte'\n",
    "\n",
    "\n",
    "#Loads MNIST data files. Assumes unzipped idx files avilable at: http://yann.lecun.com/exdb/mnist/\n",
    "training_images, training_labels = process_MNIST.load_data(training_images_path, training_labels_path)\n",
    "test_images, test_labels = process_MNIST.load_data(test_images_path, test_labels_path)"
   ]
  },
  {
   "cell_type": "code",
   "execution_count": 2,
   "metadata": {},
   "outputs": [
    {
     "name": "stderr",
     "output_type": "stream",
     "text": [
      "  0%|          | 0/10 [00:00<?, ?it/s]"
     ]
    },
    {
     "name": "stdout",
     "output_type": "stream",
     "text": [
      "epoch number 0\n"
     ]
    },
    {
     "name": "stderr",
     "output_type": "stream",
     "text": [
      "100%|██████████| 60000/60000 [02:03<00:00, 484.46it/s]\n",
      " 10%|█         | 1/10 [02:04<18:36, 124.02s/it]"
     ]
    },
    {
     "name": "stdout",
     "output_type": "stream",
     "text": [
      "epoch number 1\n"
     ]
    },
    {
     "name": "stderr",
     "output_type": "stream",
     "text": [
      "100%|██████████| 60000/60000 [02:39<00:00, 377.26it/s]\n",
      " 20%|██        | 2/10 [04:43<19:18, 144.79s/it]"
     ]
    },
    {
     "name": "stdout",
     "output_type": "stream",
     "text": [
      "epoch number 2\n"
     ]
    },
    {
     "name": "stderr",
     "output_type": "stream",
     "text": [
      "100%|██████████| 60000/60000 [02:29<00:00, 401.80it/s]\n",
      " 30%|███       | 3/10 [07:12<17:08, 146.98s/it]"
     ]
    },
    {
     "name": "stdout",
     "output_type": "stream",
     "text": [
      "epoch number 3\n"
     ]
    },
    {
     "name": "stderr",
     "output_type": "stream",
     "text": [
      "100%|██████████| 60000/60000 [01:53<00:00, 528.38it/s]\n",
      " 40%|████      | 4/10 [09:06<13:23, 133.90s/it]"
     ]
    },
    {
     "name": "stdout",
     "output_type": "stream",
     "text": [
      "epoch number 4\n"
     ]
    },
    {
     "name": "stderr",
     "output_type": "stream",
     "text": [
      "100%|██████████| 60000/60000 [01:58<00:00, 505.14it/s]\n",
      " 50%|█████     | 5/10 [11:05<10:42, 128.55s/it]"
     ]
    },
    {
     "name": "stdout",
     "output_type": "stream",
     "text": [
      "epoch number 5\n"
     ]
    },
    {
     "name": "stderr",
     "output_type": "stream",
     "text": [
      "100%|██████████| 60000/60000 [01:46<00:00, 565.06it/s]\n",
      " 60%|██████    | 6/10 [12:52<08:04, 121.01s/it]"
     ]
    },
    {
     "name": "stdout",
     "output_type": "stream",
     "text": [
      "epoch number 6\n"
     ]
    },
    {
     "name": "stderr",
     "output_type": "stream",
     "text": [
      "100%|██████████| 60000/60000 [01:40<00:00, 599.78it/s]\n",
      " 70%|███████   | 7/10 [14:32<05:42, 114.21s/it]"
     ]
    },
    {
     "name": "stdout",
     "output_type": "stream",
     "text": [
      "epoch number 7\n"
     ]
    },
    {
     "name": "stderr",
     "output_type": "stream",
     "text": [
      "100%|██████████| 60000/60000 [01:13<00:00, 820.86it/s]\n",
      " 80%|████████  | 8/10 [15:45<03:22, 101.17s/it]"
     ]
    },
    {
     "name": "stdout",
     "output_type": "stream",
     "text": [
      "epoch number 8\n"
     ]
    },
    {
     "name": "stderr",
     "output_type": "stream",
     "text": [
      "100%|██████████| 60000/60000 [01:25<00:00, 700.31it/s]\n",
      " 90%|█████████ | 9/10 [17:11<01:36, 96.37s/it] "
     ]
    },
    {
     "name": "stdout",
     "output_type": "stream",
     "text": [
      "epoch number 9\n"
     ]
    },
    {
     "name": "stderr",
     "output_type": "stream",
     "text": [
      "100%|██████████| 60000/60000 [01:56<00:00, 513.34it/s]\n",
      "100%|██████████| 10/10 [19:08<00:00, 114.86s/it]\n"
     ]
    },
    {
     "ename": "NameError",
     "evalue": "name 'nn_lr001_sgd' is not defined",
     "output_type": "error",
     "traceback": [
      "\u001b[1;31m---------------------------------------------------------------------------\u001b[0m",
      "\u001b[1;31mNameError\u001b[0m                                 Traceback (most recent call last)",
      "Cell \u001b[1;32mIn[2], line 6\u001b[0m\n\u001b[0;32m      4\u001b[0m nn_lr01_sgd \u001b[39m=\u001b[39m NeuralNetwork(lsize, activation_functions\u001b[39m.\u001b[39mReLU, activation_functions\u001b[39m.\u001b[39mdReLU, loss_functions\u001b[39m.\u001b[39mcross_entropy_w_softmax, loss_functions\u001b[39m.\u001b[39mdcross_entropy, lr)\n\u001b[0;32m      5\u001b[0m nn_lr01_sgd\u001b[39m.\u001b[39mtrain(training_images, training_labels, epochs \u001b[39m=\u001b[39m \u001b[39m10\u001b[39m, batch_size\u001b[39m=\u001b[39m\u001b[39m1\u001b[39m)\n\u001b[1;32m----> 6\u001b[0m nn_lr01_sgd_cross_ent_error, nn_lr001_sgd_classification_error \u001b[39m=\u001b[39m nn_lr001_sgd\u001b[39m.\u001b[39mtest(test_images, test_labels)\n",
      "\u001b[1;31mNameError\u001b[0m: name 'nn_lr001_sgd' is not defined"
     ]
    }
   ],
   "source": [
    "lr = 0.01\n",
    "lsize = [784, 128, 64, 10] #e.g. this structure will have 3 linear activation functions and 2 ReLU fcns\n",
    "\n",
    "nn_lr01_sgd = NeuralNetwork(lsize, activation_functions.ReLU, activation_functions.dReLU, loss_functions.cross_entropy_w_softmax, loss_functions.dcross_entropy, lr)\n",
    "nn_lr01_sgd.train(training_images, training_labels, epochs = 10, batch_size=1)\n",
    "nn_lr01_sgd_cross_ent_error, nn_lr001_sgd_classification_error = nn_lr01_sgd.test(test_images, test_labels)"
   ]
  },
  {
   "cell_type": "code",
   "execution_count": null,
   "metadata": {},
   "outputs": [],
   "source": [
    "import matplotlib.pyplot as plt\n",
    "plt.plot(losses)\n",
    "plt.xlabel('Epoch')\n",
    "plt.ylabel('Cross Entropy Loss')\n",
    "plt.title('Cross Entropy Loss vs. Epoch with LR=0.01 and using SGD')\n",
    "plt.show()"
   ]
  }
 ],
 "metadata": {
  "kernelspec": {
   "display_name": "base",
   "language": "python",
   "name": "python3"
  },
  "language_info": {
   "codemirror_mode": {
    "name": "ipython",
    "version": 3
   },
   "file_extension": ".py",
   "mimetype": "text/x-python",
   "name": "python",
   "nbconvert_exporter": "python",
   "pygments_lexer": "ipython3",
   "version": "3.10.9"
  },
  "orig_nbformat": 4
 },
 "nbformat": 4,
 "nbformat_minor": 2
}
