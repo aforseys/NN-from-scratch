{
 "cells": [
  {
   "attachments": {},
   "cell_type": "markdown",
   "metadata": {},
   "source": [
    "# Validating NN Model\n",
    "\n",
    "Using validation curves to validate the model performance "
   ]
  },
  {
   "cell_type": "code",
   "execution_count": 1,
   "metadata": {},
   "outputs": [],
   "source": [
    "import activation_functions\n",
    "import loss_functions\n",
    "import process_MNIST\n",
    "from init_NN_val import NeuralNetwork\n",
    "from scipy import stats\n",
    "import numpy as np\n",
    "import matplotlib.pyplot as plt\n",
    "\n",
    "#local path to files \n",
    "training_images_path =  'training_data/train-images.idx3-ubyte'\n",
    "training_labels_path =  'training_data/train-labels.idx1-ubyte'\n",
    "test_images_path = 'test_data/t10k-images.idx3-ubyte'\n",
    "test_labels_path =  'test_data/t10k-labels.idx1-ubyte'\n",
    "\n",
    "\n",
    "#Loads MNIST data files. Assumes unzipped idx files avilable at: http://yann.lecun.com/exdb/mnist/\n",
    "training_images, training_labels = process_MNIST.load_data(training_images_path, training_labels_path)\n",
    "test_images, test_labels = process_MNIST.load_data(test_images_path, test_labels_path)"
   ]
  },
  {
   "attachments": {},
   "cell_type": "markdown",
   "metadata": {},
   "source": [
    "Testing Model with Learning Rate 0.01 using Gradient Descent"
   ]
  },
  {
   "cell_type": "code",
   "execution_count": 2,
   "metadata": {},
   "outputs": [
    {
     "name": "stderr",
     "output_type": "stream",
     "text": [
      "  0%|          | 0/10 [00:00<?, ?it/s]"
     ]
    }
   ],
   "source": [
    "lsize = [784, 128, 64, 10] #e.g. this structure will have 3 linear activation functions and 2 ReLU fcns\n",
    "lr = 0.01\n",
    "\n",
    "nn_lr01_gd = NeuralNetwork(lsize, activation_functions.ReLU, activation_functions.dReLU, loss_functions.cross_entropy_w_softmax, loss_functions.dcross_entropy, lr)\n",
    "losses = nn_lr01_gd.train(training_images, training_labels, epochs = 10, batch_size=64) #, debug=True)\n",
    "nn_lr01_gd_cross_ent_error, nn_lr001_gd_classification_error = nn_lr01_gd.test(test_images, test_labels)"
   ]
  },
  {
   "cell_type": "code",
   "execution_count": null,
   "metadata": {},
   "outputs": [
    {
     "data": {
      "image/png": "[encoded data removed]",
      "text/plain": [
       "<Figure size 640x480 with 1 Axes>"
      ]
     },
     "metadata": {},
     "output_type": "display_data"
    }
   ],
   "source": [
    "plt.plot(losses)\n",
    "plt.ylim(0, 1.5)\n",
    "plt.xlabel('Epoch')\n",
    "plt.ylabel('Cross Entropy Loss')\n",
    "plt.title('Cross Entropy Loss vs. Epoch with LR=0.01 and using Mini-batch = 64')\n",
    "plt.show()"
   ]
  },
  {
   "cell_type": "code",
   "execution_count": null,
   "metadata": {},
   "outputs": [
    {
     "name": "stdout",
     "output_type": "stream",
     "text": [
      "mean:  31.635927552112864\n",
      "median:  31.635927552112864\n",
      "min:  -0.0\n",
      "max:  1164.0917368024393\n"
     ]
    }
   ],
   "source": [
    "error_summary = stats.describe(nn_lr01_gd_cross_ent_error)\n",
    "print(\"mean: \", np.mean(nn_lr01_gd_cross_ent_error))\n",
    "print(\"median: \", np.median(nn_lr01_gd_cross_ent_error))\n",
    "print(\"min: \", np.min(nn_lr01_gd_cross_ent_error))\n",
    "print(\"max: \", np.max(nn_lr01_gd_cross_ent_error))\n",
    "print(\"variance: \", error_summary.variance)\n",
    "print(\"skewness: \", error_summary.skewness)\n",
    "print(\"kurtosis: \", error_summary.kurtosis)\n",
    "print(\"quartile: \", np.percentile(nn_lr01_gd_cross_ent_error, q=[10, 25, 50, 75, 90]))"
   ]
  },
  {
   "cell_type": "code",
   "execution_count": null,
   "metadata": {},
   "outputs": [
    {
     "name": "stderr",
     "output_type": "stream",
     "text": [
      "1it [00:05,  5.35s/it][00:00<?, ?it/s]\n",
      "1it [00:05,  5.42s/it][00:05<00:48,  5.35s/it]\n",
      "1it [00:05,  5.81s/it][00:10<00:43,  5.40s/it]\n",
      "1it [00:05,  5.82s/it][00:16<00:39,  5.59s/it]\n",
      "1it [00:05,  5.29s/it][00:22<00:34,  5.68s/it]\n",
      "1it [00:06,  6.22s/it][00:27<00:27,  5.55s/it]\n",
      "1it [00:07,  7.38s/it][00:33<00:23,  5.78s/it]\n",
      "1it [00:07,  7.52s/it][00:41<00:18,  6.30s/it]\n",
      "1it [00:07,  7.85s/it][00:48<00:13,  6.69s/it]\n",
      "1it [00:07,  7.31s/it][00:56<00:07,  7.06s/it]\n",
      "100%|██████████| 10/10 [01:04<00:00,  6.40s/it]\n"
     ]
    },
    {
     "name": "stdout",
     "output_type": "stream",
     "text": [
      "Training complete.\n",
      "\n",
      "Test set: Average loss: 2.3110, Accuracy: 981/10000 (10%)\n",
      "\n"
     ]
    }
   ],
   "source": [
    "import torch\n",
    "import torch.nn as nn\n",
    "from torchvision import datasets\n",
    "from torchvision.transforms import ToTensor\n",
    "from torch.utils.data import DataLoader\n",
    "import torch.optim as optim\n",
    "from torch.utils.data import Dataset\n",
    "import process_MNIST\n",
    "from init_Pytorch_NN import FeedForwardNN\n",
    "\n",
    "training_data = datasets.MNIST(\n",
    "    root=\"data\",\n",
    "    train=True,\n",
    "    download=True,\n",
    "    transform=ToTensor()\n",
    ")\n",
    "\n",
    "test_data = datasets.MNIST(\n",
    "    root=\"data\",\n",
    "    train=False,\n",
    "    download=True,\n",
    "    transform=ToTensor()\n",
    ")\n",
    "\n",
    "batch_size = 64\n",
    "\n",
    "train_dataloader = DataLoader(training_data, batch_size=batch_size, shuffle=True)\n",
    "test_dataloader = DataLoader(test_data, batch_size=batch_size, shuffle=True)\n",
    "\n",
    "\n",
    "#Define NN architecture. Input size (first layer) and output size (last layer) can't change.\n",
    "#Will have linear activation functions between each layer, and ReLU activation functions after \n",
    "#each linear activation function except between last hidden layer and output layer. \n",
    "# lsize = [784, 128, 64, 10] #e.g. this structure will have 3 linear activation functions and 2 ReLU fcns\n",
    "input_size = 784  # Example: 28x28 pixels for MNIST dataset\n",
    "hidden_size = [128, 64]\n",
    "num_classes = 10  # Example: Number of classes for MNIST dataset\n",
    "learning_rate = 0.01\n",
    "num_epochs = 10\n",
    "\n",
    "#initialize NN \n",
    "# nn = NeuralNetwork(lsize, activation_functions.ReLU, activation_functions.dReLU, loss_functions.cross_entropy_w_softmax, loss_functions.dcross_entropy)\n",
    "model = FeedForwardNN(input_size, hidden_size, num_classes)\n",
    "\n",
    "##train NN (example uses mini-batch)\n",
    "# nn.train(training_images, training_labels, epochs = 10, batch_size=1)\n",
    "# model.train(num_epochs, batch_size=1, learning_rate=learning_rate,  training_data=training_data)\n",
    "model.train(num_epochs, batch_size=input_size, learning_rate=learning_rate,  train_dataloader=train_dataloader)\n",
    "#gradient descent means batch size = # training samples (# steps you take = # epochs)\n",
    "#stochastic gradient descent means batch size = 1\n"
   ]
  },
  {
   "cell_type": "code",
   "execution_count": null,
   "metadata": {},
   "outputs": [],
   "source": [
    "\n",
    "##test NN\n",
    "# cross_ent_error, classification_error = nn.test(test_images, test_labels)\n",
    "cross_ent_errors, classification_matches = model.test(test_dataloader, input_size=input_size)\n",
    "classification_matches_fixed = [x[0] for x in classification_matches]\n",
    "\n",
    "print('Average cross entropy loss:', np.mean(cross_ent_errors))\n",
    "print(f\"Classification accuracy: {(sum(classification_matches_fixed)/test_data.test_labels.size(0))*100}%\")"
   ]
  },
  {
   "cell_type": "code",
   "execution_count": null,
   "metadata": {},
   "outputs": [
    {
     "name": "stdout",
     "output_type": "stream",
     "text": [
      "mean:  2.3110287109375\n",
      "median:  2.3110287109375\n",
      "min:  2.3110287109375\n",
      "max:  2.3110287109375\n"
     ]
    }
   ],
   "source": [
    "error_summary = stats.describe(cross_ent_errors)\n",
    "print(\"mean: \", np.mean(cross_ent_errors))\n",
    "print(\"median: \", np.median(cross_ent_errors))\n",
    "print(\"min: \", np.min(cross_ent_errors))\n",
    "print(\"max: \", np.max(cross_ent_errors))\n",
    "print(\"variance: \", error_summary.variance)\n",
    "print(\"skewness: \", error_summary.skewness)\n",
    "print(\"kurtosis: \", error_summary.kurtosis)\n",
    "print(\"quartile: \", np.percentile(cross_ent_errors, q=[10, 25, 50, 75, 90]))"
   ]
  }
 ],
 "metadata": {
  "kernelspec": {
   "display_name": "base",
   "language": "python",
   "name": "python3"
  },
  "language_info": {
   "codemirror_mode": {
    "name": "ipython",
    "version": 3
   },
   "file_extension": ".py",
   "mimetype": "text/x-python",
   "name": "python",
   "nbconvert_exporter": "python",
   "pygments_lexer": "ipython3",
   "version": "3.10.9"
  },
  "orig_nbformat": 4
 },
 "nbformat": 4,
 "nbformat_minor": 2
}
