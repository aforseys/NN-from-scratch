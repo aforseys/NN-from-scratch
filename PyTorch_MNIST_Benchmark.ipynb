{
  "nbformat": 4,
  "nbformat_minor": 0,
  "metadata": {
    "colab": {
      "provenance": []
    },
    "kernelspec": {
      "name": "python3",
      "display_name": "Python 3"
    },
    "language_info": {
      "name": "python"
    }
  },
  "cells": [
    {
      "cell_type": "markdown",
      "source": [
        "# Testing PyTorch Implementation\n",
        "This notebook tests the PyTorch implementation of backpropogation and gradient descent to create a simple nerual net that is trained on the MNIST digit dataset. This can be used as a benchmark for comparing against our custom neral net implementation to see differences between using a library vs just coding from scratch.\n",
        "\n"
      ],
      "metadata": {
        "id": "pjoYEfKsvSiQ"
      }
    },
    {
      "cell_type": "markdown",
      "source": [
        "Set up necessary imports"
      ],
      "metadata": {
        "id": "-ISmCckmvyMm"
      }
    },
    {
      "cell_type": "code",
      "source": [
        "import torch\n",
        "import torch.nn as nn\n",
        "import torch.optim as optim\n",
        "from torch.utils.data import Dataset\n",
        "from torchvision import datasets\n",
        "from torchvision.transforms import ToTensor\n",
        "import matplotlib.pyplot as plt\n",
        "from torch.utils.data import DataLoader\n",
        "import torch.nn.functional as F"
      ],
      "metadata": {
        "id": "R98yTnpvptpn"
      },
      "execution_count": 5,
      "outputs": []
    },
    {
      "cell_type": "markdown",
      "source": [
        "Set up training and test data as DataLoaders"
      ],
      "metadata": {
        "id": "yw7Q7aNUv1hx"
      }
    },
    {
      "cell_type": "code",
      "source": [
        "training_data = datasets.MNIST(\n",
        "    root=\"data\",\n",
        "    train=True,\n",
        "    download=True,\n",
        "    transform=ToTensor()\n",
        ")\n",
        "\n",
        "test_data = datasets.MNIST(\n",
        "    root=\"data\",\n",
        "    train=False,\n",
        "    download=True,\n",
        "    transform=ToTensor()\n",
        ")\n",
        "\n",
        "train_dataloader = DataLoader(training_data, batch_size=64, shuffle=True)\n",
        "test_dataloader = DataLoader(test_data, batch_size=64, shuffle=True)"
      ],
      "metadata": {
        "id": "MDWPjtO4px2L"
      },
      "execution_count": 9,
      "outputs": []
    },
    {
      "cell_type": "markdown",
      "source": [
        "Define nerual net model"
      ],
      "metadata": {
        "id": "n_D9uZ8fv6pC"
      }
    },
    {
      "cell_type": "code",
      "execution_count": 4,
      "metadata": {
        "colab": {
          "base_uri": "https://localhost:8080/"
        },
        "id": "YkT-YQxffIIt",
        "outputId": "6336b4f4-9b54-477e-f36a-7ee76221d361"
      },
      "outputs": [
        {
          "output_type": "stream",
          "name": "stdout",
          "text": [
            "Epoch [1/10], Step [100/938], Loss: 0.4315\n",
            "Epoch [1/10], Step [200/938], Loss: 0.1787\n",
            "Epoch [1/10], Step [300/938], Loss: 0.3425\n",
            "Epoch [1/10], Step [400/938], Loss: 0.3499\n",
            "Epoch [1/10], Step [500/938], Loss: 0.1738\n",
            "Epoch [1/10], Step [600/938], Loss: 0.1645\n",
            "Epoch [1/10], Step [700/938], Loss: 0.1462\n",
            "Epoch [1/10], Step [800/938], Loss: 0.0835\n",
            "Epoch [1/10], Step [900/938], Loss: 0.0840\n",
            "Epoch [2/10], Step [100/938], Loss: 0.1296\n",
            "Epoch [2/10], Step [200/938], Loss: 0.1725\n",
            "Epoch [2/10], Step [300/938], Loss: 0.1474\n",
            "Epoch [2/10], Step [400/938], Loss: 0.0961\n",
            "Epoch [2/10], Step [500/938], Loss: 0.1313\n",
            "Epoch [2/10], Step [600/938], Loss: 0.0905\n",
            "Epoch [2/10], Step [700/938], Loss: 0.1664\n",
            "Epoch [2/10], Step [800/938], Loss: 0.0629\n",
            "Epoch [2/10], Step [900/938], Loss: 0.3032\n",
            "Epoch [3/10], Step [100/938], Loss: 0.2012\n",
            "Epoch [3/10], Step [200/938], Loss: 0.1245\n",
            "Epoch [3/10], Step [300/938], Loss: 0.0706\n",
            "Epoch [3/10], Step [400/938], Loss: 0.0623\n",
            "Epoch [3/10], Step [500/938], Loss: 0.0468\n",
            "Epoch [3/10], Step [600/938], Loss: 0.0405\n",
            "Epoch [3/10], Step [700/938], Loss: 0.0912\n",
            "Epoch [3/10], Step [800/938], Loss: 0.1081\n",
            "Epoch [3/10], Step [900/938], Loss: 0.0994\n",
            "Epoch [4/10], Step [100/938], Loss: 0.0417\n",
            "Epoch [4/10], Step [200/938], Loss: 0.1093\n",
            "Epoch [4/10], Step [300/938], Loss: 0.0841\n",
            "Epoch [4/10], Step [400/938], Loss: 0.1903\n",
            "Epoch [4/10], Step [500/938], Loss: 0.1617\n",
            "Epoch [4/10], Step [600/938], Loss: 0.0223\n",
            "Epoch [4/10], Step [700/938], Loss: 0.0367\n",
            "Epoch [4/10], Step [800/938], Loss: 0.1035\n",
            "Epoch [4/10], Step [900/938], Loss: 0.0325\n",
            "Epoch [5/10], Step [100/938], Loss: 0.0549\n",
            "Epoch [5/10], Step [200/938], Loss: 0.0338\n",
            "Epoch [5/10], Step [300/938], Loss: 0.0839\n",
            "Epoch [5/10], Step [400/938], Loss: 0.0554\n",
            "Epoch [5/10], Step [500/938], Loss: 0.1285\n",
            "Epoch [5/10], Step [600/938], Loss: 0.0187\n",
            "Epoch [5/10], Step [700/938], Loss: 0.1217\n",
            "Epoch [5/10], Step [800/938], Loss: 0.1184\n",
            "Epoch [5/10], Step [900/938], Loss: 0.0418\n",
            "Epoch [6/10], Step [100/938], Loss: 0.0482\n",
            "Epoch [6/10], Step [200/938], Loss: 0.0704\n",
            "Epoch [6/10], Step [300/938], Loss: 0.0442\n",
            "Epoch [6/10], Step [400/938], Loss: 0.0307\n",
            "Epoch [6/10], Step [500/938], Loss: 0.0310\n",
            "Epoch [6/10], Step [600/938], Loss: 0.0165\n",
            "Epoch [6/10], Step [700/938], Loss: 0.0503\n",
            "Epoch [6/10], Step [800/938], Loss: 0.0298\n",
            "Epoch [6/10], Step [900/938], Loss: 0.1307\n",
            "Epoch [7/10], Step [100/938], Loss: 0.0684\n",
            "Epoch [7/10], Step [200/938], Loss: 0.0088\n",
            "Epoch [7/10], Step [300/938], Loss: 0.1353\n",
            "Epoch [7/10], Step [400/938], Loss: 0.0211\n",
            "Epoch [7/10], Step [500/938], Loss: 0.0944\n",
            "Epoch [7/10], Step [600/938], Loss: 0.0474\n",
            "Epoch [7/10], Step [700/938], Loss: 0.0428\n",
            "Epoch [7/10], Step [800/938], Loss: 0.1039\n",
            "Epoch [7/10], Step [900/938], Loss: 0.0125\n",
            "Epoch [8/10], Step [100/938], Loss: 0.0456\n",
            "Epoch [8/10], Step [200/938], Loss: 0.0160\n",
            "Epoch [8/10], Step [300/938], Loss: 0.0342\n",
            "Epoch [8/10], Step [400/938], Loss: 0.0109\n",
            "Epoch [8/10], Step [500/938], Loss: 0.0338\n",
            "Epoch [8/10], Step [600/938], Loss: 0.0187\n",
            "Epoch [8/10], Step [700/938], Loss: 0.0411\n",
            "Epoch [8/10], Step [800/938], Loss: 0.0702\n",
            "Epoch [8/10], Step [900/938], Loss: 0.0622\n",
            "Epoch [9/10], Step [100/938], Loss: 0.0486\n",
            "Epoch [9/10], Step [200/938], Loss: 0.0120\n",
            "Epoch [9/10], Step [300/938], Loss: 0.0103\n",
            "Epoch [9/10], Step [400/938], Loss: 0.0301\n",
            "Epoch [9/10], Step [500/938], Loss: 0.0163\n",
            "Epoch [9/10], Step [600/938], Loss: 0.0104\n",
            "Epoch [9/10], Step [700/938], Loss: 0.0426\n",
            "Epoch [9/10], Step [800/938], Loss: 0.0127\n",
            "Epoch [9/10], Step [900/938], Loss: 0.0237\n",
            "Epoch [10/10], Step [100/938], Loss: 0.0344\n",
            "Epoch [10/10], Step [200/938], Loss: 0.0103\n",
            "Epoch [10/10], Step [300/938], Loss: 0.0262\n",
            "Epoch [10/10], Step [400/938], Loss: 0.0009\n",
            "Epoch [10/10], Step [500/938], Loss: 0.0284\n",
            "Epoch [10/10], Step [600/938], Loss: 0.0279\n",
            "Epoch [10/10], Step [700/938], Loss: 0.0021\n",
            "Epoch [10/10], Step [800/938], Loss: 0.0044\n",
            "Epoch [10/10], Step [900/938], Loss: 0.0216\n",
            "Training complete.\n"
          ]
        }
      ],
      "source": [
        "# Define the neural network model\n",
        "class FeedForwardNN(nn.Module):\n",
        "    def __init__(self, input_size, hidden_size, num_classes):\n",
        "        super(FeedForwardNN, self).__init__()\n",
        "        self.fc1 = nn.Linear(input_size, hidden_size)\n",
        "        self.relu = nn.ReLU()\n",
        "        self.fc2 = nn.Linear(hidden_size, num_classes)\n",
        "\n",
        "    def forward(self, x):\n",
        "        out = self.fc1(x)\n",
        "        out = self.relu(out)\n",
        "        out = self.fc2(out)\n",
        "        return out\n",
        "\n",
        "# Model parameters\n",
        "input_size = 784  # Example: 28x28 pixels for MNIST dataset\n",
        "hidden_size = 128\n",
        "num_classes = 10  # Example: Number of classes for MNIST dataset\n",
        "learning_rate = 0.001\n",
        "num_epochs = 10\n",
        "\n",
        "# Create the model, loss function, and optimizer\n",
        "model = FeedForwardNN(input_size, hidden_size, num_classes)\n",
        "criterion = nn.CrossEntropyLoss()\n",
        "optimizer = optim.Adam(model.parameters(), lr=learning_rate)\n",
        "\n",
        "# Training loop\n",
        "for epoch in range(num_epochs):\n",
        "    for i, (images, labels) in enumerate(train_dataloader):\n",
        "        # Flatten the images and convert to PyTorch tensors\n",
        "        images = images.view(-1, input_size)\n",
        "        \n",
        "        # Forward pass\n",
        "        outputs = model(images)\n",
        "        loss = criterion(outputs, labels)\n",
        "        \n",
        "        # Backward pass\n",
        "        optimizer.zero_grad()\n",
        "        loss.backward()\n",
        "        optimizer.step()\n",
        "        \n",
        "        if (i+1) % 100 == 0:\n",
        "            print(f'Epoch [{epoch+1}/{num_epochs}], Step [{i+1}/{len(train_dataloader)}], Loss: {loss.item():.4f}')\n",
        "\n",
        "print(\"Training complete.\")"
      ]
    },
    {
      "cell_type": "markdown",
      "source": [
        "Set up testing method"
      ],
      "metadata": {
        "id": "rgeaJ9rwwACC"
      }
    },
    {
      "cell_type": "code",
      "source": [
        "def test(model, test_loader):\n",
        "    model.eval()\n",
        "    test_loss = 0\n",
        "    correct = 0\n",
        "    with torch.no_grad():\n",
        "        for data, target in test_loader:\n",
        "            data = data.view(-1, input_size)\n",
        "            output = model(data)\n",
        "            test_loss += F.nll_loss(output, target, reduction='sum').item()  # sum up batch loss\n",
        "            pred = output.argmax(dim=1, keepdim=True)  # get the index of the max log-probability\n",
        "            correct += pred.eq(target.view_as(pred)).sum().item()\n",
        "\n",
        "    test_loss /= len(test_loader.dataset)\n",
        "\n",
        "    print('\\nTest set: Average loss: {:.4f}, Accuracy: {}/{} ({:.0f}%)\\n'.format(\n",
        "        test_loss, correct, len(test_loader.dataset),\n",
        "        100. * correct / len(test_loader.dataset)))"
      ],
      "metadata": {
        "id": "v86m-PGIn9N0"
      },
      "execution_count": 12,
      "outputs": []
    },
    {
      "cell_type": "markdown",
      "source": [
        "Testing the model"
      ],
      "metadata": {
        "id": "7ZB-7XYQwLJz"
      }
    },
    {
      "cell_type": "code",
      "source": [
        "test(model, test_dataloader)"
      ],
      "metadata": {
        "colab": {
          "base_uri": "https://localhost:8080/"
        },
        "id": "DxUtQ1PGuJo_",
        "outputId": "b52516b7-c4e8-4acb-c59b-6b048c28cb2a"
      },
      "execution_count": 14,
      "outputs": [
        {
          "output_type": "stream",
          "name": "stdout",
          "text": [
            "\n",
            "Test set: Average loss: -10.0460, Accuracy: 9786/10000 (98%)\n",
            "\n"
          ]
        }
      ]
    }
  ]
}