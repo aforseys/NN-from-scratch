{
  "cells": [
    {
      "attachments": {},
      "cell_type": "markdown",
      "metadata": {
        "id": "pjoYEfKsvSiQ"
      },
      "source": [
        "# Testing PyTorch Implementation\n",
        "This notebook tests the PyTorch implementation of backpropogation and gradient descent to create a simple nerual net that is trained on the MNIST digit dataset. This can be used as a benchmark for comparing against our custom neral net implementation to see differences between using a library vs just coding from scratch.\n",
        "\n"
      ]
    },
    {
      "attachments": {},
      "cell_type": "markdown",
      "metadata": {
        "id": "-ISmCckmvyMm"
      },
      "source": [
        "Set up necessary imports"
      ]
    },
    {
      "cell_type": "code",
      "execution_count": 1,
      "metadata": {
        "id": "R98yTnpvptpn"
      },
      "outputs": [
        {
          "ename": "ArgumentError",
          "evalue": "ArgumentError: Package torch not found in current path.\n- Run `import Pkg; Pkg.add(\"torch\")` to install the torch package.",
          "output_type": "error",
          "traceback": [
            "ArgumentError: Package torch not found in current path.\n",
            "- Run `import Pkg; Pkg.add(\"torch\")` to install the torch package.\n",
            "\n",
            "Stacktrace:\n",
            "  [1] macro expansion\n",
            "    @ .\\loading.jl:1163 [inlined]\n",
            "  [2] macro expansion\n",
            "    @ .\\lock.jl:223 [inlined]\n",
            "  [3] require(into::Module, mod::Symbol)\n",
            "    @ Base .\\loading.jl:1144\n",
            "  [4] eval\n",
            "    @ .\\boot.jl:368 [inlined]\n",
            "  [5] include_string(mapexpr::typeof(REPL.softscope), mod::Module, code::String, filename::String)\n",
            "    @ Base .\\loading.jl:1428\n",
            "  [6] #invokelatest#2\n",
            "    @ .\\essentials.jl:729 [inlined]\n",
            "  [7] invokelatest\n",
            "    @ .\\essentials.jl:726 [inlined]\n",
            "  [8] (::VSCodeServer.var\"#198#199\"{VSCodeServer.NotebookRunCellArguments, String})()\n",
            "    @ VSCodeServer c:\\Users\\Phil\\.vscode\\extensions\\julialang.language-julia-1.38.2\\scripts\\packages\\VSCodeServer\\src\\serve_notebook.jl:19\n",
            "  [9] withpath(f::VSCodeServer.var\"#198#199\"{VSCodeServer.NotebookRunCellArguments, String}, path::String)\n",
            "    @ VSCodeServer c:\\Users\\Phil\\.vscode\\extensions\\julialang.language-julia-1.38.2\\scripts\\packages\\VSCodeServer\\src\\repl.jl:249\n",
            " [10] notebook_runcell_request(conn::VSCodeServer.JSONRPC.JSONRPCEndpoint{Base.PipeEndpoint, Base.PipeEndpoint}, params::VSCodeServer.NotebookRunCellArguments)\n",
            "    @ VSCodeServer c:\\Users\\Phil\\.vscode\\extensions\\julialang.language-julia-1.38.2\\scripts\\packages\\VSCodeServer\\src\\serve_notebook.jl:13\n",
            " [11] dispatch_msg(x::VSCodeServer.JSONRPC.JSONRPCEndpoint{Base.PipeEndpoint, Base.PipeEndpoint}, dispatcher::VSCodeServer.JSONRPC.MsgDispatcher, msg::Dict{String, Any})\n",
            "    @ VSCodeServer.JSONRPC c:\\Users\\Phil\\.vscode\\extensions\\julialang.language-julia-1.38.2\\scripts\\packages\\JSONRPC\\src\\typed.jl:67\n",
            " [12] serve_notebook(pipename::String, outputchannel_logger::Base.CoreLogging.SimpleLogger; crashreporting_pipename::String)\n",
            "    @ VSCodeServer c:\\Users\\Phil\\.vscode\\extensions\\julialang.language-julia-1.38.2\\scripts\\packages\\VSCodeServer\\src\\serve_notebook.jl:139\n",
            " [13] top-level scope\n",
            "    @ c:\\Users\\Phil\\.vscode\\extensions\\julialang.language-julia-1.38.2\\scripts\\notebook\\notebook.jl:32"
          ]
        }
      ],
      "source": [
        "import torch\n",
        "import torch.nn as nn\n",
        "import torch.optim as optim\n",
        "from torch.utils.data import Dataset\n",
        "from torchvision import datasets\n",
        "from torchvision.transforms import ToTensor\n",
        "import matplotlib.pyplot as plt\n",
        "from torch.utils.data import DataLoader\n",
        "import torch.nn.functional as F"
      ]
    },
    {
      "attachments": {},
      "cell_type": "markdown",
      "metadata": {
        "id": "yw7Q7aNUv1hx"
      },
      "source": [
        "Set up training and test data as DataLoaders"
      ]
    },
    {
      "cell_type": "code",
      "execution_count": 9,
      "metadata": {
        "id": "MDWPjtO4px2L"
      },
      "outputs": [],
      "source": [
        "training_data = datasets.MNIST(\n",
        "    root=\"data\",\n",
        "    train=True,\n",
        "    download=True,\n",
        "    transform=ToTensor()\n",
        ")\n",
        "\n",
        "test_data = datasets.MNIST(\n",
        "    root=\"data\",\n",
        "    train=False,\n",
        "    download=True,\n",
        "    transform=ToTensor()\n",
        ")\n",
        "\n",
        "train_dataloader = DataLoader(training_data, batch_size=64, shuffle=True)\n",
        "test_dataloader = DataLoader(test_data, batch_size=64, shuffle=True)"
      ]
    },
    {
      "attachments": {},
      "cell_type": "markdown",
      "metadata": {
        "id": "n_D9uZ8fv6pC"
      },
      "source": [
        "Define nerual net model"
      ]
    },
    {
      "cell_type": "code",
      "execution_count": 4,
      "metadata": {
        "colab": {
          "base_uri": "https://localhost:8080/"
        },
        "id": "YkT-YQxffIIt",
        "outputId": "6336b4f4-9b54-477e-f36a-7ee76221d361"
      },
      "outputs": [
        {
          "name": "stdout",
          "output_type": "stream",
          "text": [
            "Epoch [1/10], Step [100/938], Loss: 0.4315\n",
            "Epoch [1/10], Step [200/938], Loss: 0.1787\n",
            "Epoch [1/10], Step [300/938], Loss: 0.3425\n",
            "Epoch [1/10], Step [400/938], Loss: 0.3499\n",
            "Epoch [1/10], Step [500/938], Loss: 0.1738\n",
            "Epoch [1/10], Step [600/938], Loss: 0.1645\n",
            "Epoch [1/10], Step [700/938], Loss: 0.1462\n",
            "Epoch [1/10], Step [800/938], Loss: 0.0835\n",
            "Epoch [1/10], Step [900/938], Loss: 0.0840\n",
            "Epoch [2/10], Step [100/938], Loss: 0.1296\n",
            "Epoch [2/10], Step [200/938], Loss: 0.1725\n",
            "Epoch [2/10], Step [300/938], Loss: 0.1474\n",
            "Epoch [2/10], Step [400/938], Loss: 0.0961\n",
            "Epoch [2/10], Step [500/938], Loss: 0.1313\n",
            "Epoch [2/10], Step [600/938], Loss: 0.0905\n",
            "Epoch [2/10], Step [700/938], Loss: 0.1664\n",
            "Epoch [2/10], Step [800/938], Loss: 0.0629\n",
            "Epoch [2/10], Step [900/938], Loss: 0.3032\n",
            "Epoch [3/10], Step [100/938], Loss: 0.2012\n",
            "Epoch [3/10], Step [200/938], Loss: 0.1245\n",
            "Epoch [3/10], Step [300/938], Loss: 0.0706\n",
            "Epoch [3/10], Step [400/938], Loss: 0.0623\n",
            "Epoch [3/10], Step [500/938], Loss: 0.0468\n",
            "Epoch [3/10], Step [600/938], Loss: 0.0405\n",
            "Epoch [3/10], Step [700/938], Loss: 0.0912\n",
            "Epoch [3/10], Step [800/938], Loss: 0.1081\n",
            "Epoch [3/10], Step [900/938], Loss: 0.0994\n",
            "Epoch [4/10], Step [100/938], Loss: 0.0417\n",
            "Epoch [4/10], Step [200/938], Loss: 0.1093\n",
            "Epoch [4/10], Step [300/938], Loss: 0.0841\n",
            "Epoch [4/10], Step [400/938], Loss: 0.1903\n",
            "Epoch [4/10], Step [500/938], Loss: 0.1617\n",
            "Epoch [4/10], Step [600/938], Loss: 0.0223\n",
            "Epoch [4/10], Step [700/938], Loss: 0.0367\n",
            "Epoch [4/10], Step [800/938], Loss: 0.1035\n",
            "Epoch [4/10], Step [900/938], Loss: 0.0325\n",
            "Epoch [5/10], Step [100/938], Loss: 0.0549\n",
            "Epoch [5/10], Step [200/938], Loss: 0.0338\n",
            "Epoch [5/10], Step [300/938], Loss: 0.0839\n",
            "Epoch [5/10], Step [400/938], Loss: 0.0554\n",
            "Epoch [5/10], Step [500/938], Loss: 0.1285\n",
            "Epoch [5/10], Step [600/938], Loss: 0.0187\n",
            "Epoch [5/10], Step [700/938], Loss: 0.1217\n",
            "Epoch [5/10], Step [800/938], Loss: 0.1184\n",
            "Epoch [5/10], Step [900/938], Loss: 0.0418\n",
            "Epoch [6/10], Step [100/938], Loss: 0.0482\n",
            "Epoch [6/10], Step [200/938], Loss: 0.0704\n",
            "Epoch [6/10], Step [300/938], Loss: 0.0442\n",
            "Epoch [6/10], Step [400/938], Loss: 0.0307\n",
            "Epoch [6/10], Step [500/938], Loss: 0.0310\n",
            "Epoch [6/10], Step [600/938], Loss: 0.0165\n",
            "Epoch [6/10], Step [700/938], Loss: 0.0503\n",
            "Epoch [6/10], Step [800/938], Loss: 0.0298\n",
            "Epoch [6/10], Step [900/938], Loss: 0.1307\n",
            "Epoch [7/10], Step [100/938], Loss: 0.0684\n",
            "Epoch [7/10], Step [200/938], Loss: 0.0088\n",
            "Epoch [7/10], Step [300/938], Loss: 0.1353\n",
            "Epoch [7/10], Step [400/938], Loss: 0.0211\n",
            "Epoch [7/10], Step [500/938], Loss: 0.0944\n",
            "Epoch [7/10], Step [600/938], Loss: 0.0474\n",
            "Epoch [7/10], Step [700/938], Loss: 0.0428\n",
            "Epoch [7/10], Step [800/938], Loss: 0.1039\n",
            "Epoch [7/10], Step [900/938], Loss: 0.0125\n",
            "Epoch [8/10], Step [100/938], Loss: 0.0456\n",
            "Epoch [8/10], Step [200/938], Loss: 0.0160\n",
            "Epoch [8/10], Step [300/938], Loss: 0.0342\n",
            "Epoch [8/10], Step [400/938], Loss: 0.0109\n",
            "Epoch [8/10], Step [500/938], Loss: 0.0338\n",
            "Epoch [8/10], Step [600/938], Loss: 0.0187\n",
            "Epoch [8/10], Step [700/938], Loss: 0.0411\n",
            "Epoch [8/10], Step [800/938], Loss: 0.0702\n",
            "Epoch [8/10], Step [900/938], Loss: 0.0622\n",
            "Epoch [9/10], Step [100/938], Loss: 0.0486\n",
            "Epoch [9/10], Step [200/938], Loss: 0.0120\n",
            "Epoch [9/10], Step [300/938], Loss: 0.0103\n",
            "Epoch [9/10], Step [400/938], Loss: 0.0301\n",
            "Epoch [9/10], Step [500/938], Loss: 0.0163\n",
            "Epoch [9/10], Step [600/938], Loss: 0.0104\n",
            "Epoch [9/10], Step [700/938], Loss: 0.0426\n",
            "Epoch [9/10], Step [800/938], Loss: 0.0127\n",
            "Epoch [9/10], Step [900/938], Loss: 0.0237\n",
            "Epoch [10/10], Step [100/938], Loss: 0.0344\n",
            "Epoch [10/10], Step [200/938], Loss: 0.0103\n",
            "Epoch [10/10], Step [300/938], Loss: 0.0262\n",
            "Epoch [10/10], Step [400/938], Loss: 0.0009\n",
            "Epoch [10/10], Step [500/938], Loss: 0.0284\n",
            "Epoch [10/10], Step [600/938], Loss: 0.0279\n",
            "Epoch [10/10], Step [700/938], Loss: 0.0021\n",
            "Epoch [10/10], Step [800/938], Loss: 0.0044\n",
            "Epoch [10/10], Step [900/938], Loss: 0.0216\n",
            "Training complete.\n"
          ]
        }
      ],
      "source": [
        "# Define the neural network model\n",
        "class FeedForwardNN(nn.Module):\n",
        "    def __init__(self, input_size, hidden_sizes, num_classes):\n",
        "        super(FeedForwardNN, self).__init__()\n",
        "        self.layers = nn.ModuleList()\n",
        "        \n",
        "        prev_size = input_size\n",
        "        for hidden_size in hidden_sizes:\n",
        "            self.layers.append(nn.Linear(prev_size, hidden_size))\n",
        "            self.layers.append(nn.ReLU())\n",
        "            prev_size = hidden_size\n",
        "\n",
        "        self.layers.append(nn.Linear(prev_size, num_classes))\n",
        "\n",
        "    def forward(self, x):\n",
        "        for layer in self.layers:\n",
        "            x = layer(x)\n",
        "        return x\n",
        "\n",
        "# Model parameters\n",
        "input_size = 784  # Example: 28x28 pixels for MNIST dataset\n",
        "hidden_size = [128, 64]\n",
        "num_classes = 10  # Example: Number of classes for MNIST dataset\n",
        "learning_rate = 0.001\n",
        "num_epochs = 10\n",
        "\n",
        "# Create the model, loss function, and optimizer\n",
        "model = FeedForwardNN(input_size, hidden_size, num_classes)\n",
        "criterion = nn.CrossEntropyLoss()\n",
        "optimizer = optim.SGD(model.parameters(), lr=learning_rate)\n",
        "# optimizer = optim.Adam(model.parameters(), lr=learning_rate)\n",
        "\n",
        "# Training loop\n",
        "for epoch in range(num_epochs):\n",
        "    for i, (images, labels) in enumerate(train_dataloader):\n",
        "        # Flatten the images and convert to PyTorch tensors\n",
        "        images = images.view(-1, input_size)\n",
        "        \n",
        "        # Forward pass\n",
        "        outputs = model(images)\n",
        "        loss = criterion(outputs, labels)\n",
        "        \n",
        "        # Backward pass\n",
        "        optimizer.zero_grad()\n",
        "        loss.backward()\n",
        "        optimizer.step()\n",
        "        \n",
        "        if (i+1) % 100 == 0:\n",
        "            print(f'Epoch [{epoch+1}/{num_epochs}], Step [{i+1}/{len(train_dataloader)}], Loss: {loss.item():.4f}')\n",
        "\n",
        "print(\"Training complete.\")"
      ]
    },
    {
      "attachments": {},
      "cell_type": "markdown",
      "metadata": {
        "id": "rgeaJ9rwwACC"
      },
      "source": [
        "Set up testing method"
      ]
    },
    {
      "cell_type": "code",
      "execution_count": 12,
      "metadata": {
        "id": "v86m-PGIn9N0"
      },
      "outputs": [],
      "source": [
        "def test(model, test_loader):\n",
        "    model.eval()\n",
        "    test_loss = 0\n",
        "    correct = 0\n",
        "    with torch.no_grad():\n",
        "        for data, target in test_loader:\n",
        "            data = data.view(-1, input_size)\n",
        "            output = model(data)\n",
        "            test_loss += F.nll_loss(output, target, reduction='sum').item()  # sum up batch loss\n",
        "            pred = output.argmax(dim=1, keepdim=True)  # get the index of the max log-probability\n",
        "            correct += pred.eq(target.view_as(pred)).sum().item()\n",
        "\n",
        "    test_loss /= len(test_loader.dataset)\n",
        "\n",
        "    print('\\nTest set: Average loss: {:.4f}, Accuracy: {}/{} ({:.0f}%)\\n'.format(\n",
        "        test_loss, correct, len(test_loader.dataset),\n",
        "        100. * correct / len(test_loader.dataset)))"
      ]
    },
    {
      "attachments": {},
      "cell_type": "markdown",
      "metadata": {
        "id": "7ZB-7XYQwLJz"
      },
      "source": [
        "Testing the model"
      ]
    },
    {
      "cell_type": "code",
      "execution_count": 14,
      "metadata": {
        "colab": {
          "base_uri": "https://localhost:8080/"
        },
        "id": "DxUtQ1PGuJo_",
        "outputId": "b52516b7-c4e8-4acb-c59b-6b048c28cb2a"
      },
      "outputs": [
        {
          "name": "stdout",
          "output_type": "stream",
          "text": [
            "\n",
            "Test set: Average loss: -10.0460, Accuracy: 9786/10000 (98%)\n",
            "\n"
          ]
        }
      ],
      "source": [
        "test(model, test_dataloader)"
      ]
    }
  ],
  "metadata": {
    "colab": {
      "provenance": []
    },
    "kernelspec": {
      "display_name": "Python 3",
      "language": "python",
      "name": "python3"
    },
    "language_info": {
      "file_extension": ".jl",
      "mimetype": "application/julia",
      "name": "python",
      "version": "3.10.11"
    }
  },
  "nbformat": 4,
  "nbformat_minor": 0
}
