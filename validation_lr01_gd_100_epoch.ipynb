{
 "cells": [
  {
   "attachments": {},
   "cell_type": "markdown",
   "metadata": {},
   "source": [
    "# Validating NN Model\n",
    "\n",
    "Using validation curves to validate the model performance "
   ]
  },
  {
   "cell_type": "code",
   "execution_count": 1,
   "metadata": {},
   "outputs": [],
   "source": [
    "import activation_functions\n",
    "import loss_functions\n",
    "import process_MNIST\n",
    "from init_NN_val import NeuralNetwork\n",
    "from scipy import stats\n",
    "import numpy as np\n",
    "import matplotlib.pyplot as plt\n",
    "\n",
    "#local path to files \n",
    "training_images_path =  'training_data/train-images.idx3-ubyte'\n",
    "training_labels_path =  'training_data/train-labels.idx1-ubyte'\n",
    "test_images_path = 'test_data/t10k-images.idx3-ubyte'\n",
    "test_labels_path =  'test_data/t10k-labels.idx1-ubyte'\n",
    "\n",
    "\n",
    "#Loads MNIST data files. Assumes unzipped idx files avilable at: http://yann.lecun.com/exdb/mnist/\n",
    "training_images, training_labels = process_MNIST.load_data(training_images_path, training_labels_path)\n",
    "test_images, test_labels = process_MNIST.load_data(test_images_path, test_labels_path)"
   ]
  },
  {
   "attachments": {},
   "cell_type": "markdown",
   "metadata": {},
   "source": [
    "Testing Model with Learning Rate 0.01 using Gradient Descent"
   ]
  },
  {
   "cell_type": "code",
   "execution_count": 2,
   "metadata": {},
   "outputs": [
    {
     "name": "stderr",
     "output_type": "stream",
     "text": [
      "100%|██████████| 1/1 [00:45<00:00, 45.78s/it]\n",
      "  1%|          | 1/100 [00:45<1:15:48, 45.94s/it]"
     ]
    },
    {
     "name": "stdout",
     "output_type": "stream",
     "text": [
      "epoch loss:  598.164700423427\n"
     ]
    },
    {
     "name": "stderr",
     "output_type": "stream",
     "text": [
      "100%|██████████| 1/1 [00:45<00:00, 45.34s/it]\n",
      "  2%|▏         | 2/100 [01:31<1:14:38, 45.70s/it]"
     ]
    },
    {
     "name": "stdout",
     "output_type": "stream",
     "text": [
      "epoch loss:  392.2085617109954\n"
     ]
    },
    {
     "name": "stderr",
     "output_type": "stream",
     "text": [
      "100%|██████████| 1/1 [00:42<00:00, 42.48s/it]\n",
      "  3%|▎         | 3/100 [02:14<1:11:36, 44.29s/it]"
     ]
    },
    {
     "name": "stdout",
     "output_type": "stream",
     "text": [
      "epoch loss:  279.4738462835209\n"
     ]
    },
    {
     "name": "stderr",
     "output_type": "stream",
     "text": [
      "100%|██████████| 1/1 [00:44<00:00, 44.93s/it]\n",
      "  4%|▍         | 4/100 [02:59<1:11:22, 44.61s/it]"
     ]
    },
    {
     "name": "stdout",
     "output_type": "stream",
     "text": [
      "epoch loss:  224.50845786816865\n"
     ]
    },
    {
     "name": "stderr",
     "output_type": "stream",
     "text": [
      "100%|██████████| 1/1 [00:45<00:00, 45.92s/it]\n",
      "  5%|▌         | 5/100 [03:45<1:11:30, 45.16s/it]"
     ]
    },
    {
     "name": "stdout",
     "output_type": "stream",
     "text": [
      "epoch loss:  190.82682178238161\n"
     ]
    },
    {
     "name": "stderr",
     "output_type": "stream",
     "text": [
      "100%|██████████| 1/1 [00:40<00:00, 40.33s/it]\n",
      "  6%|▌         | 6/100 [04:25<1:08:16, 43.58s/it]"
     ]
    },
    {
     "name": "stdout",
     "output_type": "stream",
     "text": [
      "epoch loss:  169.0773503645019\n"
     ]
    },
    {
     "name": "stderr",
     "output_type": "stream",
     "text": [
      "100%|██████████| 1/1 [00:43<00:00, 43.34s/it]\n",
      "  7%|▋         | 7/100 [05:09<1:07:29, 43.54s/it]"
     ]
    },
    {
     "name": "stdout",
     "output_type": "stream",
     "text": [
      "epoch loss:  153.08877768421158\n"
     ]
    },
    {
     "name": "stderr",
     "output_type": "stream",
     "text": [
      "100%|██████████| 1/1 [00:40<00:00, 40.64s/it]\n",
      "  8%|▊         | 8/100 [05:50<1:05:25, 42.67s/it]"
     ]
    },
    {
     "name": "stdout",
     "output_type": "stream",
     "text": [
      "epoch loss:  140.23705375952045\n"
     ]
    },
    {
     "name": "stderr",
     "output_type": "stream",
     "text": [
      "100%|██████████| 1/1 [00:45<00:00, 45.03s/it]\n",
      "  9%|▉         | 9/100 [06:35<1:05:54, 43.45s/it]"
     ]
    },
    {
     "name": "stdout",
     "output_type": "stream",
     "text": [
      "epoch loss:  129.5673638037947\n"
     ]
    },
    {
     "name": "stderr",
     "output_type": "stream",
     "text": [
      "100%|██████████| 1/1 [00:37<00:00, 37.52s/it]\n",
      " 10%|█         | 10/100 [07:12<1:02:30, 41.67s/it]"
     ]
    },
    {
     "name": "stdout",
     "output_type": "stream",
     "text": [
      "epoch loss:  120.55061977524491\n"
     ]
    },
    {
     "name": "stderr",
     "output_type": "stream",
     "text": [
      "100%|██████████| 1/1 [00:31<00:00, 31.66s/it]\n",
      " 11%|█         | 11/100 [07:44<57:18, 38.64s/it]  "
     ]
    },
    {
     "name": "stdout",
     "output_type": "stream",
     "text": [
      "epoch loss:  112.85178999009025\n"
     ]
    },
    {
     "name": "stderr",
     "output_type": "stream",
     "text": [
      "100%|██████████| 1/1 [00:37<00:00, 37.02s/it]\n",
      " 12%|█▏        | 12/100 [08:21<55:59, 38.18s/it]"
     ]
    },
    {
     "name": "stdout",
     "output_type": "stream",
     "text": [
      "epoch loss:  106.20785088639448\n"
     ]
    },
    {
     "name": "stderr",
     "output_type": "stream",
     "text": [
      "100%|██████████| 1/1 [00:36<00:00, 36.19s/it]\n",
      " 13%|█▎        | 13/100 [08:58<54:31, 37.60s/it]"
     ]
    },
    {
     "name": "stdout",
     "output_type": "stream",
     "text": [
      "epoch loss:  100.41381501033426\n"
     ]
    },
    {
     "name": "stderr",
     "output_type": "stream",
     "text": [
      "100%|██████████| 1/1 [00:34<00:00, 34.68s/it]\n",
      " 14%|█▍        | 14/100 [09:32<52:40, 36.76s/it]"
     ]
    },
    {
     "name": "stdout",
     "output_type": "stream",
     "text": [
      "epoch loss:  95.31946645017152\n"
     ]
    },
    {
     "name": "stderr",
     "output_type": "stream",
     "text": [
      "100%|██████████| 1/1 [00:41<00:00, 41.46s/it]\n",
      " 15%|█▌        | 15/100 [10:14<54:08, 38.22s/it]"
     ]
    },
    {
     "name": "stdout",
     "output_type": "stream",
     "text": [
      "epoch loss:  90.79638804523063\n"
     ]
    },
    {
     "name": "stderr",
     "output_type": "stream",
     "text": [
      "100%|██████████| 1/1 [00:43<00:00, 43.13s/it]\n",
      " 16%|█▌        | 16/100 [10:57<55:37, 39.74s/it]"
     ]
    },
    {
     "name": "stdout",
     "output_type": "stream",
     "text": [
      "epoch loss:  86.75967864857537\n"
     ]
    },
    {
     "name": "stderr",
     "output_type": "stream",
     "text": [
      "100%|██████████| 1/1 [00:44<00:00, 44.48s/it]\n",
      " 17%|█▋        | 17/100 [11:42<57:00, 41.21s/it]"
     ]
    },
    {
     "name": "stdout",
     "output_type": "stream",
     "text": [
      "epoch loss:  83.12328202369547\n"
     ]
    },
    {
     "name": "stderr",
     "output_type": "stream",
     "text": [
      "100%|██████████| 1/1 [00:38<00:00, 38.74s/it]\n",
      " 18%|█▊        | 18/100 [12:21<55:21, 40.51s/it]"
     ]
    },
    {
     "name": "stdout",
     "output_type": "stream",
     "text": [
      "epoch loss:  79.83524720465127\n"
     ]
    },
    {
     "name": "stderr",
     "output_type": "stream",
     "text": [
      "100%|██████████| 1/1 [00:43<00:00, 43.09s/it]\n",
      " 19%|█▉        | 19/100 [13:04<55:47, 41.32s/it]"
     ]
    },
    {
     "name": "stdout",
     "output_type": "stream",
     "text": [
      "epoch loss:  76.83062919190324\n"
     ]
    },
    {
     "name": "stderr",
     "output_type": "stream",
     "text": [
      "100%|██████████| 1/1 [00:39<00:00, 39.93s/it]\n",
      " 20%|██        | 20/100 [13:44<54:35, 40.94s/it]"
     ]
    },
    {
     "name": "stdout",
     "output_type": "stream",
     "text": [
      "epoch loss:  74.08395673569892\n"
     ]
    },
    {
     "name": "stderr",
     "output_type": "stream",
     "text": [
      "100%|██████████| 1/1 [00:44<00:00, 44.23s/it]\n",
      " 21%|██        | 21/100 [14:28<55:16, 41.98s/it]"
     ]
    },
    {
     "name": "stdout",
     "output_type": "stream",
     "text": [
      "epoch loss:  71.57025500812868\n"
     ]
    },
    {
     "name": "stderr",
     "output_type": "stream",
     "text": [
      "100%|██████████| 1/1 [00:41<00:00, 41.25s/it]\n",
      " 22%|██▏       | 22/100 [15:10<54:20, 41.80s/it]"
     ]
    },
    {
     "name": "stdout",
     "output_type": "stream",
     "text": [
      "epoch loss:  69.25923528098537\n"
     ]
    },
    {
     "name": "stderr",
     "output_type": "stream",
     "text": [
      "100%|██████████| 1/1 [00:42<00:00, 42.33s/it]\n",
      " 23%|██▎       | 23/100 [15:52<53:54, 42.00s/it]"
     ]
    },
    {
     "name": "stdout",
     "output_type": "stream",
     "text": [
      "epoch loss:  67.12736187188945\n"
     ]
    },
    {
     "name": "stderr",
     "output_type": "stream",
     "text": [
      "100%|██████████| 1/1 [00:39<00:00, 39.38s/it]\n",
      " 24%|██▍       | 24/100 [16:32<52:15, 41.26s/it]"
     ]
    },
    {
     "name": "stdout",
     "output_type": "stream",
     "text": [
      "epoch loss:  65.14741216756131\n"
     ]
    },
    {
     "name": "stderr",
     "output_type": "stream",
     "text": [
      "100%|██████████| 1/1 [00:42<00:00, 42.69s/it]\n",
      " 25%|██▌       | 25/100 [17:15<52:09, 41.73s/it]"
     ]
    },
    {
     "name": "stdout",
     "output_type": "stream",
     "text": [
      "epoch loss:  63.30303260589795\n"
     ]
    },
    {
     "name": "stderr",
     "output_type": "stream",
     "text": [
      "100%|██████████| 1/1 [00:28<00:00, 28.65s/it]\n",
      " 26%|██▌       | 26/100 [17:43<46:40, 37.85s/it]"
     ]
    },
    {
     "name": "stdout",
     "output_type": "stream",
     "text": [
      "epoch loss:  61.577664663120345\n"
     ]
    },
    {
     "name": "stderr",
     "output_type": "stream",
     "text": [
      "100%|██████████| 1/1 [00:23<00:00, 23.99s/it]\n",
      " 27%|██▋       | 27/100 [18:08<41:01, 33.72s/it]"
     ]
    },
    {
     "name": "stdout",
     "output_type": "stream",
     "text": [
      "epoch loss:  59.96000897854568\n"
     ]
    },
    {
     "name": "stderr",
     "output_type": "stream",
     "text": [
      "100%|██████████| 1/1 [00:25<00:00, 25.59s/it]\n",
      " 28%|██▊       | 28/100 [18:33<37:34, 31.31s/it]"
     ]
    },
    {
     "name": "stdout",
     "output_type": "stream",
     "text": [
      "epoch loss:  58.43514492970961\n"
     ]
    },
    {
     "name": "stderr",
     "output_type": "stream",
     "text": [
      "100%|██████████| 1/1 [00:26<00:00, 26.47s/it]\n",
      " 29%|██▉       | 29/100 [19:00<35:22, 29.90s/it]"
     ]
    },
    {
     "name": "stdout",
     "output_type": "stream",
     "text": [
      "epoch loss:  57.00093444345327\n"
     ]
    },
    {
     "name": "stderr",
     "output_type": "stream",
     "text": [
      "100%|██████████| 1/1 [00:28<00:00, 28.77s/it]\n",
      " 30%|███       | 30/100 [19:29<34:31, 29.59s/it]"
     ]
    },
    {
     "name": "stdout",
     "output_type": "stream",
     "text": [
      "epoch loss:  55.648125280241125\n"
     ]
    },
    {
     "name": "stderr",
     "output_type": "stream",
     "text": [
      "100%|██████████| 1/1 [00:37<00:00, 37.32s/it]\n",
      " 31%|███       | 31/100 [20:06<36:44, 31.94s/it]"
     ]
    },
    {
     "name": "stdout",
     "output_type": "stream",
     "text": [
      "epoch loss:  54.37089532588706\n"
     ]
    },
    {
     "name": "stderr",
     "output_type": "stream",
     "text": [
      "100%|██████████| 1/1 [00:43<00:00, 43.31s/it]\n",
      " 32%|███▏      | 32/100 [20:50<40:06, 35.40s/it]"
     ]
    },
    {
     "name": "stdout",
     "output_type": "stream",
     "text": [
      "epoch loss:  53.1620516003883\n"
     ]
    },
    {
     "name": "stderr",
     "output_type": "stream",
     "text": [
      "100%|██████████| 1/1 [00:42<00:00, 42.29s/it]\n",
      " 33%|███▎      | 33/100 [21:32<41:53, 37.51s/it]"
     ]
    },
    {
     "name": "stdout",
     "output_type": "stream",
     "text": [
      "epoch loss:  52.01695478773077\n"
     ]
    },
    {
     "name": "stderr",
     "output_type": "stream",
     "text": [
      "100%|██████████| 1/1 [00:39<00:00, 39.34s/it]\n",
      " 34%|███▍      | 34/100 [22:12<41:54, 38.10s/it]"
     ]
    },
    {
     "name": "stdout",
     "output_type": "stream",
     "text": [
      "epoch loss:  50.927540669694494\n"
     ]
    },
    {
     "name": "stderr",
     "output_type": "stream",
     "text": [
      "100%|██████████| 1/1 [00:43<00:00, 43.13s/it]\n",
      " 35%|███▌      | 35/100 [22:55<42:57, 39.65s/it]"
     ]
    },
    {
     "name": "stdout",
     "output_type": "stream",
     "text": [
      "epoch loss:  49.89171878267192\n"
     ]
    },
    {
     "name": "stderr",
     "output_type": "stream",
     "text": [
      "100%|██████████| 1/1 [00:39<00:00, 39.63s/it]\n",
      " 36%|███▌      | 36/100 [23:35<42:20, 39.69s/it]"
     ]
    },
    {
     "name": "stdout",
     "output_type": "stream",
     "text": [
      "epoch loss:  48.90633047423694\n"
     ]
    },
    {
     "name": "stderr",
     "output_type": "stream",
     "text": [
      "100%|██████████| 1/1 [00:40<00:00, 40.76s/it]\n",
      " 37%|███▋      | 37/100 [24:15<42:03, 40.06s/it]"
     ]
    },
    {
     "name": "stdout",
     "output_type": "stream",
     "text": [
      "epoch loss:  47.96744798262429\n"
     ]
    },
    {
     "name": "stderr",
     "output_type": "stream",
     "text": [
      "100%|██████████| 1/1 [00:45<00:00, 45.40s/it]\n",
      " 38%|███▊      | 38/100 [25:01<43:05, 41.71s/it]"
     ]
    },
    {
     "name": "stdout",
     "output_type": "stream",
     "text": [
      "epoch loss:  47.07113755874437\n"
     ]
    },
    {
     "name": "stderr",
     "output_type": "stream",
     "text": [
      "100%|██████████| 1/1 [00:39<00:00, 39.74s/it]\n",
      " 39%|███▉      | 39/100 [25:41<41:50, 41.16s/it]"
     ]
    },
    {
     "name": "stdout",
     "output_type": "stream",
     "text": [
      "epoch loss:  46.214057851710564\n"
     ]
    },
    {
     "name": "stderr",
     "output_type": "stream",
     "text": [
      "100%|██████████| 1/1 [00:36<00:00, 36.39s/it]\n",
      " 40%|████      | 40/100 [26:17<39:45, 39.77s/it]"
     ]
    },
    {
     "name": "stdout",
     "output_type": "stream",
     "text": [
      "epoch loss:  45.39472302625038\n"
     ]
    },
    {
     "name": "stderr",
     "output_type": "stream",
     "text": [
      "100%|██████████| 1/1 [00:37<00:00, 37.77s/it]\n",
      " 41%|████      | 41/100 [26:55<38:33, 39.21s/it]"
     ]
    },
    {
     "name": "stdout",
     "output_type": "stream",
     "text": [
      "epoch loss:  44.61396492236355\n"
     ]
    },
    {
     "name": "stderr",
     "output_type": "stream",
     "text": [
      "100%|██████████| 1/1 [00:35<00:00, 35.16s/it]\n",
      " 42%|████▏     | 42/100 [27:31<36:46, 38.04s/it]"
     ]
    },
    {
     "name": "stdout",
     "output_type": "stream",
     "text": [
      "epoch loss:  43.86787207468131\n"
     ]
    },
    {
     "name": "stderr",
     "output_type": "stream",
     "text": [
      "100%|██████████| 1/1 [00:34<00:00, 34.54s/it]\n",
      " 43%|████▎     | 43/100 [28:05<35:10, 37.03s/it]"
     ]
    },
    {
     "name": "stdout",
     "output_type": "stream",
     "text": [
      "epoch loss:  43.151013744977355\n"
     ]
    },
    {
     "name": "stderr",
     "output_type": "stream",
     "text": [
      "100%|██████████| 1/1 [00:30<00:00, 30.59s/it]\n",
      " 44%|████▍     | 44/100 [28:36<32:47, 35.14s/it]"
     ]
    },
    {
     "name": "stdout",
     "output_type": "stream",
     "text": [
      "epoch loss:  42.46057308867212\n"
     ]
    },
    {
     "name": "stderr",
     "output_type": "stream",
     "text": [
      "100%|██████████| 1/1 [00:30<00:00, 30.92s/it]\n",
      " 45%|████▌     | 45/100 [29:07<31:05, 33.91s/it]"
     ]
    },
    {
     "name": "stdout",
     "output_type": "stream",
     "text": [
      "epoch loss:  41.79565201384666\n"
     ]
    },
    {
     "name": "stderr",
     "output_type": "stream",
     "text": [
      "100%|██████████| 1/1 [00:31<00:00, 31.32s/it]\n",
      " 46%|████▌     | 46/100 [29:39<29:51, 33.17s/it]"
     ]
    },
    {
     "name": "stdout",
     "output_type": "stream",
     "text": [
      "epoch loss:  41.15738531705922\n"
     ]
    },
    {
     "name": "stderr",
     "output_type": "stream",
     "text": [
      "100%|██████████| 1/1 [00:30<00:00, 30.75s/it]\n",
      " 47%|████▋     | 47/100 [30:10<28:42, 32.50s/it]"
     ]
    },
    {
     "name": "stdout",
     "output_type": "stream",
     "text": [
      "epoch loss:  40.54303509772729\n"
     ]
    },
    {
     "name": "stderr",
     "output_type": "stream",
     "text": [
      "100%|██████████| 1/1 [00:30<00:00, 30.64s/it]\n",
      " 48%|████▊     | 48/100 [30:40<27:42, 31.98s/it]"
     ]
    },
    {
     "name": "stdout",
     "output_type": "stream",
     "text": [
      "epoch loss:  39.95238135151329\n"
     ]
    },
    {
     "name": "stderr",
     "output_type": "stream",
     "text": [
      "100%|██████████| 1/1 [00:30<00:00, 30.47s/it]\n",
      " 49%|████▉     | 49/100 [31:11<26:49, 31.56s/it]"
     ]
    },
    {
     "name": "stdout",
     "output_type": "stream",
     "text": [
      "epoch loss:  39.384172238404446\n"
     ]
    },
    {
     "name": "stderr",
     "output_type": "stream",
     "text": [
      "100%|██████████| 1/1 [00:30<00:00, 30.11s/it]\n",
      " 50%|█████     | 50/100 [31:41<25:57, 31.16s/it]"
     ]
    },
    {
     "name": "stdout",
     "output_type": "stream",
     "text": [
      "epoch loss:  38.836628505998775\n"
     ]
    },
    {
     "name": "stderr",
     "output_type": "stream",
     "text": [
      "100%|██████████| 1/1 [00:31<00:00, 31.77s/it]\n",
      " 51%|█████     | 51/100 [32:13<25:37, 31.38s/it]"
     ]
    },
    {
     "name": "stdout",
     "output_type": "stream",
     "text": [
      "epoch loss:  38.30768725949096\n"
     ]
    },
    {
     "name": "stderr",
     "output_type": "stream",
     "text": [
      "100%|██████████| 1/1 [00:30<00:00, 30.61s/it]\n",
      " 52%|█████▏    | 52/100 [32:44<24:57, 31.19s/it]"
     ]
    },
    {
     "name": "stdout",
     "output_type": "stream",
     "text": [
      "epoch loss:  37.796709534834385\n"
     ]
    },
    {
     "name": "stderr",
     "output_type": "stream",
     "text": [
      "100%|██████████| 1/1 [00:30<00:00, 30.71s/it]\n",
      " 53%|█████▎    | 53/100 [33:15<24:20, 31.08s/it]"
     ]
    },
    {
     "name": "stdout",
     "output_type": "stream",
     "text": [
      "epoch loss:  37.302515783120135\n"
     ]
    },
    {
     "name": "stderr",
     "output_type": "stream",
     "text": [
      "100%|██████████| 1/1 [00:30<00:00, 30.41s/it]\n",
      " 54%|█████▍    | 54/100 [33:45<23:42, 30.92s/it]"
     ]
    },
    {
     "name": "stdout",
     "output_type": "stream",
     "text": [
      "epoch loss:  36.8242102326699\n"
     ]
    },
    {
     "name": "stderr",
     "output_type": "stream",
     "text": [
      "100%|██████████| 1/1 [00:30<00:00, 30.88s/it]\n",
      " 55%|█████▌    | 55/100 [34:16<23:12, 30.94s/it]"
     ]
    },
    {
     "name": "stdout",
     "output_type": "stream",
     "text": [
      "epoch loss:  36.36006075949295\n"
     ]
    },
    {
     "name": "stderr",
     "output_type": "stream",
     "text": [
      "100%|██████████| 1/1 [00:30<00:00, 30.26s/it]\n",
      " 56%|█████▌    | 56/100 [34:46<22:33, 30.77s/it]"
     ]
    },
    {
     "name": "stdout",
     "output_type": "stream",
     "text": [
      "epoch loss:  35.9107899843851\n"
     ]
    },
    {
     "name": "stderr",
     "output_type": "stream",
     "text": [
      "100%|██████████| 1/1 [00:30<00:00, 30.44s/it]\n",
      " 57%|█████▋    | 57/100 [35:17<22:00, 30.71s/it]"
     ]
    },
    {
     "name": "stdout",
     "output_type": "stream",
     "text": [
      "epoch loss:  35.4755836323011\n"
     ]
    },
    {
     "name": "stderr",
     "output_type": "stream",
     "text": [
      "100%|██████████| 1/1 [00:30<00:00, 30.21s/it]\n",
      " 58%|█████▊    | 58/100 [35:47<21:24, 30.59s/it]"
     ]
    },
    {
     "name": "stdout",
     "output_type": "stream",
     "text": [
      "epoch loss:  35.05373878447798\n"
     ]
    },
    {
     "name": "stderr",
     "output_type": "stream",
     "text": [
      "100%|██████████| 1/1 [00:30<00:00, 30.44s/it]\n",
      " 59%|█████▉    | 59/100 [36:18<20:53, 30.58s/it]"
     ]
    },
    {
     "name": "stdout",
     "output_type": "stream",
     "text": [
      "epoch loss:  34.64444573874839\n"
     ]
    },
    {
     "name": "stderr",
     "output_type": "stream",
     "text": [
      "100%|██████████| 1/1 [00:30<00:00, 30.47s/it]\n",
      " 60%|██████    | 60/100 [36:48<20:23, 30.58s/it]"
     ]
    },
    {
     "name": "stdout",
     "output_type": "stream",
     "text": [
      "epoch loss:  34.246798969508944\n"
     ]
    },
    {
     "name": "stderr",
     "output_type": "stream",
     "text": [
      "100%|██████████| 1/1 [00:30<00:00, 30.17s/it]\n",
      " 61%|██████    | 61/100 [37:19<19:49, 30.49s/it]"
     ]
    },
    {
     "name": "stdout",
     "output_type": "stream",
     "text": [
      "epoch loss:  33.860192518089754\n"
     ]
    },
    {
     "name": "stderr",
     "output_type": "stream",
     "text": [
      "100%|██████████| 1/1 [00:30<00:00, 30.49s/it]\n",
      " 62%|██████▏   | 62/100 [37:49<19:20, 30.53s/it]"
     ]
    },
    {
     "name": "stdout",
     "output_type": "stream",
     "text": [
      "epoch loss:  33.484607809808665\n"
     ]
    },
    {
     "name": "stderr",
     "output_type": "stream",
     "text": [
      "100%|██████████| 1/1 [00:30<00:00, 30.57s/it]\n",
      " 63%|██████▎   | 63/100 [38:20<18:51, 30.58s/it]"
     ]
    },
    {
     "name": "stdout",
     "output_type": "stream",
     "text": [
      "epoch loss:  33.11897419077411\n"
     ]
    },
    {
     "name": "stderr",
     "output_type": "stream",
     "text": [
      "100%|██████████| 1/1 [00:30<00:00, 30.47s/it]\n",
      " 64%|██████▍   | 64/100 [38:51<18:20, 30.58s/it]"
     ]
    },
    {
     "name": "stdout",
     "output_type": "stream",
     "text": [
      "epoch loss:  32.76306800356328\n"
     ]
    },
    {
     "name": "stderr",
     "output_type": "stream",
     "text": [
      "100%|██████████| 1/1 [00:30<00:00, 30.27s/it]\n",
      " 65%|██████▌   | 65/100 [39:21<17:48, 30.52s/it]"
     ]
    },
    {
     "name": "stdout",
     "output_type": "stream",
     "text": [
      "epoch loss:  32.41671160388206\n"
     ]
    },
    {
     "name": "stderr",
     "output_type": "stream",
     "text": [
      "100%|██████████| 1/1 [00:30<00:00, 30.34s/it]\n",
      " 66%|██████▌   | 66/100 [39:51<17:17, 30.50s/it]"
     ]
    },
    {
     "name": "stdout",
     "output_type": "stream",
     "text": [
      "epoch loss:  32.07885401939575\n"
     ]
    },
    {
     "name": "stderr",
     "output_type": "stream",
     "text": [
      "100%|██████████| 1/1 [00:30<00:00, 30.19s/it]\n",
      " 67%|██████▋   | 67/100 [40:22<16:44, 30.44s/it]"
     ]
    },
    {
     "name": "stdout",
     "output_type": "stream",
     "text": [
      "epoch loss:  31.748557297153415\n"
     ]
    },
    {
     "name": "stderr",
     "output_type": "stream",
     "text": [
      "100%|██████████| 1/1 [00:26<00:00, 26.95s/it]\n",
      " 68%|██████▊   | 68/100 [40:49<15:41, 29.43s/it]"
     ]
    },
    {
     "name": "stdout",
     "output_type": "stream",
     "text": [
      "epoch loss:  31.42585287534754\n"
     ]
    },
    {
     "name": "stderr",
     "output_type": "stream",
     "text": [
      "100%|██████████| 1/1 [00:24<00:00, 24.68s/it]\n",
      " 69%|██████▉   | 69/100 [41:14<14:29, 28.04s/it]"
     ]
    },
    {
     "name": "stdout",
     "output_type": "stream",
     "text": [
      "epoch loss:  31.110653621469414\n"
     ]
    },
    {
     "name": "stderr",
     "output_type": "stream",
     "text": [
      "100%|██████████| 1/1 [00:24<00:00, 24.66s/it]\n",
      " 70%|███████   | 70/100 [41:38<13:31, 27.06s/it]"
     ]
    },
    {
     "name": "stdout",
     "output_type": "stream",
     "text": [
      "epoch loss:  30.802861822574652\n"
     ]
    },
    {
     "name": "stderr",
     "output_type": "stream",
     "text": [
      "100%|██████████| 1/1 [00:24<00:00, 24.59s/it]\n",
      " 71%|███████   | 71/100 [42:03<12:44, 26.35s/it]"
     ]
    },
    {
     "name": "stdout",
     "output_type": "stream",
     "text": [
      "epoch loss:  30.50231272168146\n"
     ]
    },
    {
     "name": "stderr",
     "output_type": "stream",
     "text": [
      "100%|██████████| 1/1 [00:24<00:00, 24.84s/it]\n",
      " 72%|███████▏  | 72/100 [42:28<12:06, 25.93s/it]"
     ]
    },
    {
     "name": "stdout",
     "output_type": "stream",
     "text": [
      "epoch loss:  30.209497882309613\n"
     ]
    },
    {
     "name": "stderr",
     "output_type": "stream",
     "text": [
      "100%|██████████| 1/1 [00:24<00:00, 24.85s/it]\n",
      " 73%|███████▎  | 73/100 [42:53<11:32, 25.64s/it]"
     ]
    },
    {
     "name": "stdout",
     "output_type": "stream",
     "text": [
      "epoch loss:  29.922787858304815\n"
     ]
    },
    {
     "name": "stderr",
     "output_type": "stream",
     "text": [
      "100%|██████████| 1/1 [00:24<00:00, 24.53s/it]\n",
      " 74%|███████▍  | 74/100 [43:18<10:58, 25.34s/it]"
     ]
    },
    {
     "name": "stdout",
     "output_type": "stream",
     "text": [
      "epoch loss:  29.64221052870498\n"
     ]
    },
    {
     "name": "stderr",
     "output_type": "stream",
     "text": [
      "100%|██████████| 1/1 [00:24<00:00, 24.72s/it]\n",
      " 75%|███████▌  | 75/100 [43:42<10:29, 25.18s/it]"
     ]
    },
    {
     "name": "stdout",
     "output_type": "stream",
     "text": [
      "epoch loss:  29.368393972542833\n"
     ]
    },
    {
     "name": "stderr",
     "output_type": "stream",
     "text": [
      "100%|██████████| 1/1 [00:24<00:00, 24.81s/it]\n",
      " 76%|███████▌  | 76/100 [44:07<10:02, 25.11s/it]"
     ]
    },
    {
     "name": "stdout",
     "output_type": "stream",
     "text": [
      "epoch loss:  29.10066026080158\n"
     ]
    },
    {
     "name": "stderr",
     "output_type": "stream",
     "text": [
      "100%|██████████| 1/1 [00:25<00:00, 25.22s/it]\n",
      " 77%|███████▋  | 77/100 [44:33<09:39, 25.17s/it]"
     ]
    },
    {
     "name": "stdout",
     "output_type": "stream",
     "text": [
      "epoch loss:  28.83878584547296\n"
     ]
    },
    {
     "name": "stderr",
     "output_type": "stream",
     "text": [
      "100%|██████████| 1/1 [00:24<00:00, 24.60s/it]\n",
      " 78%|███████▊  | 78/100 [44:57<09:10, 25.04s/it]"
     ]
    },
    {
     "name": "stdout",
     "output_type": "stream",
     "text": [
      "epoch loss:  28.583490781671337\n"
     ]
    },
    {
     "name": "stderr",
     "output_type": "stream",
     "text": [
      "100%|██████████| 1/1 [00:24<00:00, 24.74s/it]\n",
      " 79%|███████▉  | 79/100 [45:22<08:44, 24.98s/it]"
     ]
    },
    {
     "name": "stdout",
     "output_type": "stream",
     "text": [
      "epoch loss:  28.334520623874873\n"
     ]
    },
    {
     "name": "stderr",
     "output_type": "stream",
     "text": [
      "100%|██████████| 1/1 [1:39:56<00:00, 5996.85s/it]\n",
      " 80%|████████  | 80/100 [2:25:19<10:05:31, 1816.57s/it]"
     ]
    },
    {
     "name": "stdout",
     "output_type": "stream",
     "text": [
      "epoch loss:  28.090583319866496\n"
     ]
    },
    {
     "name": "stderr",
     "output_type": "stream",
     "text": [
      "100%|██████████| 1/1 [00:32<00:00, 32.05s/it]\n",
      " 81%|████████  | 81/100 [2:25:51<6:45:43, 1281.26s/it] "
     ]
    },
    {
     "name": "stdout",
     "output_type": "stream",
     "text": [
      "epoch loss:  27.85158546922178\n"
     ]
    },
    {
     "name": "stderr",
     "output_type": "stream",
     "text": [
      "100%|██████████| 1/1 [00:32<00:00, 32.17s/it]\n",
      " 82%|████████▏ | 82/100 [2:26:24<4:31:58, 906.57s/it] "
     ]
    },
    {
     "name": "stdout",
     "output_type": "stream",
     "text": [
      "epoch loss:  27.617496029289782\n"
     ]
    },
    {
     "name": "stderr",
     "output_type": "stream",
     "text": [
      "100%|██████████| 1/1 [00:31<00:00, 31.06s/it]\n",
      " 83%|████████▎ | 83/100 [2:26:55<3:02:27, 643.95s/it]"
     ]
    },
    {
     "name": "stdout",
     "output_type": "stream",
     "text": [
      "epoch loss:  27.388027959990758\n"
     ]
    },
    {
     "name": "stderr",
     "output_type": "stream",
     "text": [
      "100%|██████████| 1/1 [00:28<00:00, 28.26s/it]\n",
      " 84%|████████▍ | 84/100 [2:27:23<2:02:28, 459.27s/it]"
     ]
    },
    {
     "name": "stdout",
     "output_type": "stream",
     "text": [
      "epoch loss:  27.163058273372872\n"
     ]
    },
    {
     "name": "stderr",
     "output_type": "stream",
     "text": [
      "100%|██████████| 1/1 [00:29<00:00, 29.08s/it]\n",
      " 85%|████████▌ | 85/100 [2:27:52<1:22:33, 330.24s/it]"
     ]
    },
    {
     "name": "stdout",
     "output_type": "stream",
     "text": [
      "epoch loss:  26.942150269443253\n"
     ]
    },
    {
     "name": "stderr",
     "output_type": "stream",
     "text": [
      "100%|██████████| 1/1 [00:27<00:00, 27.54s/it]\n",
      " 86%|████████▌ | 86/100 [2:28:20<55:52, 239.46s/it]  "
     ]
    },
    {
     "name": "stdout",
     "output_type": "stream",
     "text": [
      "epoch loss:  26.725023278120783\n"
     ]
    },
    {
     "name": "stderr",
     "output_type": "stream",
     "text": [
      "100%|██████████| 1/1 [00:27<00:00, 27.98s/it]\n",
      " 87%|████████▋ | 87/100 [2:28:48<38:08, 176.05s/it]"
     ]
    },
    {
     "name": "stdout",
     "output_type": "stream",
     "text": [
      "epoch loss:  26.511675468021934\n"
     ]
    },
    {
     "name": "stderr",
     "output_type": "stream",
     "text": [
      "100%|██████████| 1/1 [00:29<00:00, 29.71s/it]\n",
      " 88%|████████▊ | 88/100 [2:29:18<26:26, 132.18s/it]"
     ]
    },
    {
     "name": "stdout",
     "output_type": "stream",
     "text": [
      "epoch loss:  26.30225196513336\n"
     ]
    },
    {
     "name": "stderr",
     "output_type": "stream",
     "text": [
      "100%|██████████| 1/1 [00:31<00:00, 31.29s/it]\n",
      " 89%|████████▉ | 89/100 [2:29:49<18:41, 101.95s/it]"
     ]
    },
    {
     "name": "stdout",
     "output_type": "stream",
     "text": [
      "epoch loss:  26.09673053237535\n"
     ]
    },
    {
     "name": "stderr",
     "output_type": "stream",
     "text": [
      "100%|██████████| 1/1 [00:27<00:00, 27.11s/it]\n",
      " 90%|█████████ | 90/100 [2:30:17<13:15, 79.53s/it] "
     ]
    },
    {
     "name": "stdout",
     "output_type": "stream",
     "text": [
      "epoch loss:  25.894954128516147\n"
     ]
    },
    {
     "name": "stderr",
     "output_type": "stream",
     "text": [
      "100%|██████████| 1/1 [00:28<00:00, 28.80s/it]\n",
      " 91%|█████████ | 91/100 [2:30:46<09:39, 64.35s/it]"
     ]
    },
    {
     "name": "stdout",
     "output_type": "stream",
     "text": [
      "epoch loss:  25.6968256312574\n"
     ]
    },
    {
     "name": "stderr",
     "output_type": "stream",
     "text": [
      "100%|██████████| 1/1 [00:28<00:00, 28.68s/it]\n",
      " 92%|█████████▏| 92/100 [2:31:14<07:09, 53.69s/it]"
     ]
    },
    {
     "name": "stdout",
     "output_type": "stream",
     "text": [
      "epoch loss:  25.501758877536524\n"
     ]
    },
    {
     "name": "stderr",
     "output_type": "stream",
     "text": [
      "100%|██████████| 1/1 [00:29<00:00, 29.72s/it]\n",
      " 93%|█████████▎| 93/100 [2:31:44<05:25, 46.52s/it]"
     ]
    },
    {
     "name": "stdout",
     "output_type": "stream",
     "text": [
      "epoch loss:  25.309871945942998\n"
     ]
    },
    {
     "name": "stderr",
     "output_type": "stream",
     "text": [
      "100%|██████████| 1/1 [00:27<00:00, 27.27s/it]\n",
      " 94%|█████████▍| 94/100 [2:32:12<04:04, 40.78s/it]"
     ]
    },
    {
     "name": "stdout",
     "output_type": "stream",
     "text": [
      "epoch loss:  25.12069583633712\n"
     ]
    },
    {
     "name": "stderr",
     "output_type": "stream",
     "text": [
      "100%|██████████| 1/1 [00:26<00:00, 26.78s/it]\n",
      " 95%|█████████▌| 95/100 [2:32:38<03:03, 36.61s/it]"
     ]
    },
    {
     "name": "stdout",
     "output_type": "stream",
     "text": [
      "epoch loss:  24.934428190069138\n"
     ]
    },
    {
     "name": "stderr",
     "output_type": "stream",
     "text": [
      "100%|██████████| 1/1 [00:25<00:00, 25.85s/it]\n",
      " 96%|█████████▌| 96/100 [2:33:04<02:13, 33.42s/it]"
     ]
    },
    {
     "name": "stdout",
     "output_type": "stream",
     "text": [
      "epoch loss:  24.751398653867373\n"
     ]
    },
    {
     "name": "stderr",
     "output_type": "stream",
     "text": [
      "100%|██████████| 1/1 [00:26<00:00, 26.03s/it]\n",
      " 97%|█████████▋| 97/100 [2:33:31<01:33, 31.23s/it]"
     ]
    },
    {
     "name": "stdout",
     "output_type": "stream",
     "text": [
      "epoch loss:  24.57153579702407\n"
     ]
    },
    {
     "name": "stderr",
     "output_type": "stream",
     "text": [
      "100%|██████████| 1/1 [00:25<00:00, 25.89s/it]\n",
      " 98%|█████████▊| 98/100 [2:33:57<00:59, 29.66s/it]"
     ]
    },
    {
     "name": "stdout",
     "output_type": "stream",
     "text": [
      "epoch loss:  24.394467267029015\n"
     ]
    },
    {
     "name": "stderr",
     "output_type": "stream",
     "text": [
      "100%|██████████| 1/1 [00:26<00:00, 26.46s/it]\n",
      " 99%|█████████▉| 99/100 [2:34:23<00:28, 28.74s/it]"
     ]
    },
    {
     "name": "stdout",
     "output_type": "stream",
     "text": [
      "epoch loss:  24.220096240186976\n"
     ]
    },
    {
     "name": "stderr",
     "output_type": "stream",
     "text": [
      "100%|██████████| 1/1 [00:26<00:00, 26.46s/it]\n",
      "100%|██████████| 100/100 [2:34:50<00:00, 92.90s/it]\n"
     ]
    },
    {
     "name": "stdout",
     "output_type": "stream",
     "text": [
      "epoch loss:  24.048544779159066\n",
      "Average cross entropy loss: 22.692313394465742\n",
      "Classification accuracy: 72.53%\n"
     ]
    }
   ],
   "source": [
    "lsize = [784, 128, 64, 10] #e.g. this structure will have 3 linear activation functions and 2 ReLU fcns\n",
    "lr = 0.01\n",
    "\n",
    "nn_lr01_gd = NeuralNetwork(lsize, activation_functions.ReLU, activation_functions.dReLU, loss_functions.cross_entropy_w_softmax, loss_functions.dcross_entropy, lr)\n",
    "losses = nn_lr01_gd.train(training_images, training_labels, epochs = 100, batch_size=len(training_images)) #, debug=True)\n",
    "nn_lr01_gd_cross_ent_error, nn_lr001_gd_classification_error = nn_lr01_gd.test(test_images, test_labels)"
   ]
  },
  {
   "cell_type": "code",
   "execution_count": 8,
   "metadata": {},
   "outputs": [
    {
     "data": {
      "image/png": "[encoded data removed]",
      "text/plain": [
       "<Figure size 640x480 with 1 Axes>"
      ]
     },
     "metadata": {},
     "output_type": "display_data"
    }
   ],
   "source": [
    "plt.plot(losses)\n",
    "# plt.ylim(0, 1.5)\n",
    "plt.xlabel('Epoch')\n",
    "plt.ylabel('Cross Entropy Loss')\n",
    "plt.title('Cross Entropy Loss vs. Epoch with LR=0.01 and using GD')\n",
    "plt.show()"
   ]
  },
  {
   "cell_type": "code",
   "execution_count": 4,
   "metadata": {},
   "outputs": [
    {
     "name": "stdout",
     "output_type": "stream",
     "text": [
      "mean:  22.692313394465742\n",
      "median:  0.0\n",
      "min:  -0.0\n",
      "max:  673.856983587203\n",
      "variance:  2938.2605675079444\n",
      "skewness:  3.4432804785398434\n",
      "kurtosis:  15.667909610789298\n",
      "quartile:  [-0.         -0.         -0.          9.23896903 87.73600901]\n"
     ]
    }
   ],
   "source": [
    "error_summary = stats.describe(nn_lr01_gd_cross_ent_error)\n",
    "print(\"mean: \", np.mean(nn_lr01_gd_cross_ent_error))\n",
    "print(\"median: \", np.median(nn_lr01_gd_cross_ent_error))\n",
    "print(\"min: \", np.min(nn_lr01_gd_cross_ent_error))\n",
    "print(\"max: \", np.max(nn_lr01_gd_cross_ent_error))\n",
    "print(\"variance: \", error_summary.variance)\n",
    "print(\"skewness: \", error_summary.skewness)\n",
    "print(\"kurtosis: \", error_summary.kurtosis)\n",
    "print(\"quartile: \", np.percentile(nn_lr01_gd_cross_ent_error, q=[10, 25, 50, 75, 90]))"
   ]
  },
  {
   "cell_type": "code",
   "execution_count": 9,
   "metadata": {},
   "outputs": [
    {
     "name": "stderr",
     "output_type": "stream",
     "text": [
      "1it [00:14, 14.75s/it] [00:00<?, ?it/s]\n",
      "  1%|          | 1/100 [00:14<24:20, 14.75s/it]"
     ]
    },
    {
     "name": "stdout",
     "output_type": "stream",
     "text": [
      "batch loss:  [2.305952548980713]\n",
      "epoch loss:  2.305952548980713\n"
     ]
    },
    {
     "name": "stderr",
     "output_type": "stream",
     "text": [
      "1it [00:14, 14.86s/it]\n",
      "  2%|▏         | 2/100 [00:29<24:12, 14.82s/it]"
     ]
    },
    {
     "name": "stdout",
     "output_type": "stream",
     "text": [
      "batch loss:  [2.3056423664093018]\n",
      "epoch loss:  2.3056423664093018\n"
     ]
    },
    {
     "name": "stderr",
     "output_type": "stream",
     "text": [
      "1it [00:15, 15.30s/it]\n",
      "  3%|▎         | 3/100 [00:44<24:19, 15.04s/it]"
     ]
    },
    {
     "name": "stdout",
     "output_type": "stream",
     "text": [
      "batch loss:  [2.305332899093628]\n",
      "epoch loss:  2.305332899093628\n"
     ]
    },
    {
     "name": "stderr",
     "output_type": "stream",
     "text": [
      "1it [00:12, 12.47s/it]\n",
      "  4%|▍         | 4/100 [00:57<22:26, 14.03s/it]"
     ]
    },
    {
     "name": "stdout",
     "output_type": "stream",
     "text": [
      "batch loss:  [2.305023670196533]\n",
      "epoch loss:  2.305023670196533\n"
     ]
    },
    {
     "name": "stderr",
     "output_type": "stream",
     "text": [
      "1it [00:04,  4.58s/it]\n",
      "  5%|▌         | 5/100 [01:01<16:49, 10.62s/it]"
     ]
    },
    {
     "name": "stdout",
     "output_type": "stream",
     "text": [
      "batch loss:  [2.3047144412994385]\n",
      "epoch loss:  2.3047144412994385\n"
     ]
    },
    {
     "name": "stderr",
     "output_type": "stream",
     "text": [
      "1it [00:04,  4.88s/it]\n",
      "  6%|▌         | 6/100 [01:06<13:35,  8.67s/it]"
     ]
    },
    {
     "name": "stdout",
     "output_type": "stream",
     "text": [
      "batch loss:  [2.304405689239502]\n",
      "epoch loss:  2.304405689239502\n"
     ]
    },
    {
     "name": "stderr",
     "output_type": "stream",
     "text": [
      "1it [00:04,  4.56s/it]\n",
      "  7%|▋         | 7/100 [01:11<11:21,  7.33s/it]"
     ]
    },
    {
     "name": "stdout",
     "output_type": "stream",
     "text": [
      "batch loss:  [2.3040974140167236]\n",
      "epoch loss:  2.3040974140167236\n"
     ]
    },
    {
     "name": "stderr",
     "output_type": "stream",
     "text": [
      "1it [00:04,  4.60s/it]\n",
      "  8%|▊         | 8/100 [01:16<09:54,  6.46s/it]"
     ]
    },
    {
     "name": "stdout",
     "output_type": "stream",
     "text": [
      "batch loss:  [2.3037891387939453]\n",
      "epoch loss:  2.3037891387939453\n"
     ]
    },
    {
     "name": "stderr",
     "output_type": "stream",
     "text": [
      "1it [00:05,  5.20s/it]\n",
      "  9%|▉         | 9/100 [01:21<09:12,  6.07s/it]"
     ]
    },
    {
     "name": "stdout",
     "output_type": "stream",
     "text": [
      "batch loss:  [2.303480625152588]\n",
      "epoch loss:  2.303480625152588\n"
     ]
    },
    {
     "name": "stderr",
     "output_type": "stream",
     "text": [
      "1it [00:05,  5.12s/it]\n",
      " 10%|█         | 10/100 [01:26<08:39,  5.78s/it]"
     ]
    },
    {
     "name": "stdout",
     "output_type": "stream",
     "text": [
      "batch loss:  [2.3031728267669678]\n",
      "epoch loss:  2.3031728267669678\n"
     ]
    },
    {
     "name": "stderr",
     "output_type": "stream",
     "text": [
      "1it [00:04,  4.97s/it]\n",
      " 11%|█         | 11/100 [01:31<08:12,  5.53s/it]"
     ]
    },
    {
     "name": "stdout",
     "output_type": "stream",
     "text": [
      "batch loss:  [2.3028650283813477]\n",
      "epoch loss:  2.3028650283813477\n"
     ]
    },
    {
     "name": "stderr",
     "output_type": "stream",
     "text": [
      "1it [00:05,  5.21s/it]\n",
      " 12%|█▏        | 12/100 [01:36<07:58,  5.43s/it]"
     ]
    },
    {
     "name": "stdout",
     "output_type": "stream",
     "text": [
      "batch loss:  [2.302558422088623]\n",
      "epoch loss:  2.302558422088623\n"
     ]
    },
    {
     "name": "stderr",
     "output_type": "stream",
     "text": [
      "1it [00:05,  5.27s/it]\n",
      " 13%|█▎        | 13/100 [01:41<07:48,  5.39s/it]"
     ]
    },
    {
     "name": "stdout",
     "output_type": "stream",
     "text": [
      "batch loss:  [2.3022513389587402]\n",
      "epoch loss:  2.3022513389587402\n"
     ]
    },
    {
     "name": "stderr",
     "output_type": "stream",
     "text": [
      "1it [00:05,  5.11s/it]\n",
      " 14%|█▍        | 14/100 [01:46<07:36,  5.31s/it]"
     ]
    },
    {
     "name": "stdout",
     "output_type": "stream",
     "text": [
      "batch loss:  [2.3019444942474365]\n",
      "epoch loss:  2.3019444942474365\n"
     ]
    },
    {
     "name": "stderr",
     "output_type": "stream",
     "text": [
      "1it [00:04,  4.81s/it]\n",
      " 15%|█▌        | 15/100 [01:51<07:18,  5.16s/it]"
     ]
    },
    {
     "name": "stdout",
     "output_type": "stream",
     "text": [
      "batch loss:  [2.3016374111175537]\n",
      "epoch loss:  2.3016374111175537\n"
     ]
    },
    {
     "name": "stderr",
     "output_type": "stream",
     "text": [
      "1it [00:04,  4.93s/it]\n",
      " 16%|█▌        | 16/100 [01:56<07:07,  5.09s/it]"
     ]
    },
    {
     "name": "stdout",
     "output_type": "stream",
     "text": [
      "batch loss:  [2.301330089569092]\n",
      "epoch loss:  2.301330089569092\n"
     ]
    },
    {
     "name": "stderr",
     "output_type": "stream",
     "text": [
      "1it [00:04,  4.84s/it]\n",
      " 17%|█▋        | 17/100 [02:01<06:56,  5.02s/it]"
     ]
    },
    {
     "name": "stdout",
     "output_type": "stream",
     "text": [
      "batch loss:  [2.301023244857788]\n",
      "epoch loss:  2.301023244857788\n"
     ]
    },
    {
     "name": "stderr",
     "output_type": "stream",
     "text": [
      "1it [00:04,  4.88s/it]\n",
      " 18%|█▊        | 18/100 [02:06<06:48,  4.98s/it]"
     ]
    },
    {
     "name": "stdout",
     "output_type": "stream",
     "text": [
      "batch loss:  [2.3007164001464844]\n",
      "epoch loss:  2.3007164001464844\n"
     ]
    },
    {
     "name": "stderr",
     "output_type": "stream",
     "text": [
      "1it [00:04,  4.83s/it]\n",
      " 19%|█▉        | 19/100 [02:11<06:39,  4.93s/it]"
     ]
    },
    {
     "name": "stdout",
     "output_type": "stream",
     "text": [
      "batch loss:  [2.3004095554351807]\n",
      "epoch loss:  2.3004095554351807\n"
     ]
    },
    {
     "name": "stderr",
     "output_type": "stream",
     "text": [
      "1it [00:05,  5.11s/it]\n",
      " 20%|██        | 20/100 [02:16<06:38,  4.99s/it]"
     ]
    },
    {
     "name": "stdout",
     "output_type": "stream",
     "text": [
      "batch loss:  [2.300102949142456]\n",
      "epoch loss:  2.300102949142456\n"
     ]
    },
    {
     "name": "stderr",
     "output_type": "stream",
     "text": [
      "1it [00:05,  5.11s/it]\n",
      " 21%|██        | 21/100 [02:21<06:36,  5.02s/it]"
     ]
    },
    {
     "name": "stdout",
     "output_type": "stream",
     "text": [
      "batch loss:  [2.2997958660125732]\n",
      "epoch loss:  2.2997958660125732\n"
     ]
    },
    {
     "name": "stderr",
     "output_type": "stream",
     "text": [
      "1it [00:05,  5.35s/it]\n",
      " 22%|██▏       | 22/100 [02:26<06:39,  5.12s/it]"
     ]
    },
    {
     "name": "stdout",
     "output_type": "stream",
     "text": [
      "batch loss:  [2.2994890213012695]\n",
      "epoch loss:  2.2994890213012695\n"
     ]
    },
    {
     "name": "stderr",
     "output_type": "stream",
     "text": [
      "1it [00:05,  5.06s/it]\n",
      " 23%|██▎       | 23/100 [02:31<06:33,  5.10s/it]"
     ]
    },
    {
     "name": "stdout",
     "output_type": "stream",
     "text": [
      "batch loss:  [2.299182176589966]\n",
      "epoch loss:  2.299182176589966\n"
     ]
    },
    {
     "name": "stderr",
     "output_type": "stream",
     "text": [
      "1it [00:05,  5.30s/it]\n",
      " 24%|██▍       | 24/100 [02:37<06:32,  5.17s/it]"
     ]
    },
    {
     "name": "stdout",
     "output_type": "stream",
     "text": [
      "batch loss:  [2.2988758087158203]\n",
      "epoch loss:  2.2988758087158203\n"
     ]
    },
    {
     "name": "stderr",
     "output_type": "stream",
     "text": [
      "1it [00:04,  5.00s/it]\n",
      " 25%|██▌       | 25/100 [02:42<06:23,  5.12s/it]"
     ]
    },
    {
     "name": "stdout",
     "output_type": "stream",
     "text": [
      "batch loss:  [2.2985684871673584]\n",
      "epoch loss:  2.2985684871673584\n"
     ]
    },
    {
     "name": "stderr",
     "output_type": "stream",
     "text": [
      "1it [00:05,  5.04s/it]\n",
      " 26%|██▌       | 26/100 [02:47<06:17,  5.09s/it]"
     ]
    },
    {
     "name": "stdout",
     "output_type": "stream",
     "text": [
      "batch loss:  [2.2982614040374756]\n",
      "epoch loss:  2.2982614040374756\n"
     ]
    },
    {
     "name": "stderr",
     "output_type": "stream",
     "text": [
      "1it [00:05,  5.15s/it]\n",
      " 27%|██▋       | 27/100 [02:52<06:13,  5.11s/it]"
     ]
    },
    {
     "name": "stdout",
     "output_type": "stream",
     "text": [
      "batch loss:  [2.2979540824890137]\n",
      "epoch loss:  2.2979540824890137\n"
     ]
    },
    {
     "name": "stderr",
     "output_type": "stream",
     "text": [
      "1it [00:05,  5.16s/it]\n",
      " 28%|██▊       | 28/100 [02:57<06:09,  5.13s/it]"
     ]
    },
    {
     "name": "stdout",
     "output_type": "stream",
     "text": [
      "batch loss:  [2.29764723777771]\n",
      "epoch loss:  2.29764723777771\n"
     ]
    },
    {
     "name": "stderr",
     "output_type": "stream",
     "text": [
      "1it [00:04,  4.99s/it]\n",
      " 29%|██▉       | 29/100 [03:02<06:01,  5.09s/it]"
     ]
    },
    {
     "name": "stdout",
     "output_type": "stream",
     "text": [
      "batch loss:  [2.297339677810669]\n",
      "epoch loss:  2.297339677810669\n"
     ]
    },
    {
     "name": "stderr",
     "output_type": "stream",
     "text": [
      "1it [00:04,  4.85s/it]\n",
      " 30%|███       | 30/100 [03:07<05:51,  5.02s/it]"
     ]
    },
    {
     "name": "stdout",
     "output_type": "stream",
     "text": [
      "batch loss:  [2.2970328330993652]\n",
      "epoch loss:  2.2970328330993652\n"
     ]
    },
    {
     "name": "stderr",
     "output_type": "stream",
     "text": [
      "1it [00:03,  3.97s/it]\n",
      " 31%|███       | 31/100 [03:11<05:24,  4.71s/it]"
     ]
    },
    {
     "name": "stdout",
     "output_type": "stream",
     "text": [
      "batch loss:  [2.296725273132324]\n",
      "epoch loss:  2.296725273132324\n"
     ]
    },
    {
     "name": "stderr",
     "output_type": "stream",
     "text": [
      "1it [00:04,  4.34s/it]\n",
      " 32%|███▏      | 32/100 [03:15<05:12,  4.60s/it]"
     ]
    },
    {
     "name": "stdout",
     "output_type": "stream",
     "text": [
      "batch loss:  [2.296417713165283]\n",
      "epoch loss:  2.296417713165283\n"
     ]
    },
    {
     "name": "stderr",
     "output_type": "stream",
     "text": [
      "1it [00:03,  3.96s/it]\n",
      " 33%|███▎      | 33/100 [03:19<04:55,  4.41s/it]"
     ]
    },
    {
     "name": "stdout",
     "output_type": "stream",
     "text": [
      "batch loss:  [2.296110153198242]\n",
      "epoch loss:  2.296110153198242\n"
     ]
    },
    {
     "name": "stderr",
     "output_type": "stream",
     "text": [
      "1it [00:03,  3.90s/it]\n",
      " 34%|███▍      | 34/100 [03:23<04:40,  4.26s/it]"
     ]
    },
    {
     "name": "stdout",
     "output_type": "stream",
     "text": [
      "batch loss:  [2.295802354812622]\n",
      "epoch loss:  2.295802354812622\n"
     ]
    },
    {
     "name": "stderr",
     "output_type": "stream",
     "text": [
      "1it [00:03,  3.87s/it]\n",
      " 35%|███▌      | 35/100 [03:27<04:29,  4.14s/it]"
     ]
    },
    {
     "name": "stdout",
     "output_type": "stream",
     "text": [
      "batch loss:  [2.295494318008423]\n",
      "epoch loss:  2.295494318008423\n"
     ]
    },
    {
     "name": "stderr",
     "output_type": "stream",
     "text": [
      "1it [00:04,  4.26s/it]\n",
      " 36%|███▌      | 36/100 [03:31<04:27,  4.18s/it]"
     ]
    },
    {
     "name": "stdout",
     "output_type": "stream",
     "text": [
      "batch loss:  [2.2951853275299072]\n",
      "epoch loss:  2.2951853275299072\n"
     ]
    },
    {
     "name": "stderr",
     "output_type": "stream",
     "text": [
      "1it [00:03,  3.87s/it]\n",
      " 37%|███▋      | 37/100 [03:35<04:17,  4.09s/it]"
     ]
    },
    {
     "name": "stdout",
     "output_type": "stream",
     "text": [
      "batch loss:  [2.29487681388855]\n",
      "epoch loss:  2.29487681388855\n"
     ]
    },
    {
     "name": "stderr",
     "output_type": "stream",
     "text": [
      "1it [00:03,  3.90s/it]\n",
      " 38%|███▊      | 38/100 [03:39<04:10,  4.03s/it]"
     ]
    },
    {
     "name": "stdout",
     "output_type": "stream",
     "text": [
      "batch loss:  [2.294567346572876]\n",
      "epoch loss:  2.294567346572876\n"
     ]
    },
    {
     "name": "stderr",
     "output_type": "stream",
     "text": [
      "1it [00:03,  3.84s/it]\n",
      " 39%|███▉      | 39/100 [03:43<04:02,  3.98s/it]"
     ]
    },
    {
     "name": "stdout",
     "output_type": "stream",
     "text": [
      "batch loss:  [2.2942581176757812]\n",
      "epoch loss:  2.2942581176757812\n"
     ]
    },
    {
     "name": "stderr",
     "output_type": "stream",
     "text": [
      "1it [00:03,  3.74s/it]\n",
      " 40%|████      | 40/100 [03:47<03:54,  3.91s/it]"
     ]
    },
    {
     "name": "stdout",
     "output_type": "stream",
     "text": [
      "batch loss:  [2.29394793510437]\n",
      "epoch loss:  2.29394793510437\n"
     ]
    },
    {
     "name": "stderr",
     "output_type": "stream",
     "text": [
      "1it [00:03,  3.77s/it]\n",
      " 41%|████      | 41/100 [03:50<03:48,  3.87s/it]"
     ]
    },
    {
     "name": "stdout",
     "output_type": "stream",
     "text": [
      "batch loss:  [2.293637275695801]\n",
      "epoch loss:  2.293637275695801\n"
     ]
    },
    {
     "name": "stderr",
     "output_type": "stream",
     "text": [
      "1it [00:03,  3.52s/it]\n",
      " 42%|████▏     | 42/100 [03:54<03:38,  3.77s/it]"
     ]
    },
    {
     "name": "stdout",
     "output_type": "stream",
     "text": [
      "batch loss:  [2.2933268547058105]\n",
      "epoch loss:  2.2933268547058105\n"
     ]
    },
    {
     "name": "stderr",
     "output_type": "stream",
     "text": [
      "1it [00:02,  2.95s/it]\n",
      " 43%|████▎     | 43/100 [03:57<03:20,  3.52s/it]"
     ]
    },
    {
     "name": "stdout",
     "output_type": "stream",
     "text": [
      "batch loss:  [2.293015718460083]\n",
      "epoch loss:  2.293015718460083\n"
     ]
    },
    {
     "name": "stderr",
     "output_type": "stream",
     "text": [
      "1it [00:03,  3.08s/it]\n",
      " 44%|████▍     | 44/100 [04:00<03:09,  3.39s/it]"
     ]
    },
    {
     "name": "stdout",
     "output_type": "stream",
     "text": [
      "batch loss:  [2.2927041053771973]\n",
      "epoch loss:  2.2927041053771973\n"
     ]
    },
    {
     "name": "stderr",
     "output_type": "stream",
     "text": [
      "1it [00:03,  3.30s/it]\n",
      " 45%|████▌     | 45/100 [04:03<03:05,  3.37s/it]"
     ]
    },
    {
     "name": "stdout",
     "output_type": "stream",
     "text": [
      "batch loss:  [2.292391777038574]\n",
      "epoch loss:  2.292391777038574\n"
     ]
    },
    {
     "name": "stderr",
     "output_type": "stream",
     "text": [
      "1it [00:03,  3.28s/it]\n",
      " 46%|████▌     | 46/100 [04:07<03:00,  3.34s/it]"
     ]
    },
    {
     "name": "stdout",
     "output_type": "stream",
     "text": [
      "batch loss:  [2.292079448699951]\n",
      "epoch loss:  2.292079448699951\n"
     ]
    },
    {
     "name": "stderr",
     "output_type": "stream",
     "text": [
      "1it [00:02,  2.98s/it]\n",
      " 47%|████▋     | 47/100 [04:10<02:51,  3.23s/it]"
     ]
    },
    {
     "name": "stdout",
     "output_type": "stream",
     "text": [
      "batch loss:  [2.291766405105591]\n",
      "epoch loss:  2.291766405105591\n"
     ]
    },
    {
     "name": "stderr",
     "output_type": "stream",
     "text": [
      "1it [00:03,  3.03s/it]\n",
      " 48%|████▊     | 48/100 [04:13<02:44,  3.17s/it]"
     ]
    },
    {
     "name": "stdout",
     "output_type": "stream",
     "text": [
      "batch loss:  [2.291452169418335]\n",
      "epoch loss:  2.291452169418335\n"
     ]
    },
    {
     "name": "stderr",
     "output_type": "stream",
     "text": [
      "1it [00:03,  3.00s/it]\n",
      " 49%|████▉     | 49/100 [04:16<02:39,  3.12s/it]"
     ]
    },
    {
     "name": "stdout",
     "output_type": "stream",
     "text": [
      "batch loss:  [2.291137933731079]\n",
      "epoch loss:  2.291137933731079\n"
     ]
    },
    {
     "name": "stderr",
     "output_type": "stream",
     "text": [
      "1it [00:03,  3.12s/it]\n",
      " 50%|█████     | 50/100 [04:19<02:36,  3.12s/it]"
     ]
    },
    {
     "name": "stdout",
     "output_type": "stream",
     "text": [
      "batch loss:  [2.290823221206665]\n",
      "epoch loss:  2.290823221206665\n"
     ]
    },
    {
     "name": "stderr",
     "output_type": "stream",
     "text": [
      "1it [00:03,  3.00s/it]\n",
      " 51%|█████     | 51/100 [04:22<02:31,  3.09s/it]"
     ]
    },
    {
     "name": "stdout",
     "output_type": "stream",
     "text": [
      "batch loss:  [2.2905080318450928]\n",
      "epoch loss:  2.2905080318450928\n"
     ]
    },
    {
     "name": "stderr",
     "output_type": "stream",
     "text": [
      "1it [00:02,  2.88s/it]\n",
      " 52%|█████▏    | 52/100 [04:25<02:25,  3.03s/it]"
     ]
    },
    {
     "name": "stdout",
     "output_type": "stream",
     "text": [
      "batch loss:  [2.290191888809204]\n",
      "epoch loss:  2.290191888809204\n"
     ]
    },
    {
     "name": "stderr",
     "output_type": "stream",
     "text": [
      "1it [00:02,  2.97s/it]\n",
      " 53%|█████▎    | 53/100 [04:28<02:21,  3.01s/it]"
     ]
    },
    {
     "name": "stdout",
     "output_type": "stream",
     "text": [
      "batch loss:  [2.2898757457733154]\n",
      "epoch loss:  2.2898757457733154\n"
     ]
    },
    {
     "name": "stderr",
     "output_type": "stream",
     "text": []
    }
   ],
   "source": [
    "import torch\n",
    "import torch.nn as nn\n",
    "from torchvision import datasets\n",
    "from torchvision.transforms import ToTensor\n",
    "from torch.utils.data import DataLoader\n",
    "import torch.optim as optim\n",
    "from torch.utils.data import Dataset\n",
    "import process_MNIST\n",
    "from init_Pytorch_NN import FeedForwardNN\n",
    "\n",
    "training_data = datasets.MNIST(\n",
    "    root=\"data\",\n",
    "    train=True,\n",
    "    download=True,\n",
    "    transform=ToTensor()\n",
    ")\n",
    "\n",
    "test_data = datasets.MNIST(\n",
    "    root=\"data\",\n",
    "    train=False,\n",
    "    download=True,\n",
    "    transform=ToTensor()\n",
    ")\n",
    "\n",
    "batch_size = len(training_data)\n",
    "\n",
    "train_dataloader = DataLoader(training_data, batch_size=batch_size, shuffle=True)\n",
    "test_dataloader = DataLoader(test_data, batch_size=batch_size, shuffle=True)\n",
    "\n",
    "\n",
    "#Define NN architecture. Input size (first layer) and output size (last layer) can't change.\n",
    "#Will have linear activation functions between each layer, and ReLU activation functions after \n",
    "#each linear activation function except between last hidden layer and output layer. \n",
    "# lsize = [784, 128, 64, 10] #e.g. this structure will have 3 linear activation functions and 2 ReLU fcns\n",
    "input_size = 784  # Example: 28x28 pixels for MNIST dataset\n",
    "hidden_size = [128, 64]\n",
    "num_classes = 10  # Example: Number of classes for MNIST dataset\n",
    "learning_rate = 0.01\n",
    "num_epochs = 100\n",
    "\n",
    "#initialize NN \n",
    "# nn = NeuralNetwork(lsize, activation_functions.ReLU, activation_functions.dReLU, loss_functions.cross_entropy_w_softmax, loss_functions.dcross_entropy)\n",
    "model = FeedForwardNN(input_size, hidden_size, num_classes)\n",
    "\n",
    "##train NN (example uses mini-batch)\n",
    "# nn.train(training_images, training_labels, epochs = 10, batch_size=1)\n",
    "# model.train(num_epochs, batch_size=1, learning_rate=learning_rate,  training_data=training_data)\n",
    "model.train(num_epochs, batch_size=input_size, learning_rate=learning_rate,  train_dataloader=train_dataloader)\n",
    "#gradient descent means batch size = # training samples (# steps you take = # epochs)\n",
    "#stochastic gradient descent means batch size = 1\n"
   ]
  },
  {
   "cell_type": "code",
   "execution_count": null,
   "metadata": {},
   "outputs": [
    {
     "name": "stdout",
     "output_type": "stream",
     "text": [
      "Average cross entropy loss: 2.302819\n",
      "Classification accuracy: 10.17%\n"
     ]
    },
    {
     "name": "stderr",
     "output_type": "stream",
     "text": [
      "C:\\Users\\pcher\\AppData\\Roaming\\Python\\Python310\\site-packages\\torchvision\\datasets\\mnist.py:70: UserWarning: test_labels has been renamed targets\n",
      "  warnings.warn(\"test_labels has been renamed targets\")\n"
     ]
    }
   ],
   "source": [
    "\n",
    "##test NN\n",
    "# cross_ent_error, classification_error = nn.test(test_images, test_labels)\n",
    "cross_ent_errors, classification_matches = model.test(test_dataloader, input_size=input_size)\n",
    "classification_matches_fixed = [x[0] for x in classification_matches]\n",
    "\n",
    "print('Average cross entropy loss:', np.mean(cross_ent_errors))\n",
    "print(f\"Classification accuracy: {(sum(classification_matches_fixed)/test_data.test_labels.size(0))*100}%\")"
   ]
  },
  {
   "cell_type": "code",
   "execution_count": null,
   "metadata": {},
   "outputs": [
    {
     "name": "stdout",
     "output_type": "stream",
     "text": [
      "mean:  2.302819\n",
      "median:  2.302819\n",
      "min:  2.302819\n",
      "max:  2.302819\n",
      "variance:  nan\n",
      "skewness:  nan\n",
      "kurtosis:  nan\n",
      "quartile:  [2.30281901 2.30281901 2.30281901 2.30281901 2.30281901]\n"
     ]
    },
    {
     "name": "stderr",
     "output_type": "stream",
     "text": [
      "C:\\Users\\pcher\\AppData\\Local\\Temp\\ipykernel_11420\\44925478.py:1: RuntimeWarning: Precision loss occurred in moment calculation due to catastrophic cancellation. This occurs when the data are nearly identical. Results may be unreliable.\n",
      "  error_summary = stats.describe(cross_ent_errors)\n",
      "c:\\ProgramData\\anaconda3\\lib\\site-packages\\scipy\\stats\\_stats_py.py:1214: RuntimeWarning: divide by zero encountered in divide\n",
      "  var *= np.divide(n, n-ddof)  # to avoid error on division by zero\n",
      "c:\\ProgramData\\anaconda3\\lib\\site-packages\\scipy\\stats\\_stats_py.py:1214: RuntimeWarning: invalid value encountered in double_scalars\n",
      "  var *= np.divide(n, n-ddof)  # to avoid error on division by zero\n",
      "c:\\ProgramData\\anaconda3\\lib\\site-packages\\scipy\\stats\\_stats_py.py:1522: RuntimeWarning: Precision loss occurred in moment calculation due to catastrophic cancellation. This occurs when the data are nearly identical. Results may be unreliable.\n",
      "  sk = skew(a, axis, bias=bias)\n",
      "c:\\ProgramData\\anaconda3\\lib\\site-packages\\scipy\\stats\\_stats_py.py:1523: RuntimeWarning: Precision loss occurred in moment calculation due to catastrophic cancellation. This occurs when the data are nearly identical. Results may be unreliable.\n",
      "  kurt = kurtosis(a, axis, bias=bias)\n"
     ]
    }
   ],
   "source": [
    "error_summary = stats.describe(cross_ent_errors)\n",
    "print(\"mean: \", np.mean(cross_ent_errors))\n",
    "print(\"median: \", np.median(cross_ent_errors))\n",
    "print(\"min: \", np.min(cross_ent_errors))\n",
    "print(\"max: \", np.max(cross_ent_errors))\n",
    "print(\"variance: \", error_summary.variance)\n",
    "print(\"skewness: \", error_summary.skewness)\n",
    "print(\"kurtosis: \", error_summary.kurtosis)\n",
    "print(\"quartile: \", np.percentile(cross_ent_errors, q=[10, 25, 50, 75, 90]))"
   ]
  }
 ],
 "metadata": {
  "kernelspec": {
   "display_name": "base",
   "language": "python",
   "name": "python3"
  },
  "language_info": {
   "codemirror_mode": {
    "name": "ipython",
    "version": 3
   },
   "file_extension": ".py",
   "mimetype": "text/x-python",
   "name": "python",
   "nbconvert_exporter": "python",
   "pygments_lexer": "ipython3",
   "version": "3.10.9"
  },
  "orig_nbformat": 4
 },
 "nbformat": 4,
 "nbformat_minor": 2
}
